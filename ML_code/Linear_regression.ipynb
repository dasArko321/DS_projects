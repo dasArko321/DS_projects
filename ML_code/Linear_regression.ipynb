{
  "nbformat": 4,
  "nbformat_minor": 0,
  "metadata": {
    "colab": {
      "name": "02_regression.ipynb",
      "provenance": []
    },
    "kernelspec": {
      "name": "python3",
      "display_name": "Python 3"
    }
  },
  "cells": [
    {
      "cell_type": "markdown",
      "metadata": {
        "id": "4U1vHlTvLmZl"
      },
      "source": [
        "this is a regression notebook to for the used car data"
      ]
    },
    {
      "cell_type": "code",
      "metadata": {
        "id": "T16lak55T2mZ"
      },
      "source": [
        "import pandas as pd\n",
        "import numpy as np\n",
        "import matplotlib.pyplot as plt\n",
        "import statsmodels.api as sm\n",
        "from sklearn.model_selection import train_test_split\n",
        "from sklearn.linear_model import LinearRegression\n",
        "from sklearn import metrics\n",
        "from sklearn.preprocessing import PolynomialFeatures\n",
        "from sklearn.linear_model import Ridge\n",
        "from sklearn.linear_model import Lasso\n",
        "from sklearn.linear_model import ElasticNet\n"
      ],
      "execution_count": null,
      "outputs": []
    },
    {
      "cell_type": "code",
      "metadata": {
        "id": "9cKWLRr3PPTU"
      },
      "source": [
        "data = pd.read_csv('/content/drive/MyDrive/end2end_DS/100K_UK_used_car/data_sets/final_dataSets/02_extract.csv')"
      ],
      "execution_count": null,
      "outputs": []
    },
    {
      "cell_type": "code",
      "metadata": {
        "id": "jEOJpb9fRlbE"
      },
      "source": [
        "X = data.drop(['price'], axis = 1)\n",
        "Y = data['price']\n",
        "\n",
        "x_train, x_test, y_train, y_test = train_test_split( X, Y, test_size=0.20, random_state=1, shuffle = True)"
      ],
      "execution_count": null,
      "outputs": []
    },
    {
      "cell_type": "code",
      "metadata": {
        "colab": {
          "base_uri": "https://localhost:8080/"
        },
        "id": "axF_5rd2THSL",
        "outputId": "dc2942bf-a4fb-4025-fcb0-7c14098bccc6"
      },
      "source": [
        "x_train.shape"
      ],
      "execution_count": null,
      "outputs": [
        {
          "output_type": "execute_result",
          "data": {
            "text/plain": [
              "(86602, 20)"
            ]
          },
          "metadata": {
            "tags": []
          },
          "execution_count": 20
        }
      ]
    },
    {
      "cell_type": "code",
      "metadata": {
        "colab": {
          "base_uri": "https://localhost:8080/"
        },
        "id": "iaPqIXldTypy",
        "outputId": "2ed70b25-a8aa-44c5-a3b0-1f079ce748e1"
      },
      "source": [
        "# lets create the OLS model\n",
        "# step1: add constant with x values\n",
        "x_train1 = sm.add_constant(x_train)\n",
        "#step2 : fit model and check the co-efficients\n",
        "model = sm.OLS(y_train, x_train1)\n",
        "res = model.fit()\n",
        "print(res.summary())"
      ],
      "execution_count": null,
      "outputs": [
        {
          "output_type": "stream",
          "text": [
            "                            OLS Regression Results                            \n",
            "==============================================================================\n",
            "Dep. Variable:                  price   R-squared:                       0.824\n",
            "Model:                            OLS   Adj. R-squared:                  0.824\n",
            "Method:                 Least Squares   F-statistic:                 2.028e+04\n",
            "Date:                Thu, 04 Feb 2021   Prob (F-statistic):               0.00\n",
            "Time:                        01:59:07   Log-Likelihood:                 7157.2\n",
            "No. Observations:               86602   AIC:                        -1.427e+04\n",
            "Df Residuals:                   86581   BIC:                        -1.408e+04\n",
            "Df Model:                          20                                         \n",
            "Covariance Type:            nonrobust                                         \n",
            "==========================================================================================\n",
            "                             coef    std err          t      P>|t|      [0.025      0.975]\n",
            "------------------------------------------------------------------------------------------\n",
            "const                     10.2970      0.093    111.252      0.000      10.116      10.478\n",
            "mileage                   -0.0129      0.001    -18.794      0.000      -0.014      -0.012\n",
            "engineSize                 0.7482      0.004    203.750      0.000       0.741       0.755\n",
            "carAge                    -0.5773      0.002   -280.275      0.000      -0.581      -0.573\n",
            "transmission_Automatic     0.0026      0.091      0.028      0.977      -0.176       0.181\n",
            "transmission_Manual       -0.1443      0.091     -1.586      0.113      -0.323       0.034\n",
            "transmission_Semi-Auto     0.0149      0.091      0.164      0.870      -0.163       0.193\n",
            "fuelType_Diesel           -0.1425      0.016     -8.902      0.000      -0.174      -0.111\n",
            "fuelType_Electric          0.0945      0.130      0.729      0.466      -0.160       0.349\n",
            "fuelType_Hybrid            0.0578      0.016      3.513      0.000       0.026       0.090\n",
            "fuelType_Petrol           -0.0734      0.016     -4.599      0.000      -0.105      -0.042\n",
            "make_audi                  0.1486      0.004     34.307      0.000       0.140       0.157\n",
            "make_bmw                   0.0108      0.004      2.422      0.015       0.002       0.020\n",
            "make_cclass                0.0817      0.006     14.815      0.000       0.071       0.092\n",
            "make_ford                 -0.0508      0.004    -13.169      0.000      -0.058      -0.043\n",
            "make_hyundi               -0.1779      0.005    -35.882      0.000      -0.188      -0.168\n",
            "make_merc                  0.1172      0.004     26.847      0.000       0.109       0.126\n",
            "make_skoda                -0.1145      0.005    -24.620      0.000      -0.124      -0.105\n",
            "make_toyota               -0.2178      0.005    -45.128      0.000      -0.227      -0.208\n",
            "make_vauxhall             -0.2928      0.004    -72.672      0.000      -0.301      -0.285\n",
            "make_vw                   -0.0063      0.004     -1.581      0.114      -0.014       0.002\n",
            "==============================================================================\n",
            "Omnibus:                    18828.282   Durbin-Watson:                   2.006\n",
            "Prob(Omnibus):                  0.000   Jarque-Bera (JB):           122978.495\n",
            "Skew:                          -0.889   Prob(JB):                         0.00\n",
            "Kurtosis:                       8.561   Cond. No.                     2.35e+03\n",
            "==============================================================================\n",
            "\n",
            "Warnings:\n",
            "[1] Standard Errors assume that the covariance matrix of the errors is correctly specified.\n",
            "[2] The condition number is large, 2.35e+03. This might indicate that there are\n",
            "strong multicollinearity or other numerical problems.\n"
          ],
          "name": "stdout"
        }
      ]
    },
    {
      "cell_type": "code",
      "metadata": {
        "colab": {
          "base_uri": "https://localhost:8080/"
        },
        "id": "JWrMeetHWyBi",
        "outputId": "74cb4b17-4cc0-4e68-992e-4731afc8e6c5"
      },
      "source": [
        "# stepwise regression\n",
        "x_train1 = x_train1.drop(['transmission_Automatic', 'fuelType_Electric', 'make_vw'], axis = 1)\n",
        "model1 = sm.OLS(y_train, x_train1)\n",
        "res = model1.fit()\n",
        "print(res.summary())"
      ],
      "execution_count": null,
      "outputs": [
        {
          "output_type": "stream",
          "text": [
            "                            OLS Regression Results                            \n",
            "==============================================================================\n",
            "Dep. Variable:                  price   R-squared:                       0.824\n",
            "Model:                            OLS   Adj. R-squared:                  0.824\n",
            "Method:                 Least Squares   F-statistic:                 2.385e+04\n",
            "Date:                Thu, 04 Feb 2021   Prob (F-statistic):               0.00\n",
            "Time:                        02:00:23   Log-Likelihood:                 7155.7\n",
            "No. Observations:               86602   AIC:                        -1.428e+04\n",
            "Df Residuals:                   86584   BIC:                        -1.411e+04\n",
            "Df Model:                          17                                         \n",
            "Covariance Type:            nonrobust                                         \n",
            "==========================================================================================\n",
            "                             coef    std err          t      P>|t|      [0.025      0.975]\n",
            "------------------------------------------------------------------------------------------\n",
            "const                     10.2957      0.017    617.866      0.000      10.263      10.328\n",
            "mileage                   -0.0129      0.001    -18.754      0.000      -0.014      -0.012\n",
            "engineSize                 0.7477      0.004    204.463      0.000       0.740       0.755\n",
            "carAge                    -0.5773      0.002   -280.334      0.000      -0.581      -0.573\n",
            "transmission_Manual       -0.1468      0.002    -61.366      0.000      -0.152      -0.142\n",
            "transmission_Semi-Auto     0.0120      0.002      5.055      0.000       0.007       0.017\n",
            "fuelType_Diesel           -0.1433      0.016     -9.021      0.000      -0.174      -0.112\n",
            "fuelType_Hybrid            0.0570      0.016      3.491      0.000       0.025       0.089\n",
            "fuelType_Petrol           -0.0742      0.016     -4.688      0.000      -0.105      -0.043\n",
            "make_audi                  0.1534      0.003     49.841      0.000       0.147       0.159\n",
            "make_bmw                   0.0157      0.003      4.923      0.000       0.009       0.022\n",
            "make_cclass                0.0866      0.005     19.058      0.000       0.078       0.096\n",
            "make_ford                 -0.0463      0.003    -17.885      0.000      -0.051      -0.041\n",
            "make_hyundi               -0.1733      0.004    -43.186      0.000      -0.181      -0.165\n",
            "make_merc                  0.1221      0.003     39.920      0.000       0.116       0.128\n",
            "make_skoda                -0.1098      0.004    -30.432      0.000      -0.117      -0.103\n",
            "make_toyota               -0.2132      0.004    -55.401      0.000      -0.221      -0.206\n",
            "make_vauxhall             -0.2882      0.003   -102.805      0.000      -0.294      -0.283\n",
            "==============================================================================\n",
            "Omnibus:                    18808.476   Durbin-Watson:                   2.006\n",
            "Prob(Omnibus):                  0.000   Jarque-Bera (JB):           122649.657\n",
            "Skew:                          -0.888   Prob(JB):                         0.00\n",
            "Kurtosis:                       8.553   Cond. No.                         407.\n",
            "==============================================================================\n",
            "\n",
            "Warnings:\n",
            "[1] Standard Errors assume that the covariance matrix of the errors is correctly specified.\n"
          ],
          "name": "stdout"
        }
      ]
    },
    {
      "cell_type": "code",
      "metadata": {
        "id": "2FITqeTYeP-A"
      },
      "source": [
        "x_train1 = x_train1.drop(['const'], axis = 1)"
      ],
      "execution_count": null,
      "outputs": []
    },
    {
      "cell_type": "code",
      "metadata": {
        "colab": {
          "base_uri": "https://localhost:8080/"
        },
        "id": "fofgA01WgGU2",
        "outputId": "92003800-4642-4877-c647-cc2bc2cdcbfc"
      },
      "source": [
        "regressor = LinearRegression()\n",
        "regressor.fit(x_train1, y_train)"
      ],
      "execution_count": null,
      "outputs": [
        {
          "output_type": "execute_result",
          "data": {
            "text/plain": [
              "LinearRegression(copy_X=True, fit_intercept=True, n_jobs=None, normalize=False)"
            ]
          },
          "metadata": {
            "tags": []
          },
          "execution_count": 25
        }
      ]
    },
    {
      "cell_type": "code",
      "metadata": {
        "id": "0hrrQe0HhRtO"
      },
      "source": [
        "x_test1 = x_test.drop(['transmission_Automatic', 'fuelType_Electric', 'make_vw'], axis = 1)\n",
        "y_pred = regressor.predict(x_test1)"
      ],
      "execution_count": null,
      "outputs": []
    },
    {
      "cell_type": "code",
      "metadata": {
        "colab": {
          "base_uri": "https://localhost:8080/",
          "height": 558
        },
        "id": "OtZx5m0PnqCc",
        "outputId": "aab1470b-4485-464c-e97a-0509aef9432e"
      },
      "source": [
        "coeff_df = pd.DataFrame(regressor.coef_, x_test1.columns, columns=['Coefficient'])\n",
        "coeff_df"
      ],
      "execution_count": null,
      "outputs": [
        {
          "output_type": "execute_result",
          "data": {
            "text/html": [
              "<div>\n",
              "<style scoped>\n",
              "    .dataframe tbody tr th:only-of-type {\n",
              "        vertical-align: middle;\n",
              "    }\n",
              "\n",
              "    .dataframe tbody tr th {\n",
              "        vertical-align: top;\n",
              "    }\n",
              "\n",
              "    .dataframe thead th {\n",
              "        text-align: right;\n",
              "    }\n",
              "</style>\n",
              "<table border=\"1\" class=\"dataframe\">\n",
              "  <thead>\n",
              "    <tr style=\"text-align: right;\">\n",
              "      <th></th>\n",
              "      <th>Coefficient</th>\n",
              "    </tr>\n",
              "  </thead>\n",
              "  <tbody>\n",
              "    <tr>\n",
              "      <th>mileage</th>\n",
              "      <td>-0.012893</td>\n",
              "    </tr>\n",
              "    <tr>\n",
              "      <th>engineSize</th>\n",
              "      <td>0.747658</td>\n",
              "    </tr>\n",
              "    <tr>\n",
              "      <th>carAge</th>\n",
              "      <td>-0.577349</td>\n",
              "    </tr>\n",
              "    <tr>\n",
              "      <th>transmission_Manual</th>\n",
              "      <td>-0.146837</td>\n",
              "    </tr>\n",
              "    <tr>\n",
              "      <th>transmission_Semi-Auto</th>\n",
              "      <td>0.012042</td>\n",
              "    </tr>\n",
              "    <tr>\n",
              "      <th>fuelType_Diesel</th>\n",
              "      <td>-0.143286</td>\n",
              "    </tr>\n",
              "    <tr>\n",
              "      <th>fuelType_Hybrid</th>\n",
              "      <td>0.057047</td>\n",
              "    </tr>\n",
              "    <tr>\n",
              "      <th>fuelType_Petrol</th>\n",
              "      <td>-0.074238</td>\n",
              "    </tr>\n",
              "    <tr>\n",
              "      <th>make_audi</th>\n",
              "      <td>0.153436</td>\n",
              "    </tr>\n",
              "    <tr>\n",
              "      <th>make_bmw</th>\n",
              "      <td>0.015725</td>\n",
              "    </tr>\n",
              "    <tr>\n",
              "      <th>make_cclass</th>\n",
              "      <td>0.086610</td>\n",
              "    </tr>\n",
              "    <tr>\n",
              "      <th>make_ford</th>\n",
              "      <td>-0.046288</td>\n",
              "    </tr>\n",
              "    <tr>\n",
              "      <th>make_hyundi</th>\n",
              "      <td>-0.173260</td>\n",
              "    </tr>\n",
              "    <tr>\n",
              "      <th>make_merc</th>\n",
              "      <td>0.122082</td>\n",
              "    </tr>\n",
              "    <tr>\n",
              "      <th>make_skoda</th>\n",
              "      <td>-0.109832</td>\n",
              "    </tr>\n",
              "    <tr>\n",
              "      <th>make_toyota</th>\n",
              "      <td>-0.213196</td>\n",
              "    </tr>\n",
              "    <tr>\n",
              "      <th>make_vauxhall</th>\n",
              "      <td>-0.288205</td>\n",
              "    </tr>\n",
              "  </tbody>\n",
              "</table>\n",
              "</div>"
            ],
            "text/plain": [
              "                        Coefficient\n",
              "mileage                   -0.012893\n",
              "engineSize                 0.747658\n",
              "carAge                    -0.577349\n",
              "transmission_Manual       -0.146837\n",
              "transmission_Semi-Auto     0.012042\n",
              "fuelType_Diesel           -0.143286\n",
              "fuelType_Hybrid            0.057047\n",
              "fuelType_Petrol           -0.074238\n",
              "make_audi                  0.153436\n",
              "make_bmw                   0.015725\n",
              "make_cclass                0.086610\n",
              "make_ford                 -0.046288\n",
              "make_hyundi               -0.173260\n",
              "make_merc                  0.122082\n",
              "make_skoda                -0.109832\n",
              "make_toyota               -0.213196\n",
              "make_vauxhall             -0.288205"
            ]
          },
          "metadata": {
            "tags": []
          },
          "execution_count": 27
        }
      ]
    },
    {
      "cell_type": "code",
      "metadata": {
        "colab": {
          "base_uri": "https://localhost:8080/",
          "height": 407
        },
        "id": "TGZrJ2cPoIXM",
        "outputId": "f8a236c6-2f48-4afa-eb43-ae0764f387bc"
      },
      "source": [
        "y_test = np.exp(y_test)\n",
        "y_pred = np.exp(y_pred)\n",
        "\n",
        "df = pd.DataFrame({'Actual': y_test, 'Predicted': y_pred})\n",
        "df\n"
      ],
      "execution_count": null,
      "outputs": [
        {
          "output_type": "execute_result",
          "data": {
            "text/html": [
              "<div>\n",
              "<style scoped>\n",
              "    .dataframe tbody tr th:only-of-type {\n",
              "        vertical-align: middle;\n",
              "    }\n",
              "\n",
              "    .dataframe tbody tr th {\n",
              "        vertical-align: top;\n",
              "    }\n",
              "\n",
              "    .dataframe thead th {\n",
              "        text-align: right;\n",
              "    }\n",
              "</style>\n",
              "<table border=\"1\" class=\"dataframe\">\n",
              "  <thead>\n",
              "    <tr style=\"text-align: right;\">\n",
              "      <th></th>\n",
              "      <th>Actual</th>\n",
              "      <th>Predicted</th>\n",
              "    </tr>\n",
              "  </thead>\n",
              "  <tbody>\n",
              "    <tr>\n",
              "      <th>10326</th>\n",
              "      <td>11100.0</td>\n",
              "      <td>7951.335293</td>\n",
              "    </tr>\n",
              "    <tr>\n",
              "      <th>40134</th>\n",
              "      <td>17998.0</td>\n",
              "      <td>13337.424638</td>\n",
              "    </tr>\n",
              "    <tr>\n",
              "      <th>70027</th>\n",
              "      <td>17595.0</td>\n",
              "      <td>17637.642757</td>\n",
              "    </tr>\n",
              "    <tr>\n",
              "      <th>3394</th>\n",
              "      <td>9509.0</td>\n",
              "      <td>13823.405680</td>\n",
              "    </tr>\n",
              "    <tr>\n",
              "      <th>78386</th>\n",
              "      <td>12990.0</td>\n",
              "      <td>14029.815446</td>\n",
              "    </tr>\n",
              "    <tr>\n",
              "      <th>...</th>\n",
              "      <td>...</td>\n",
              "      <td>...</td>\n",
              "    </tr>\n",
              "    <tr>\n",
              "      <th>92401</th>\n",
              "      <td>12895.0</td>\n",
              "      <td>10846.922148</td>\n",
              "    </tr>\n",
              "    <tr>\n",
              "      <th>91694</th>\n",
              "      <td>4200.0</td>\n",
              "      <td>10007.872683</td>\n",
              "    </tr>\n",
              "    <tr>\n",
              "      <th>83363</th>\n",
              "      <td>24970.0</td>\n",
              "      <td>32275.469205</td>\n",
              "    </tr>\n",
              "    <tr>\n",
              "      <th>3269</th>\n",
              "      <td>3990.0</td>\n",
              "      <td>4358.440061</td>\n",
              "    </tr>\n",
              "    <tr>\n",
              "      <th>21742</th>\n",
              "      <td>33789.0</td>\n",
              "      <td>30196.489083</td>\n",
              "    </tr>\n",
              "  </tbody>\n",
              "</table>\n",
              "<p>21651 rows × 2 columns</p>\n",
              "</div>"
            ],
            "text/plain": [
              "        Actual     Predicted\n",
              "10326  11100.0   7951.335293\n",
              "40134  17998.0  13337.424638\n",
              "70027  17595.0  17637.642757\n",
              "3394    9509.0  13823.405680\n",
              "78386  12990.0  14029.815446\n",
              "...        ...           ...\n",
              "92401  12895.0  10846.922148\n",
              "91694   4200.0  10007.872683\n",
              "83363  24970.0  32275.469205\n",
              "3269    3990.0   4358.440061\n",
              "21742  33789.0  30196.489083\n",
              "\n",
              "[21651 rows x 2 columns]"
            ]
          },
          "metadata": {
            "tags": []
          },
          "execution_count": 28
        }
      ]
    },
    {
      "cell_type": "code",
      "metadata": {
        "id": "OFdhsfPPopVb"
      },
      "source": [
        "df.to_csv('/content/drive/MyDrive/end2end_DS/100K_UK_used_car/data_sets/final_dataSets/01_prediction.csv', index = False)"
      ],
      "execution_count": null,
      "outputs": []
    },
    {
      "cell_type": "code",
      "metadata": {
        "colab": {
          "base_uri": "https://localhost:8080/"
        },
        "id": "Wyp59yh_oOJz",
        "outputId": "bf86d480-aa0e-40ad-808d-667215a109f7"
      },
      "source": [
        "print('Mean Absolute Error:', metrics.mean_absolute_error(y_test, y_pred))\n",
        "print('Mean Squared Error:', metrics.mean_squared_error(y_test, y_pred))\n",
        "print('Root Mean Squared Error:', np.sqrt(metrics.mean_squared_error(y_test, y_pred)))"
      ],
      "execution_count": null,
      "outputs": [
        {
          "output_type": "stream",
          "text": [
            "Mean Absolute Error: 2824.262105612366\n",
            "Mean Squared Error: 21294191.435545214\n",
            "Root Mean Squared Error: 4614.562973407689\n"
          ],
          "name": "stdout"
        }
      ]
    },
    {
      "cell_type": "markdown",
      "metadata": {
        "id": "5dVaCAzD0eS2"
      },
      "source": [
        "#####################################################################################"
      ]
    },
    {
      "cell_type": "code",
      "metadata": {
        "id": "bjhCNtU6sIyb"
      },
      "source": [
        "# let's do it without normalizing data\n",
        "data = pd.read_csv('/content/drive/MyDrive/end2end_DS/100K_UK_used_car/data_sets/final_dataSets/01_extract.csv')\n",
        "\n",
        "X = data.drop(['price' ], axis = 1)\n",
        "Y = data['price']\n",
        "x_train, x_test, y_train, y_test = train_test_split( X, Y, test_size=0.20, random_state=1, shuffle = True)\n"
      ],
      "execution_count": null,
      "outputs": []
    },
    {
      "cell_type": "code",
      "metadata": {
        "colab": {
          "base_uri": "https://localhost:8080/"
        },
        "id": "V9LMxXRXxrd3",
        "outputId": "b33dbf9e-a5c9-4eaf-9646-0ed8ce8cd915"
      },
      "source": [
        "x_train1 = sm.add_constant(x_train)\n",
        "model1 = sm.OLS(y_train, x_train1)\n",
        "res = model1.fit()\n",
        "print(res.summary())"
      ],
      "execution_count": null,
      "outputs": [
        {
          "output_type": "stream",
          "text": [
            "                            OLS Regression Results                            \n",
            "==============================================================================\n",
            "Dep. Variable:                  price   R-squared:                       0.773\n",
            "Model:                            OLS   Adj. R-squared:                  0.773\n",
            "Method:                 Least Squares   F-statistic:                 1.477e+04\n",
            "Date:                Thu, 04 Feb 2021   Prob (F-statistic):               0.00\n",
            "Time:                        02:05:06   Log-Likelihood:            -8.5387e+05\n",
            "No. Observations:               86602   AIC:                         1.708e+06\n",
            "Df Residuals:                   86581   BIC:                         1.708e+06\n",
            "Df Model:                          20                                         \n",
            "Covariance Type:            nonrobust                                         \n",
            "==========================================================================================\n",
            "                             coef    std err          t      P>|t|      [0.025      0.975]\n",
            "------------------------------------------------------------------------------------------\n",
            "const                   5501.3754    467.917     11.757      0.000    4584.262    6418.488\n",
            "mileage                   -0.0939      0.001    -80.435      0.000      -0.096      -0.092\n",
            "engineSize              1.029e+04     39.787    258.743      0.000    1.02e+04    1.04e+04\n",
            "carAge                 -1556.4397     11.375   -136.830      0.000   -1578.734   -1534.145\n",
            "transmission_Automatic  2199.1641    406.933      5.404      0.000    1401.579    2996.749\n",
            "transmission_Manual      268.4633    406.764      0.660      0.509    -528.792    1065.718\n",
            "transmission_Other       262.3384   1497.974      0.175      0.861   -2673.677    3198.354\n",
            "transmission_Semi-Auto  2771.4096    407.106      6.808      0.000    1973.486    3569.333\n",
            "fuelType_Diesel         -554.7979    474.702     -1.169      0.243   -1485.209     375.614\n",
            "fuelType_Electric        -90.7983   2211.245     -0.041      0.967   -4424.819    4243.222\n",
            "fuelType_Hybrid         2349.9418    480.395      4.892      0.000    1408.372    3291.512\n",
            "fuelType_Other          2333.3616    543.010      4.297      0.000    1269.067    3397.656\n",
            "fuelType_Petrol         1463.6683    474.236      3.086      0.002     534.170    2393.166\n",
            "make_audi               3799.7133     66.356     57.263      0.000    3669.657    3929.770\n",
            "make_bmw                1122.8249     68.259     16.449      0.000     989.038    1256.612\n",
            "make_cclass             2309.3014     91.111     25.346      0.000    2130.725    2487.878\n",
            "make_focus               897.5249     79.706     11.260      0.000     741.301    1053.749\n",
            "make_ford                 83.6762     59.024      1.418      0.156     -32.009     199.362\n",
            "make_hyundi            -1492.9706     82.302    -18.140      0.000   -1654.282   -1331.659\n",
            "make_merc               3297.8160     65.787     50.129      0.000    3168.875    3426.757\n",
            "make_skoda              -644.5309     75.221     -8.569      0.000    -791.963    -497.099\n",
            "make_toyota            -2081.0502     79.098    -26.310      0.000   -2236.081   -1926.019\n",
            "make_vauxhall          -2790.6094     62.550    -44.614      0.000   -2913.207   -2668.012\n",
            "make_vw                  999.6798     59.766     16.727      0.000     882.539    1116.821\n",
            "==============================================================================\n",
            "Omnibus:                    70985.622   Durbin-Watson:                   2.009\n",
            "Prob(Omnibus):                  0.000   Jarque-Bera (JB):          7263614.825\n",
            "Skew:                           3.356   Prob(JB):                         0.00\n",
            "Kurtosis:                      47.361   Cond. No.                     4.89e+20\n",
            "==============================================================================\n",
            "\n",
            "Warnings:\n",
            "[1] Standard Errors assume that the covariance matrix of the errors is correctly specified.\n",
            "[2] The smallest eigenvalue is 3.54e-28. This might indicate that there are\n",
            "strong multicollinearity problems or that the design matrix is singular.\n"
          ],
          "name": "stdout"
        }
      ]
    },
    {
      "cell_type": "code",
      "metadata": {
        "colab": {
          "base_uri": "https://localhost:8080/"
        },
        "id": "Rw_zGfukx8SX",
        "outputId": "ab04e3a3-3836-4fde-e961-7af401e40ac3"
      },
      "source": [
        "# stepwise regression\n",
        "x_train1 = x_train1.drop(['fuelType_Electric', 'transmission_Other', 'make_vw', \n",
        "                          'transmission_Manual', 'fuelType_Diesel', 'make_focus', 'make_bmw'\n",
        "                          ], axis = 1)\n",
        "model1 = sm.OLS(y_train, x_train1)\n",
        "res = model1.fit()\n",
        "print(res.summary())"
      ],
      "execution_count": null,
      "outputs": [
        {
          "output_type": "stream",
          "text": [
            "                            OLS Regression Results                            \n",
            "==============================================================================\n",
            "Dep. Variable:                  price   R-squared:                       0.773\n",
            "Model:                            OLS   Adj. R-squared:                  0.773\n",
            "Method:                 Least Squares   F-statistic:                 1.846e+04\n",
            "Date:                Thu, 04 Feb 2021   Prob (F-statistic):               0.00\n",
            "Time:                        02:13:33   Log-Likelihood:            -8.5387e+05\n",
            "No. Observations:               86602   AIC:                         1.708e+06\n",
            "Df Residuals:                   86585   BIC:                         1.708e+06\n",
            "Df Model:                          16                                         \n",
            "Covariance Type:            nonrobust                                         \n",
            "==========================================================================================\n",
            "                             coef    std err          t      P>|t|      [0.025      0.975]\n",
            "------------------------------------------------------------------------------------------\n",
            "const                   6186.6407     83.839     73.792      0.000    6022.318    6350.964\n",
            "mileage                   -0.0938      0.001    -80.401      0.000      -0.096      -0.092\n",
            "engineSize              1.032e+04     38.602    267.296      0.000    1.02e+04    1.04e+04\n",
            "carAge                 -1556.6142     11.375   -136.851      0.000   -1578.908   -1534.320\n",
            "transmission_Automatic  1947.7434     49.159     39.621      0.000    1851.392    2044.095\n",
            "transmission_Semi-Auto  2526.4114     48.170     52.448      0.000    2431.999    2620.823\n",
            "fuelType_Hybrid         2895.6083    110.319     26.248      0.000    2679.384    3111.832\n",
            "fuelType_Other          2890.3275    332.465      8.694      0.000    2238.699    3541.956\n",
            "fuelType_Petrol         2018.9960     39.049     51.704      0.000    1942.461    2095.531\n",
            "make_audi               2768.4555     58.569     47.269      0.000    2653.661    2883.250\n",
            "make_cclass             1268.8121     89.857     14.120      0.000    1092.694    1444.930\n",
            "make_ford               -924.0692     50.988    -18.123      0.000   -1024.006    -824.132\n",
            "make_hyundi            -2505.1062     81.415    -30.769      0.000   -2664.680   -2345.533\n",
            "make_merc               2257.6298     56.697     39.819      0.000    2146.504    2368.756\n",
            "make_skoda             -1659.7709     72.512    -22.890      0.000   -1801.894   -1517.648\n",
            "make_toyota            -3093.7845     77.836    -39.748      0.000   -3246.342   -2941.227\n",
            "make_vauxhall          -3799.5821     55.616    -68.318      0.000   -3908.589   -3690.576\n",
            "==============================================================================\n",
            "Omnibus:                    70928.900   Durbin-Watson:                   2.009\n",
            "Prob(Omnibus):                  0.000   Jarque-Bera (JB):          7243663.225\n",
            "Skew:                           3.352   Prob(JB):                         0.00\n",
            "Kurtosis:                      47.300   Cond. No.                     6.61e+05\n",
            "==============================================================================\n",
            "\n",
            "Warnings:\n",
            "[1] Standard Errors assume that the covariance matrix of the errors is correctly specified.\n",
            "[2] The condition number is large, 6.61e+05. This might indicate that there are\n",
            "strong multicollinearity or other numerical problems.\n"
          ],
          "name": "stdout"
        }
      ]
    },
    {
      "cell_type": "code",
      "metadata": {
        "id": "FUoL57x6sanU"
      },
      "source": [
        "regressor = LinearRegression()\n",
        "regressor.fit(x_train1.drop(['const'], axis = 1), y_train)\n",
        "y_pred = regressor.predict(x_test.drop(['fuelType_Electric', 'transmission_Other', 'make_vw', \n",
        "                          'transmission_Manual', 'fuelType_Diesel', 'make_focus', 'make_bmw'], axis = 1))"
      ],
      "execution_count": null,
      "outputs": []
    },
    {
      "cell_type": "code",
      "metadata": {
        "colab": {
          "base_uri": "https://localhost:8080/"
        },
        "id": "CWJL8t7NsmYp",
        "outputId": "343b4714-94b6-48e8-ac60-01c1341ee357"
      },
      "source": [
        "print('Mean Absolute Error:', metrics.mean_absolute_error(y_test, y_pred))\n",
        "print('Mean Squared Error:', metrics.mean_squared_error(y_test, y_pred))\n",
        "print('Root Mean Squared Error:', np.sqrt(metrics.mean_squared_error(y_test, y_pred)))"
      ],
      "execution_count": null,
      "outputs": [
        {
          "output_type": "stream",
          "text": [
            "Mean Absolute Error: 2970.6310512321006\n",
            "Mean Squared Error: 21715375.818851154\n",
            "Root Mean Squared Error: 4659.975946166584\n"
          ],
          "name": "stdout"
        }
      ]
    },
    {
      "cell_type": "code",
      "metadata": {
        "colab": {
          "base_uri": "https://localhost:8080/",
          "height": 407
        },
        "id": "cUHmxU5osqui",
        "outputId": "c77bfb4c-4627-4322-f899-fc02f39df675"
      },
      "source": [
        "df = pd.DataFrame({'Actual': y_test, 'Predicted': y_pred})\n",
        "df.to_csv('/content/drive/MyDrive/end2end_DS/100K_UK_used_car/data_sets/final_dataSets/02_prediction.csv', index = False)\n",
        "df"
      ],
      "execution_count": null,
      "outputs": [
        {
          "output_type": "execute_result",
          "data": {
            "text/html": [
              "<div>\n",
              "<style scoped>\n",
              "    .dataframe tbody tr th:only-of-type {\n",
              "        vertical-align: middle;\n",
              "    }\n",
              "\n",
              "    .dataframe tbody tr th {\n",
              "        vertical-align: top;\n",
              "    }\n",
              "\n",
              "    .dataframe thead th {\n",
              "        text-align: right;\n",
              "    }\n",
              "</style>\n",
              "<table border=\"1\" class=\"dataframe\">\n",
              "  <thead>\n",
              "    <tr style=\"text-align: right;\">\n",
              "      <th></th>\n",
              "      <th>Actual</th>\n",
              "      <th>Predicted</th>\n",
              "    </tr>\n",
              "  </thead>\n",
              "  <tbody>\n",
              "    <tr>\n",
              "      <th>10326</th>\n",
              "      <td>11100</td>\n",
              "      <td>9199.227825</td>\n",
              "    </tr>\n",
              "    <tr>\n",
              "      <th>40134</th>\n",
              "      <td>17998</td>\n",
              "      <td>12280.511372</td>\n",
              "    </tr>\n",
              "    <tr>\n",
              "      <th>70027</th>\n",
              "      <td>17595</td>\n",
              "      <td>20383.452778</td>\n",
              "    </tr>\n",
              "    <tr>\n",
              "      <th>3394</th>\n",
              "      <td>9509</td>\n",
              "      <td>15447.823793</td>\n",
              "    </tr>\n",
              "    <tr>\n",
              "      <th>78386</th>\n",
              "      <td>12990</td>\n",
              "      <td>16901.359400</td>\n",
              "    </tr>\n",
              "    <tr>\n",
              "      <th>...</th>\n",
              "      <td>...</td>\n",
              "      <td>...</td>\n",
              "    </tr>\n",
              "    <tr>\n",
              "      <th>92401</th>\n",
              "      <td>12895</td>\n",
              "      <td>11135.915195</td>\n",
              "    </tr>\n",
              "    <tr>\n",
              "      <th>91694</th>\n",
              "      <td>4200</td>\n",
              "      <td>3388.258097</td>\n",
              "    </tr>\n",
              "    <tr>\n",
              "      <th>83363</th>\n",
              "      <td>24970</td>\n",
              "      <td>29937.114117</td>\n",
              "    </tr>\n",
              "    <tr>\n",
              "      <th>3269</th>\n",
              "      <td>3990</td>\n",
              "      <td>-7643.868800</td>\n",
              "    </tr>\n",
              "    <tr>\n",
              "      <th>21742</th>\n",
              "      <td>33789</td>\n",
              "      <td>28400.039646</td>\n",
              "    </tr>\n",
              "  </tbody>\n",
              "</table>\n",
              "<p>21651 rows × 2 columns</p>\n",
              "</div>"
            ],
            "text/plain": [
              "       Actual     Predicted\n",
              "10326   11100   9199.227825\n",
              "40134   17998  12280.511372\n",
              "70027   17595  20383.452778\n",
              "3394     9509  15447.823793\n",
              "78386   12990  16901.359400\n",
              "...       ...           ...\n",
              "92401   12895  11135.915195\n",
              "91694    4200   3388.258097\n",
              "83363   24970  29937.114117\n",
              "3269     3990  -7643.868800\n",
              "21742   33789  28400.039646\n",
              "\n",
              "[21651 rows x 2 columns]"
            ]
          },
          "metadata": {
            "tags": []
          },
          "execution_count": 41
        }
      ]
    },
    {
      "cell_type": "markdown",
      "metadata": {
        "id": "wKY6zVHRa8ke"
      },
      "source": [
        "so we are going with the logged values for further steps"
      ]
    },
    {
      "cell_type": "code",
      "metadata": {
        "id": "ATiki38rbaQO"
      },
      "source": [
        "# Ahhhhhh! I hate to scroll up , let's read the data and start again :)\n",
        "data = pd.read_csv('/content/drive/MyDrive/end2end_DS/100K_UK_used_car/data_sets/final_dataSets/02_extract.csv')\n",
        "\n",
        "X = data.drop(['price'], axis = 1)\n",
        "Y = data['price']\n",
        "\n",
        "x_train, x_test, y_train, y_test = train_test_split(X, Y, test_size=0.20, random_state=1, shuffle = True)\n"
      ],
      "execution_count": null,
      "outputs": []
    },
    {
      "cell_type": "code",
      "metadata": {
        "id": "YxMfZR1QgHsA"
      },
      "source": [
        "# setting up polynomial features\n",
        "polynomial_features= PolynomialFeatures(degree=2)\n",
        "x_train_poly = polynomial_features.fit_transform(x_train)"
      ],
      "execution_count": null,
      "outputs": []
    },
    {
      "cell_type": "code",
      "metadata": {
        "id": "0sNPKwnIhxJk"
      },
      "source": [
        "model = LinearRegression()\n",
        "model.fit(x_train_poly, y_train)\n",
        "x_test_poly = polynomial_features.fit_transform(x_test)\n",
        "y_pred = model.predict(x_test_poly)"
      ],
      "execution_count": null,
      "outputs": []
    },
    {
      "cell_type": "code",
      "metadata": {
        "colab": {
          "base_uri": "https://localhost:8080/"
        },
        "id": "Y-KrvoxfjEj0",
        "outputId": "a3c5d4b5-a5ed-4682-f1a1-92e0eb41a866"
      },
      "source": [
        "print('Mean Absolute Error:', metrics.mean_absolute_error(y_test, y_pred))\n",
        "print('Mean Squared Error:', metrics.mean_squared_error(y_test, y_pred))\n",
        "print('Root Mean Squared Error:', np.sqrt(metrics.mean_squared_error(y_test, y_pred)))"
      ],
      "execution_count": null,
      "outputs": [
        {
          "output_type": "stream",
          "text": [
            "Mean Absolute Error: 1113.654110263331\n",
            "Mean Squared Error: 13916810409.409973\n",
            "Root Mean Squared Error: 117969.53169954508\n"
          ],
          "name": "stdout"
        }
      ]
    },
    {
      "cell_type": "code",
      "metadata": {
        "colab": {
          "base_uri": "https://localhost:8080/",
          "height": 407
        },
        "id": "lmawb7iTjsDE",
        "outputId": "21b79033-b200-4c8e-a228-af10b53bdef7"
      },
      "source": [
        "\n",
        "y_test = np.exp(y_test)\n",
        "y_pred = np.exp(y_pred)\n",
        "\n",
        "df = pd.DataFrame({'Actual': y_test, 'Predicted': y_pred})\n",
        "df.to_csv('/content/drive/MyDrive/end2end_DS/100K_UK_used_car/data_sets/final_dataSets/03_prediction.csv', index = False)\n",
        "df\n"
      ],
      "execution_count": null,
      "outputs": [
        {
          "output_type": "execute_result",
          "data": {
            "text/html": [
              "<div>\n",
              "<style scoped>\n",
              "    .dataframe tbody tr th:only-of-type {\n",
              "        vertical-align: middle;\n",
              "    }\n",
              "\n",
              "    .dataframe tbody tr th {\n",
              "        vertical-align: top;\n",
              "    }\n",
              "\n",
              "    .dataframe thead th {\n",
              "        text-align: right;\n",
              "    }\n",
              "</style>\n",
              "<table border=\"1\" class=\"dataframe\">\n",
              "  <thead>\n",
              "    <tr style=\"text-align: right;\">\n",
              "      <th></th>\n",
              "      <th>Actual</th>\n",
              "      <th>Predicted</th>\n",
              "    </tr>\n",
              "  </thead>\n",
              "  <tbody>\n",
              "    <tr>\n",
              "      <th>10326</th>\n",
              "      <td>11100.0</td>\n",
              "      <td>8107.327366</td>\n",
              "    </tr>\n",
              "    <tr>\n",
              "      <th>40134</th>\n",
              "      <td>17998.0</td>\n",
              "      <td>12901.609616</td>\n",
              "    </tr>\n",
              "    <tr>\n",
              "      <th>70027</th>\n",
              "      <td>17595.0</td>\n",
              "      <td>19368.306632</td>\n",
              "    </tr>\n",
              "    <tr>\n",
              "      <th>3394</th>\n",
              "      <td>9509.0</td>\n",
              "      <td>14196.906220</td>\n",
              "    </tr>\n",
              "    <tr>\n",
              "      <th>78386</th>\n",
              "      <td>12990.0</td>\n",
              "      <td>15429.291328</td>\n",
              "    </tr>\n",
              "    <tr>\n",
              "      <th>...</th>\n",
              "      <td>...</td>\n",
              "      <td>...</td>\n",
              "    </tr>\n",
              "    <tr>\n",
              "      <th>92401</th>\n",
              "      <td>12895.0</td>\n",
              "      <td>11682.617420</td>\n",
              "    </tr>\n",
              "    <tr>\n",
              "      <th>91694</th>\n",
              "      <td>4200.0</td>\n",
              "      <td>6707.648805</td>\n",
              "    </tr>\n",
              "    <tr>\n",
              "      <th>83363</th>\n",
              "      <td>24970.0</td>\n",
              "      <td>32329.517530</td>\n",
              "    </tr>\n",
              "    <tr>\n",
              "      <th>3269</th>\n",
              "      <td>3990.0</td>\n",
              "      <td>3722.135170</td>\n",
              "    </tr>\n",
              "    <tr>\n",
              "      <th>21742</th>\n",
              "      <td>33789.0</td>\n",
              "      <td>33393.924750</td>\n",
              "    </tr>\n",
              "  </tbody>\n",
              "</table>\n",
              "<p>21651 rows × 2 columns</p>\n",
              "</div>"
            ],
            "text/plain": [
              "        Actual     Predicted\n",
              "10326  11100.0   8107.327366\n",
              "40134  17998.0  12901.609616\n",
              "70027  17595.0  19368.306632\n",
              "3394    9509.0  14196.906220\n",
              "78386  12990.0  15429.291328\n",
              "...        ...           ...\n",
              "92401  12895.0  11682.617420\n",
              "91694   4200.0   6707.648805\n",
              "83363  24970.0  32329.517530\n",
              "3269    3990.0   3722.135170\n",
              "21742  33789.0  33393.924750\n",
              "\n",
              "[21651 rows x 2 columns]"
            ]
          },
          "metadata": {
            "tags": []
          },
          "execution_count": 20
        }
      ]
    },
    {
      "cell_type": "code",
      "metadata": {
        "id": "vAwQyXbSliIc"
      },
      "source": [
        "\n",
        "y_train_pred = model.predict(x_train_poly)"
      ],
      "execution_count": null,
      "outputs": []
    },
    {
      "cell_type": "code",
      "metadata": {
        "colab": {
          "base_uri": "https://localhost:8080/",
          "height": 407
        },
        "id": "Vv9pImrnmeg-",
        "outputId": "896524f5-4987-4aa1-c36a-ec58b35d27e6"
      },
      "source": [
        "\n",
        "y_test = np.exp(y_train)\n",
        "y_pred = np.exp(y_train_pred)\n",
        "\n",
        "df = pd.DataFrame({'Actual': y_test, 'Predicted': y_pred})\n",
        "df.to_csv('/content/drive/MyDrive/end2end_DS/100K_UK_used_car/data_sets/final_dataSets/04_prediction.csv', index = False)\n",
        "df\n"
      ],
      "execution_count": null,
      "outputs": [
        {
          "output_type": "execute_result",
          "data": {
            "text/html": [
              "<div>\n",
              "<style scoped>\n",
              "    .dataframe tbody tr th:only-of-type {\n",
              "        vertical-align: middle;\n",
              "    }\n",
              "\n",
              "    .dataframe tbody tr th {\n",
              "        vertical-align: top;\n",
              "    }\n",
              "\n",
              "    .dataframe thead th {\n",
              "        text-align: right;\n",
              "    }\n",
              "</style>\n",
              "<table border=\"1\" class=\"dataframe\">\n",
              "  <thead>\n",
              "    <tr style=\"text-align: right;\">\n",
              "      <th></th>\n",
              "      <th>Actual</th>\n",
              "      <th>Predicted</th>\n",
              "    </tr>\n",
              "  </thead>\n",
              "  <tbody>\n",
              "    <tr>\n",
              "      <th>7878</th>\n",
              "      <td>11700.0</td>\n",
              "      <td>11220.433847</td>\n",
              "    </tr>\n",
              "    <tr>\n",
              "      <th>57473</th>\n",
              "      <td>13782.0</td>\n",
              "      <td>17224.578773</td>\n",
              "    </tr>\n",
              "    <tr>\n",
              "      <th>97830</th>\n",
              "      <td>6550.0</td>\n",
              "      <td>8493.964878</td>\n",
              "    </tr>\n",
              "    <tr>\n",
              "      <th>25172</th>\n",
              "      <td>17495.0</td>\n",
              "      <td>20578.737329</td>\n",
              "    </tr>\n",
              "    <tr>\n",
              "      <th>100459</th>\n",
              "      <td>24990.0</td>\n",
              "      <td>30658.756162</td>\n",
              "    </tr>\n",
              "    <tr>\n",
              "      <th>...</th>\n",
              "      <td>...</td>\n",
              "      <td>...</td>\n",
              "    </tr>\n",
              "    <tr>\n",
              "      <th>50057</th>\n",
              "      <td>16000.0</td>\n",
              "      <td>12219.870605</td>\n",
              "    </tr>\n",
              "    <tr>\n",
              "      <th>98047</th>\n",
              "      <td>10000.0</td>\n",
              "      <td>8874.245084</td>\n",
              "    </tr>\n",
              "    <tr>\n",
              "      <th>5192</th>\n",
              "      <td>10599.0</td>\n",
              "      <td>8893.344499</td>\n",
              "    </tr>\n",
              "    <tr>\n",
              "      <th>77708</th>\n",
              "      <td>30709.0</td>\n",
              "      <td>32872.372129</td>\n",
              "    </tr>\n",
              "    <tr>\n",
              "      <th>98539</th>\n",
              "      <td>11995.0</td>\n",
              "      <td>10446.590492</td>\n",
              "    </tr>\n",
              "  </tbody>\n",
              "</table>\n",
              "<p>86602 rows × 2 columns</p>\n",
              "</div>"
            ],
            "text/plain": [
              "         Actual     Predicted\n",
              "7878    11700.0  11220.433847\n",
              "57473   13782.0  17224.578773\n",
              "97830    6550.0   8493.964878\n",
              "25172   17495.0  20578.737329\n",
              "100459  24990.0  30658.756162\n",
              "...         ...           ...\n",
              "50057   16000.0  12219.870605\n",
              "98047   10000.0   8874.245084\n",
              "5192    10599.0   8893.344499\n",
              "77708   30709.0  32872.372129\n",
              "98539   11995.0  10446.590492\n",
              "\n",
              "[86602 rows x 2 columns]"
            ]
          },
          "metadata": {
            "tags": []
          },
          "execution_count": 22
        }
      ]
    },
    {
      "cell_type": "code",
      "metadata": {
        "id": "FG221RFeTAK4"
      },
      "source": [
        "# Let's do ridge regression\n",
        "data = pd.read_csv('/content/drive/MyDrive/end2end_DS/100K_UK_used_car/data_sets/final_dataSets/02_extract.csv')\n",
        "\n",
        "X = data.drop(['price'], axis = 1)\n",
        "Y = data['price']\n",
        "\n",
        "x_train, x_test, y_train, y_test = train_test_split(X, Y, test_size=0.20, random_state=1, shuffle = True)\n"
      ],
      "execution_count": null,
      "outputs": []
    },
    {
      "cell_type": "code",
      "metadata": {
        "id": "lJPUpu7STJTf"
      },
      "source": [
        "rr = Ridge(alpha=0.01)\n",
        "rr.fit(x_train, y_train)\n",
        "y_pred = rr.predict(x_test)"
      ],
      "execution_count": null,
      "outputs": []
    },
    {
      "cell_type": "code",
      "metadata": {
        "id": "BA6sTP3pT-rC"
      },
      "source": [
        "y_test = np.exp(y_test)\n",
        "y_pred = np.exp(y_pred)"
      ],
      "execution_count": null,
      "outputs": []
    },
    {
      "cell_type": "code",
      "metadata": {
        "colab": {
          "base_uri": "https://localhost:8080/"
        },
        "id": "Ssc6I8uHTs2v",
        "outputId": "e7013008-00e8-4583-ff46-e87950a19c3b"
      },
      "source": [
        "print('Mean Absolute Error:', metrics.mean_absolute_error(y_test, y_pred))\n",
        "print('Mean Squared Error:', metrics.mean_squared_error(y_test, y_pred))\n",
        "print('Root Mean Squared Error:', np.sqrt(metrics.mean_squared_error(y_test, y_pred)))"
      ],
      "execution_count": null,
      "outputs": [
        {
          "output_type": "stream",
          "text": [
            "Mean Absolute Error: 2823.817370316931\n",
            "Mean Squared Error: 21288448.04032588\n",
            "Root Mean Squared Error: 4613.940619505834\n"
          ],
          "name": "stdout"
        }
      ]
    },
    {
      "cell_type": "code",
      "metadata": {
        "colab": {
          "base_uri": "https://localhost:8080/",
          "height": 407
        },
        "id": "ifE-1LsUUCVH",
        "outputId": "a2a7d9c7-4b9d-470e-cb14-9f8b60c3bf14"
      },
      "source": [
        "df = pd.DataFrame({'Actual': y_test, 'Predicted': y_pred})\n",
        "df.to_csv('/content/drive/MyDrive/end2end_DS/100K_UK_used_car/data_sets/final_dataSets/05_prediction.csv', index = False)\n",
        "df\n"
      ],
      "execution_count": null,
      "outputs": [
        {
          "output_type": "execute_result",
          "data": {
            "text/html": [
              "<div>\n",
              "<style scoped>\n",
              "    .dataframe tbody tr th:only-of-type {\n",
              "        vertical-align: middle;\n",
              "    }\n",
              "\n",
              "    .dataframe tbody tr th {\n",
              "        vertical-align: top;\n",
              "    }\n",
              "\n",
              "    .dataframe thead th {\n",
              "        text-align: right;\n",
              "    }\n",
              "</style>\n",
              "<table border=\"1\" class=\"dataframe\">\n",
              "  <thead>\n",
              "    <tr style=\"text-align: right;\">\n",
              "      <th></th>\n",
              "      <th>Actual</th>\n",
              "      <th>Predicted</th>\n",
              "    </tr>\n",
              "  </thead>\n",
              "  <tbody>\n",
              "    <tr>\n",
              "      <th>10326</th>\n",
              "      <td>11100.0</td>\n",
              "      <td>7951.192877</td>\n",
              "    </tr>\n",
              "    <tr>\n",
              "      <th>40134</th>\n",
              "      <td>17998.0</td>\n",
              "      <td>13334.819986</td>\n",
              "    </tr>\n",
              "    <tr>\n",
              "      <th>70027</th>\n",
              "      <td>17595.0</td>\n",
              "      <td>17609.586494</td>\n",
              "    </tr>\n",
              "    <tr>\n",
              "      <th>3394</th>\n",
              "      <td>9509.0</td>\n",
              "      <td>13823.515429</td>\n",
              "    </tr>\n",
              "    <tr>\n",
              "      <th>78386</th>\n",
              "      <td>12990.0</td>\n",
              "      <td>14026.064404</td>\n",
              "    </tr>\n",
              "    <tr>\n",
              "      <th>...</th>\n",
              "      <td>...</td>\n",
              "      <td>...</td>\n",
              "    </tr>\n",
              "    <tr>\n",
              "      <th>92401</th>\n",
              "      <td>12895.0</td>\n",
              "      <td>10846.563470</td>\n",
              "    </tr>\n",
              "    <tr>\n",
              "      <th>91694</th>\n",
              "      <td>4200.0</td>\n",
              "      <td>10006.482803</td>\n",
              "    </tr>\n",
              "    <tr>\n",
              "      <th>83363</th>\n",
              "      <td>24970.0</td>\n",
              "      <td>32276.461525</td>\n",
              "    </tr>\n",
              "    <tr>\n",
              "      <th>3269</th>\n",
              "      <td>3990.0</td>\n",
              "      <td>4357.699733</td>\n",
              "    </tr>\n",
              "    <tr>\n",
              "      <th>21742</th>\n",
              "      <td>33789.0</td>\n",
              "      <td>30201.846040</td>\n",
              "    </tr>\n",
              "  </tbody>\n",
              "</table>\n",
              "<p>21651 rows × 2 columns</p>\n",
              "</div>"
            ],
            "text/plain": [
              "        Actual     Predicted\n",
              "10326  11100.0   7951.192877\n",
              "40134  17998.0  13334.819986\n",
              "70027  17595.0  17609.586494\n",
              "3394    9509.0  13823.515429\n",
              "78386  12990.0  14026.064404\n",
              "...        ...           ...\n",
              "92401  12895.0  10846.563470\n",
              "91694   4200.0  10006.482803\n",
              "83363  24970.0  32276.461525\n",
              "3269    3990.0   4357.699733\n",
              "21742  33789.0  30201.846040\n",
              "\n",
              "[21651 rows x 2 columns]"
            ]
          },
          "metadata": {
            "tags": []
          },
          "execution_count": 14
        }
      ]
    },
    {
      "cell_type": "code",
      "metadata": {
        "colab": {
          "base_uri": "https://localhost:8080/"
        },
        "id": "ZUx4-C6rVujJ",
        "outputId": "d43da562-14fe-45b9-c3d6-e1a7fbbe6564"
      },
      "source": [
        "# Let's do lasso regression\n",
        "data = pd.read_csv('/content/drive/MyDrive/end2end_DS/100K_UK_used_car/data_sets/final_dataSets/02_extract.csv')\n",
        "\n",
        "X = data.drop(['price'], axis = 1)\n",
        "Y = data['price']\n",
        "\n",
        "x_train, x_test, y_train, y_test = train_test_split(X, Y, test_size=0.20, random_state=1, shuffle = True)\n",
        "\n",
        "rr = Lasso(alpha=0.01)\n",
        "rr.fit(x_train, y_train)\n",
        "y_pred = rr.predict(x_test)\n",
        "\n",
        "y_test = np.exp(y_test)\n",
        "y_pred = np.exp(y_pred)\n",
        "\n",
        "print('Mean Absolute Error:', metrics.mean_absolute_error(y_test, y_pred))\n",
        "print('Mean Squared Error:', metrics.mean_squared_error(y_test, y_pred))\n",
        "print('Root Mean Squared Error:', np.sqrt(metrics.mean_squared_error(y_test, y_pred)))"
      ],
      "execution_count": null,
      "outputs": [
        {
          "output_type": "stream",
          "text": [
            "Mean Absolute Error: 3028.8600600595164\n",
            "Mean Squared Error: 24495358.633486997\n",
            "Root Mean Squared Error: 4949.278597279304\n"
          ],
          "name": "stdout"
        }
      ]
    },
    {
      "cell_type": "code",
      "metadata": {
        "colab": {
          "base_uri": "https://localhost:8080/",
          "height": 407
        },
        "id": "Q1RIsYilV-Wo",
        "outputId": "7aaea7d0-acb5-46b4-9e4f-a248e35de90b"
      },
      "source": [
        "df = pd.DataFrame({'Actual': y_test, 'Predicted': y_pred})\n",
        "df.to_csv('/content/drive/MyDrive/end2end_DS/100K_UK_used_car/data_sets/final_dataSets/06_prediction.csv', index = False)\n",
        "df\n"
      ],
      "execution_count": null,
      "outputs": [
        {
          "output_type": "execute_result",
          "data": {
            "text/html": [
              "<div>\n",
              "<style scoped>\n",
              "    .dataframe tbody tr th:only-of-type {\n",
              "        vertical-align: middle;\n",
              "    }\n",
              "\n",
              "    .dataframe tbody tr th {\n",
              "        vertical-align: top;\n",
              "    }\n",
              "\n",
              "    .dataframe thead th {\n",
              "        text-align: right;\n",
              "    }\n",
              "</style>\n",
              "<table border=\"1\" class=\"dataframe\">\n",
              "  <thead>\n",
              "    <tr style=\"text-align: right;\">\n",
              "      <th></th>\n",
              "      <th>Actual</th>\n",
              "      <th>Predicted</th>\n",
              "    </tr>\n",
              "  </thead>\n",
              "  <tbody>\n",
              "    <tr>\n",
              "      <th>10326</th>\n",
              "      <td>11100.0</td>\n",
              "      <td>8524.686666</td>\n",
              "    </tr>\n",
              "    <tr>\n",
              "      <th>40134</th>\n",
              "      <td>17998.0</td>\n",
              "      <td>13107.916786</td>\n",
              "    </tr>\n",
              "    <tr>\n",
              "      <th>70027</th>\n",
              "      <td>17595.0</td>\n",
              "      <td>17421.871967</td>\n",
              "    </tr>\n",
              "    <tr>\n",
              "      <th>3394</th>\n",
              "      <td>9509.0</td>\n",
              "      <td>14448.747360</td>\n",
              "    </tr>\n",
              "    <tr>\n",
              "      <th>78386</th>\n",
              "      <td>12990.0</td>\n",
              "      <td>12191.656798</td>\n",
              "    </tr>\n",
              "    <tr>\n",
              "      <th>...</th>\n",
              "      <td>...</td>\n",
              "      <td>...</td>\n",
              "    </tr>\n",
              "    <tr>\n",
              "      <th>92401</th>\n",
              "      <td>12895.0</td>\n",
              "      <td>12683.350788</td>\n",
              "    </tr>\n",
              "    <tr>\n",
              "      <th>91694</th>\n",
              "      <td>4200.0</td>\n",
              "      <td>9795.841627</td>\n",
              "    </tr>\n",
              "    <tr>\n",
              "      <th>83363</th>\n",
              "      <td>24970.0</td>\n",
              "      <td>28305.742490</td>\n",
              "    </tr>\n",
              "    <tr>\n",
              "      <th>3269</th>\n",
              "      <td>3990.0</td>\n",
              "      <td>5180.068750</td>\n",
              "    </tr>\n",
              "    <tr>\n",
              "      <th>21742</th>\n",
              "      <td>33789.0</td>\n",
              "      <td>28406.343255</td>\n",
              "    </tr>\n",
              "  </tbody>\n",
              "</table>\n",
              "<p>21651 rows × 2 columns</p>\n",
              "</div>"
            ],
            "text/plain": [
              "        Actual     Predicted\n",
              "10326  11100.0   8524.686666\n",
              "40134  17998.0  13107.916786\n",
              "70027  17595.0  17421.871967\n",
              "3394    9509.0  14448.747360\n",
              "78386  12990.0  12191.656798\n",
              "...        ...           ...\n",
              "92401  12895.0  12683.350788\n",
              "91694   4200.0   9795.841627\n",
              "83363  24970.0  28305.742490\n",
              "3269    3990.0   5180.068750\n",
              "21742  33789.0  28406.343255\n",
              "\n",
              "[21651 rows x 2 columns]"
            ]
          },
          "metadata": {
            "tags": []
          },
          "execution_count": 20
        }
      ]
    },
    {
      "cell_type": "code",
      "metadata": {
        "colab": {
          "base_uri": "https://localhost:8080/"
        },
        "id": "AHTTFOFQZnAn",
        "outputId": "98343fa2-5d44-48c7-ae85-b3155649e2a4"
      },
      "source": [
        "# Let's do elasticNet regression\n",
        "data = pd.read_csv('/content/drive/MyDrive/end2end_DS/100K_UK_used_car/data_sets/final_dataSets/02_extract.csv')\n",
        "\n",
        "X = data.drop(['price'], axis = 1)\n",
        "Y = data['price']\n",
        "\n",
        "x_train, x_test, y_train, y_test = train_test_split(X, Y, test_size=0.20, random_state=1, shuffle = True)\n",
        "\n",
        "rr = ElasticNet(alpha=0.01)\n",
        "rr.fit(x_train, y_train)\n",
        "y_pred = rr.predict(x_test)\n",
        "\n",
        "y_test = np.exp(y_test)\n",
        "y_pred = np.exp(y_pred)\n",
        "\n",
        "print('Mean Absolute Error:', metrics.mean_absolute_error(y_test, y_pred))\n",
        "print('Mean Squared Error:', metrics.mean_squared_error(y_test, y_pred))\n",
        "print('Root Mean Squared Error:', np.sqrt(metrics.mean_squared_error(y_test, y_pred)))"
      ],
      "execution_count": null,
      "outputs": [
        {
          "output_type": "stream",
          "text": [
            "Mean Absolute Error: 2954.872894318655\n",
            "Mean Squared Error: 23566543.508423563\n",
            "Root Mean Squared Error: 4854.538444427396\n"
          ],
          "name": "stdout"
        }
      ]
    },
    {
      "cell_type": "code",
      "metadata": {
        "colab": {
          "base_uri": "https://localhost:8080/",
          "height": 407
        },
        "id": "NKpw3B_kZvQW",
        "outputId": "b218dfa5-de20-4728-83f4-dec34fa4ad9b"
      },
      "source": [
        "df = pd.DataFrame({'Actual': y_test, 'Predicted': y_pred})\n",
        "df.to_csv('/content/drive/MyDrive/end2end_DS/100K_UK_used_car/data_sets/final_dataSets/07_prediction.csv', index = False)\n",
        "df\n"
      ],
      "execution_count": null,
      "outputs": [
        {
          "output_type": "execute_result",
          "data": {
            "text/html": [
              "<div>\n",
              "<style scoped>\n",
              "    .dataframe tbody tr th:only-of-type {\n",
              "        vertical-align: middle;\n",
              "    }\n",
              "\n",
              "    .dataframe tbody tr th {\n",
              "        vertical-align: top;\n",
              "    }\n",
              "\n",
              "    .dataframe thead th {\n",
              "        text-align: right;\n",
              "    }\n",
              "</style>\n",
              "<table border=\"1\" class=\"dataframe\">\n",
              "  <thead>\n",
              "    <tr style=\"text-align: right;\">\n",
              "      <th></th>\n",
              "      <th>Actual</th>\n",
              "      <th>Predicted</th>\n",
              "    </tr>\n",
              "  </thead>\n",
              "  <tbody>\n",
              "    <tr>\n",
              "      <th>10326</th>\n",
              "      <td>11100.0</td>\n",
              "      <td>8248.097912</td>\n",
              "    </tr>\n",
              "    <tr>\n",
              "      <th>40134</th>\n",
              "      <td>17998.0</td>\n",
              "      <td>13152.327515</td>\n",
              "    </tr>\n",
              "    <tr>\n",
              "      <th>70027</th>\n",
              "      <td>17595.0</td>\n",
              "      <td>17365.654368</td>\n",
              "    </tr>\n",
              "    <tr>\n",
              "      <th>3394</th>\n",
              "      <td>9509.0</td>\n",
              "      <td>14029.078003</td>\n",
              "    </tr>\n",
              "    <tr>\n",
              "      <th>78386</th>\n",
              "      <td>12990.0</td>\n",
              "      <td>12762.755144</td>\n",
              "    </tr>\n",
              "    <tr>\n",
              "      <th>...</th>\n",
              "      <td>...</td>\n",
              "      <td>...</td>\n",
              "    </tr>\n",
              "    <tr>\n",
              "      <th>92401</th>\n",
              "      <td>12895.0</td>\n",
              "      <td>12389.505241</td>\n",
              "    </tr>\n",
              "    <tr>\n",
              "      <th>91694</th>\n",
              "      <td>4200.0</td>\n",
              "      <td>9672.487056</td>\n",
              "    </tr>\n",
              "    <tr>\n",
              "      <th>83363</th>\n",
              "      <td>24970.0</td>\n",
              "      <td>29513.863924</td>\n",
              "    </tr>\n",
              "    <tr>\n",
              "      <th>3269</th>\n",
              "      <td>3990.0</td>\n",
              "      <td>5008.942127</td>\n",
              "    </tr>\n",
              "    <tr>\n",
              "      <th>21742</th>\n",
              "      <td>33789.0</td>\n",
              "      <td>29717.164769</td>\n",
              "    </tr>\n",
              "  </tbody>\n",
              "</table>\n",
              "<p>21651 rows × 2 columns</p>\n",
              "</div>"
            ],
            "text/plain": [
              "        Actual     Predicted\n",
              "10326  11100.0   8248.097912\n",
              "40134  17998.0  13152.327515\n",
              "70027  17595.0  17365.654368\n",
              "3394    9509.0  14029.078003\n",
              "78386  12990.0  12762.755144\n",
              "...        ...           ...\n",
              "92401  12895.0  12389.505241\n",
              "91694   4200.0   9672.487056\n",
              "83363  24970.0  29513.863924\n",
              "3269    3990.0   5008.942127\n",
              "21742  33789.0  29717.164769\n",
              "\n",
              "[21651 rows x 2 columns]"
            ]
          },
          "metadata": {
            "tags": []
          },
          "execution_count": 23
        }
      ]
    }
  ]
}