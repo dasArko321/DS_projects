{
  "cells": [
    {
      "cell_type": "code",
      "execution_count": null,
      "metadata": {
        "id": "RGfvrgVuIhAv"
      },
      "outputs": [],
      "source": [
        "import pandas as pd\n",
        "import numpy as np\n",
        "from sklearn.model_selection import train_test_split\n",
        "from sklearn.pipeline import Pipeline\n",
        "from sklearn.compose import ColumnTransformer\n",
        "from sklearn.preprocessing import StandardScaler, LabelEncoder\n",
        "from sklearn.base import BaseEstimator, TransformerMixin\n",
        "from sklearn.linear_model import LogisticRegression\n",
        "from sklearn.model_selection import StratifiedKFold\n",
        "from sklearn.model_selection import GridSearchCV\n",
        "from sklearn.metrics import make_scorer, f1_score, accuracy_score, precision_score, recall_score, confusion_matrix, classification_report\n",
        "# hyperopt imports\n",
        "from hyperopt import fmin    # for minimization of object functions\n",
        "from hyperopt import tpe     # for surrogate model\n",
        "from hyperopt import hp      # for search space optimization\n",
        "from hyperopt import Trials  # to store the trial results\n",
        "from hyperopt import STATUS_OK"
      ]
    },
    {
      "cell_type": "markdown",
      "metadata": {
        "id": "Msra0drSI5T8"
      },
      "source": [
        "## load the data set"
      ]
    },
    {
      "cell_type": "code",
      "execution_count": null,
      "metadata": {
        "id": "3gF-rrqvI2eo"
      },
      "outputs": [],
      "source": [
        "df= pd.read_csv(\"/content/drive/MyDrive/end2end_DS/DS_projects/airLinePassenger_satisfection/airline_passenger_satisfaction.csv\")\\\n",
        "  .drop(['ID'], axis= 1)\\\n",
        "  .dropna()"
      ]
    },
    {
      "cell_type": "code",
      "execution_count": null,
      "metadata": {
        "colab": {
          "base_uri": "https://localhost:8080/",
          "height": 369
        },
        "id": "NU62umt5JNAF",
        "outputId": "ef06896c-8f20-4de2-bc25-90be689388ed"
      },
      "outputs": [
        {
          "data": {
            "text/html": [
              "\n",
              "  <div id=\"df-15d78c1f-73b5-425b-a6bc-d4c7f44519d5\">\n",
              "    <div class=\"colab-df-container\">\n",
              "      <div>\n",
              "<style scoped>\n",
              "    .dataframe tbody tr th:only-of-type {\n",
              "        vertical-align: middle;\n",
              "    }\n",
              "\n",
              "    .dataframe tbody tr th {\n",
              "        vertical-align: top;\n",
              "    }\n",
              "\n",
              "    .dataframe thead th {\n",
              "        text-align: right;\n",
              "    }\n",
              "</style>\n",
              "<table border=\"1\" class=\"dataframe\">\n",
              "  <thead>\n",
              "    <tr style=\"text-align: right;\">\n",
              "      <th></th>\n",
              "      <th>Gender</th>\n",
              "      <th>Age</th>\n",
              "      <th>Customer Type</th>\n",
              "      <th>Type of Travel</th>\n",
              "      <th>Class</th>\n",
              "      <th>Flight Distance</th>\n",
              "      <th>Departure Delay</th>\n",
              "      <th>Arrival Delay</th>\n",
              "      <th>Departure and Arrival Time Convenience</th>\n",
              "      <th>Ease of Online Booking</th>\n",
              "      <th>...</th>\n",
              "      <th>On-board Service</th>\n",
              "      <th>Seat Comfort</th>\n",
              "      <th>Leg Room Service</th>\n",
              "      <th>Cleanliness</th>\n",
              "      <th>Food and Drink</th>\n",
              "      <th>In-flight Service</th>\n",
              "      <th>In-flight Wifi Service</th>\n",
              "      <th>In-flight Entertainment</th>\n",
              "      <th>Baggage Handling</th>\n",
              "      <th>Satisfaction</th>\n",
              "    </tr>\n",
              "  </thead>\n",
              "  <tbody>\n",
              "    <tr>\n",
              "      <th>0</th>\n",
              "      <td>Male</td>\n",
              "      <td>48</td>\n",
              "      <td>First-time</td>\n",
              "      <td>Business</td>\n",
              "      <td>Business</td>\n",
              "      <td>821</td>\n",
              "      <td>2</td>\n",
              "      <td>5.0</td>\n",
              "      <td>3</td>\n",
              "      <td>3</td>\n",
              "      <td>...</td>\n",
              "      <td>3</td>\n",
              "      <td>5</td>\n",
              "      <td>2</td>\n",
              "      <td>5</td>\n",
              "      <td>5</td>\n",
              "      <td>5</td>\n",
              "      <td>3</td>\n",
              "      <td>5</td>\n",
              "      <td>5</td>\n",
              "      <td>Neutral or Dissatisfied</td>\n",
              "    </tr>\n",
              "    <tr>\n",
              "      <th>1</th>\n",
              "      <td>Female</td>\n",
              "      <td>35</td>\n",
              "      <td>Returning</td>\n",
              "      <td>Business</td>\n",
              "      <td>Business</td>\n",
              "      <td>821</td>\n",
              "      <td>26</td>\n",
              "      <td>39.0</td>\n",
              "      <td>2</td>\n",
              "      <td>2</td>\n",
              "      <td>...</td>\n",
              "      <td>5</td>\n",
              "      <td>4</td>\n",
              "      <td>5</td>\n",
              "      <td>5</td>\n",
              "      <td>3</td>\n",
              "      <td>5</td>\n",
              "      <td>2</td>\n",
              "      <td>5</td>\n",
              "      <td>5</td>\n",
              "      <td>Satisfied</td>\n",
              "    </tr>\n",
              "    <tr>\n",
              "      <th>2</th>\n",
              "      <td>Male</td>\n",
              "      <td>41</td>\n",
              "      <td>Returning</td>\n",
              "      <td>Business</td>\n",
              "      <td>Business</td>\n",
              "      <td>853</td>\n",
              "      <td>0</td>\n",
              "      <td>0.0</td>\n",
              "      <td>4</td>\n",
              "      <td>4</td>\n",
              "      <td>...</td>\n",
              "      <td>3</td>\n",
              "      <td>5</td>\n",
              "      <td>3</td>\n",
              "      <td>5</td>\n",
              "      <td>5</td>\n",
              "      <td>3</td>\n",
              "      <td>4</td>\n",
              "      <td>3</td>\n",
              "      <td>3</td>\n",
              "      <td>Satisfied</td>\n",
              "    </tr>\n",
              "    <tr>\n",
              "      <th>3</th>\n",
              "      <td>Male</td>\n",
              "      <td>50</td>\n",
              "      <td>Returning</td>\n",
              "      <td>Business</td>\n",
              "      <td>Business</td>\n",
              "      <td>1905</td>\n",
              "      <td>0</td>\n",
              "      <td>0.0</td>\n",
              "      <td>2</td>\n",
              "      <td>2</td>\n",
              "      <td>...</td>\n",
              "      <td>5</td>\n",
              "      <td>5</td>\n",
              "      <td>5</td>\n",
              "      <td>4</td>\n",
              "      <td>4</td>\n",
              "      <td>5</td>\n",
              "      <td>2</td>\n",
              "      <td>5</td>\n",
              "      <td>5</td>\n",
              "      <td>Satisfied</td>\n",
              "    </tr>\n",
              "    <tr>\n",
              "      <th>4</th>\n",
              "      <td>Female</td>\n",
              "      <td>49</td>\n",
              "      <td>Returning</td>\n",
              "      <td>Business</td>\n",
              "      <td>Business</td>\n",
              "      <td>3470</td>\n",
              "      <td>0</td>\n",
              "      <td>1.0</td>\n",
              "      <td>3</td>\n",
              "      <td>3</td>\n",
              "      <td>...</td>\n",
              "      <td>3</td>\n",
              "      <td>4</td>\n",
              "      <td>4</td>\n",
              "      <td>5</td>\n",
              "      <td>4</td>\n",
              "      <td>3</td>\n",
              "      <td>3</td>\n",
              "      <td>3</td>\n",
              "      <td>3</td>\n",
              "      <td>Satisfied</td>\n",
              "    </tr>\n",
              "  </tbody>\n",
              "</table>\n",
              "<p>5 rows × 23 columns</p>\n",
              "</div>\n",
              "      <button class=\"colab-df-convert\" onclick=\"convertToInteractive('df-15d78c1f-73b5-425b-a6bc-d4c7f44519d5')\"\n",
              "              title=\"Convert this dataframe to an interactive table.\"\n",
              "              style=\"display:none;\">\n",
              "        \n",
              "  <svg xmlns=\"http://www.w3.org/2000/svg\" height=\"24px\"viewBox=\"0 0 24 24\"\n",
              "       width=\"24px\">\n",
              "    <path d=\"M0 0h24v24H0V0z\" fill=\"none\"/>\n",
              "    <path d=\"M18.56 5.44l.94 2.06.94-2.06 2.06-.94-2.06-.94-.94-2.06-.94 2.06-2.06.94zm-11 1L8.5 8.5l.94-2.06 2.06-.94-2.06-.94L8.5 2.5l-.94 2.06-2.06.94zm10 10l.94 2.06.94-2.06 2.06-.94-2.06-.94-.94-2.06-.94 2.06-2.06.94z\"/><path d=\"M17.41 7.96l-1.37-1.37c-.4-.4-.92-.59-1.43-.59-.52 0-1.04.2-1.43.59L10.3 9.45l-7.72 7.72c-.78.78-.78 2.05 0 2.83L4 21.41c.39.39.9.59 1.41.59.51 0 1.02-.2 1.41-.59l7.78-7.78 2.81-2.81c.8-.78.8-2.07 0-2.86zM5.41 20L4 18.59l7.72-7.72 1.47 1.35L5.41 20z\"/>\n",
              "  </svg>\n",
              "      </button>\n",
              "      \n",
              "  <style>\n",
              "    .colab-df-container {\n",
              "      display:flex;\n",
              "      flex-wrap:wrap;\n",
              "      gap: 12px;\n",
              "    }\n",
              "\n",
              "    .colab-df-convert {\n",
              "      background-color: #E8F0FE;\n",
              "      border: none;\n",
              "      border-radius: 50%;\n",
              "      cursor: pointer;\n",
              "      display: none;\n",
              "      fill: #1967D2;\n",
              "      height: 32px;\n",
              "      padding: 0 0 0 0;\n",
              "      width: 32px;\n",
              "    }\n",
              "\n",
              "    .colab-df-convert:hover {\n",
              "      background-color: #E2EBFA;\n",
              "      box-shadow: 0px 1px 2px rgba(60, 64, 67, 0.3), 0px 1px 3px 1px rgba(60, 64, 67, 0.15);\n",
              "      fill: #174EA6;\n",
              "    }\n",
              "\n",
              "    [theme=dark] .colab-df-convert {\n",
              "      background-color: #3B4455;\n",
              "      fill: #D2E3FC;\n",
              "    }\n",
              "\n",
              "    [theme=dark] .colab-df-convert:hover {\n",
              "      background-color: #434B5C;\n",
              "      box-shadow: 0px 1px 3px 1px rgba(0, 0, 0, 0.15);\n",
              "      filter: drop-shadow(0px 1px 2px rgba(0, 0, 0, 0.3));\n",
              "      fill: #FFFFFF;\n",
              "    }\n",
              "  </style>\n",
              "\n",
              "      <script>\n",
              "        const buttonEl =\n",
              "          document.querySelector('#df-15d78c1f-73b5-425b-a6bc-d4c7f44519d5 button.colab-df-convert');\n",
              "        buttonEl.style.display =\n",
              "          google.colab.kernel.accessAllowed ? 'block' : 'none';\n",
              "\n",
              "        async function convertToInteractive(key) {\n",
              "          const element = document.querySelector('#df-15d78c1f-73b5-425b-a6bc-d4c7f44519d5');\n",
              "          const dataTable =\n",
              "            await google.colab.kernel.invokeFunction('convertToInteractive',\n",
              "                                                     [key], {});\n",
              "          if (!dataTable) return;\n",
              "\n",
              "          const docLinkHtml = 'Like what you see? Visit the ' +\n",
              "            '<a target=\"_blank\" href=https://colab.research.google.com/notebooks/data_table.ipynb>data table notebook</a>'\n",
              "            + ' to learn more about interactive tables.';\n",
              "          element.innerHTML = '';\n",
              "          dataTable['output_type'] = 'display_data';\n",
              "          await google.colab.output.renderOutput(dataTable, element);\n",
              "          const docLink = document.createElement('div');\n",
              "          docLink.innerHTML = docLinkHtml;\n",
              "          element.appendChild(docLink);\n",
              "        }\n",
              "      </script>\n",
              "    </div>\n",
              "  </div>\n",
              "  "
            ],
            "text/plain": [
              "   Gender  Age Customer Type Type of Travel     Class  Flight Distance  \\\n",
              "0    Male   48    First-time       Business  Business              821   \n",
              "1  Female   35     Returning       Business  Business              821   \n",
              "2    Male   41     Returning       Business  Business              853   \n",
              "3    Male   50     Returning       Business  Business             1905   \n",
              "4  Female   49     Returning       Business  Business             3470   \n",
              "\n",
              "   Departure Delay  Arrival Delay  Departure and Arrival Time Convenience  \\\n",
              "0                2            5.0                                       3   \n",
              "1               26           39.0                                       2   \n",
              "2                0            0.0                                       4   \n",
              "3                0            0.0                                       2   \n",
              "4                0            1.0                                       3   \n",
              "\n",
              "   Ease of Online Booking  ...  On-board Service  Seat Comfort  \\\n",
              "0                       3  ...                 3             5   \n",
              "1                       2  ...                 5             4   \n",
              "2                       4  ...                 3             5   \n",
              "3                       2  ...                 5             5   \n",
              "4                       3  ...                 3             4   \n",
              "\n",
              "   Leg Room Service  Cleanliness  Food and Drink  In-flight Service  \\\n",
              "0                 2            5               5                  5   \n",
              "1                 5            5               3                  5   \n",
              "2                 3            5               5                  3   \n",
              "3                 5            4               4                  5   \n",
              "4                 4            5               4                  3   \n",
              "\n",
              "   In-flight Wifi Service  In-flight Entertainment  Baggage Handling  \\\n",
              "0                       3                        5                 5   \n",
              "1                       2                        5                 5   \n",
              "2                       4                        3                 3   \n",
              "3                       2                        5                 5   \n",
              "4                       3                        3                 3   \n",
              "\n",
              "              Satisfaction  \n",
              "0  Neutral or Dissatisfied  \n",
              "1                Satisfied  \n",
              "2                Satisfied  \n",
              "3                Satisfied  \n",
              "4                Satisfied  \n",
              "\n",
              "[5 rows x 23 columns]"
            ]
          },
          "execution_count": 17,
          "metadata": {},
          "output_type": "execute_result"
        }
      ],
      "source": [
        "df.head()"
      ]
    },
    {
      "cell_type": "markdown",
      "metadata": {
        "id": "aFUFlDKzJdcv"
      },
      "source": [
        "## creating baseline model"
      ]
    },
    {
      "cell_type": "code",
      "execution_count": null,
      "metadata": {
        "colab": {
          "base_uri": "https://localhost:8080/"
        },
        "id": "FLz7lESzJohr",
        "outputId": "5a059989-6a25-4174-8fce-3e0c31639b81"
      },
      "outputs": [
        {
          "output_type": "stream",
          "name": "stdout",
          "text": [
            "train size X :  (103589, 22)\n",
            "train size y :  (103589,)\n",
            "test size  X :  (25898, 22)\n",
            "test size  y :  (25898,)\n"
          ]
        }
      ],
      "source": [
        "# split maadi\n",
        "# let's split our datasets\n",
        "#split data into dependent variables(X) and independent variable(y) that we would predict\n",
        "y = df.pop(\"Satisfaction\").map({'Satisfied': 1, 'Neutral or Dissatisfied': 0})\n",
        "X = df\n",
        "#Let’s split X and y using Train test split\n",
        "X_train,X_test,y_train,y_test = train_test_split(X, y, random_state=42, train_size=0.8, shuffle= True)\n",
        "#get shape of train and test data\n",
        "print(\"train size X : \", X_train.shape)\n",
        "print(\"train size y : \", y_train.shape)\n",
        "print(\"test size  X : \", X_test.shape)\n",
        "print(\"test size  y : \", y_test.shape)"
      ]
    },
    {
      "cell_type": "code",
      "execution_count": null,
      "metadata": {
        "colab": {
          "base_uri": "https://localhost:8080/"
        },
        "id": "fk5JNIpZLiVv",
        "outputId": "81e860bb-3eff-473b-a061-d8df69357230"
      },
      "outputs": [
        {
          "output_type": "stream",
          "name": "stdout",
          "text": [
            "\n",
            ">>>>>>>init() called.\n",
            "\n"
          ]
        }
      ],
      "source": [
        "# let's build the pipeline\n",
        "# our pipeline will have 2 things, preprocessing and model build\n",
        "\n",
        "# preprocessing steps:\n",
        "# standardization of neumerical cols\n",
        "# transforming age bucket\n",
        "# one hot encoding of categorical cols\n",
        "\n",
        "\n",
        "class getEncoded(BaseEstimator, TransformerMixin):\n",
        "  def __init__(self):\n",
        "    print('\\n>>>>>>>init() called.\\n')\n",
        "  def fit(self, X, y = None):\n",
        "    print('\\n>>>>>>>fit() called.\\n')\n",
        "    return self\n",
        "  def transform(self,  X, y = None):\n",
        "    print('\\n>>>>>>>transform() called.\\n')\n",
        "    return pd.get_dummies(X, drop_first= True)\n",
        "\n",
        "\n",
        "  \n",
        "\n",
        "\n",
        "numeric_transformer        = Pipeline(steps=[('scaler', StandardScaler())])\n",
        "categorical_transformer    = Pipeline(steps=[('x_transformer', getEncoded())])\n",
        "\n",
        "\n",
        "numeric_features     = X_train.select_dtypes(include=['int64', 'float64']).columns\n",
        "categorical_features = X_train.select_dtypes(include=['object']).columns\n",
        "\n",
        "\n",
        "preprocessor = ColumnTransformer(\n",
        "   transformers=[\n",
        "    ('numeric', numeric_transformer, numeric_features),\n",
        "    ('categorical', categorical_transformer, categorical_features)\n",
        "]) "
      ]
    },
    {
      "cell_type": "code",
      "execution_count": null,
      "metadata": {
        "id": "75u1sU0lL9J2"
      },
      "outputs": [],
      "source": [
        "pipeline = Pipeline(steps = [\n",
        "               ('preprocessor', preprocessor)\n",
        "              ,('regressor', LogisticRegression())\n",
        "           ])"
      ]
    },
    {
      "cell_type": "code",
      "execution_count": null,
      "metadata": {
        "colab": {
          "base_uri": "https://localhost:8080/"
        },
        "id": "v42eE3I6MKXj",
        "outputId": "575b3eea-a9d1-4593-f421-c3520c68aef6"
      },
      "outputs": [
        {
          "name": "stdout",
          "output_type": "stream",
          "text": [
            "\n",
            ">>>>>>>init() called.\n",
            "\n",
            "\n",
            ">>>>>>>fit() called.\n",
            "\n",
            "\n",
            ">>>>>>>transform() called.\n",
            "\n",
            "Pipeline(steps=[('preprocessor',\n",
            "                 ColumnTransformer(transformers=[('categorical',\n",
            "                                                  Pipeline(steps=[('x_transformer',\n",
            "                                                                   getEncoded())]),\n",
            "                                                  Index(['Gender', 'Customer Type', 'Type of Travel', 'Class'], dtype='object'))])),\n",
            "                ('regressor', LogisticRegression())])\n"
          ]
        }
      ],
      "source": [
        "model = pipeline.fit(X_train, y_train)\n",
        "print(model)"
      ]
    },
    {
      "cell_type": "code",
      "execution_count": null,
      "metadata": {
        "colab": {
          "base_uri": "https://localhost:8080/"
        },
        "id": "wBwrXIAIMP6f",
        "outputId": "0dec239c-d1ab-4371-aae2-3edac62a7414"
      },
      "outputs": [
        {
          "name": "stdout",
          "output_type": "stream",
          "text": [
            "\n",
            ">>>>>>>transform() called.\n",
            "\n",
            "              precision    recall  f1-score   support\n",
            "\n",
            "           0       0.80      0.81      0.81     58540\n",
            "           1       0.75      0.75      0.75     45049\n",
            "\n",
            "    accuracy                           0.78    103589\n",
            "   macro avg       0.78      0.78      0.78    103589\n",
            "weighted avg       0.78      0.78      0.78    103589\n",
            "\n",
            "\n",
            ">>>>>>>transform() called.\n",
            "\n",
            "[[47233 11307]\n",
            " [11486 33563]]\n",
            "[[58540     0]\n",
            " [    0 45049]]\n"
          ]
        }
      ],
      "source": [
        "# training report\n",
        "print(classification_report(y_train, model.predict(X_train)))\n",
        "print(confusion_matrix(y_train, model.predict(X_train)))\n",
        "print(confusion_matrix(y_train, y_train))"
      ]
    },
    {
      "cell_type": "code",
      "execution_count": null,
      "metadata": {
        "colab": {
          "base_uri": "https://localhost:8080/"
        },
        "id": "6Ns6T37RNpPL",
        "outputId": "427e6f0f-19ed-42b0-d3f9-22b02692d0a0"
      },
      "outputs": [
        {
          "name": "stdout",
          "output_type": "stream",
          "text": [
            "\n",
            ">>>>>>>transform() called.\n",
            "\n",
            "              precision    recall  f1-score   support\n",
            "\n",
            "           0       0.81      0.81      0.81     14685\n",
            "           1       0.75      0.74      0.75     11213\n",
            "\n",
            "    accuracy                           0.78     25898\n",
            "   macro avg       0.78      0.78      0.78     25898\n",
            "weighted avg       0.78      0.78      0.78     25898\n",
            "\n",
            "\n",
            ">>>>>>>transform() called.\n",
            "\n",
            "[[11846  2839]\n",
            " [ 2860  8353]]\n",
            "[[14685     0]\n",
            " [    0 11213]]\n"
          ]
        }
      ],
      "source": [
        "# test report\n",
        "print(classification_report(y_test, model.predict(X_test)))\n",
        "print(confusion_matrix(y_test, model.predict(X_test)))\n",
        "print(confusion_matrix(y_test, y_test))"
      ]
    },
    {
      "cell_type": "markdown",
      "metadata": {
        "id": "xQg7rBhAOZU7"
      },
      "source": [
        "## hyper parameter"
      ]
    },
    {
      "cell_type": "code",
      "execution_count": null,
      "metadata": {
        "id": "pOut3UFpOb_s"
      },
      "outputs": [],
      "source": [
        "# defining search space\n",
        "space = {\n",
        "            'warm_start' : hp.choice('warm_start', [True, False]),\n",
        "            #'fit_intercept' : hp.choice('fit_intercept', [True, False]),\n",
        "            'tol' : hp.uniform('tol', 0.00001, 0.0001),\n",
        "            'C' : hp.uniform('C', 0.001, 5),\n",
        "            #'solver' : hp.choice('solver', ['newton-cg', 'lbfgs', 'liblinear', 'saga']),\n",
        "            'solver': 'saga',\n",
        "            'penalty': hp.choice('penalty', ['l1', 'l2']),\n",
        "            #'max_iter' : hp.choice('max_iter', range(100,1000))\n",
        "            #'multi_class' : 'auto',\n",
        "            #'class_weight' : 'balanced'\n",
        "                }"
      ]
    },
    {
      "cell_type": "code",
      "execution_count": null,
      "metadata": {
        "id": "UcCS0XFoX1MU"
      },
      "outputs": [],
      "source": [
        "def obj(space):\n",
        "  clf= LogisticRegression(**space)\n",
        "  pipeline = Pipeline(steps = [\n",
        "               ('preprocessor', preprocessor)\n",
        "              ,('regressor', clf)\n",
        "           ])\n",
        "  \n",
        "  print(clf.get_params())\n",
        "  model = pipeline.fit(X_train, y_train)\n",
        "  pred = model.predict(X_test)\n",
        "  f1Score = f1_score(y_test, pred, average= 'micro')\n",
        "  print(\"SCORE:\", f1Score)\n",
        "  print(classification_report(y_test, pred))\n",
        "  return {'loss': -f1Score, 'status': STATUS_OK }\n"
      ]
    },
    {
      "cell_type": "code",
      "execution_count": null,
      "metadata": {
        "colab": {
          "base_uri": "https://localhost:8080/"
        },
        "id": "z8fS-ykiYvcU",
        "outputId": "af799491-c9b0-475a-cdc8-cd5ac5ff1644"
      },
      "outputs": [
        {
          "output_type": "stream",
          "name": "stdout",
          "text": [
            "{'C': 1.197945052231733, 'class_weight': None, 'dual': False, 'fit_intercept': True, 'intercept_scaling': 1, 'l1_ratio': None, 'max_iter': 100, 'multi_class': 'auto', 'n_jobs': None, 'penalty': 'l2', 'random_state': None, 'solver': 'saga', 'tol': 7.610246451297854e-05, 'verbose': 0, 'warm_start': False}\n",
            "\n",
            ">>>>>>>init() called.\n",
            "\n",
            "\n",
            ">>>>>>>fit() called.\n",
            "\n",
            "\n",
            ">>>>>>>transform() called.\n",
            "\n",
            "\n",
            ">>>>>>>transform() called.\n",
            "\n",
            "SCORE:\n",
            "0.8718433855896208\n",
            "              precision    recall  f1-score   support\n",
            "\n",
            "           0       0.88      0.90      0.89     14685\n",
            "           1       0.87      0.83      0.85     11213\n",
            "\n",
            "    accuracy                           0.87     25898\n",
            "   macro avg       0.87      0.87      0.87     25898\n",
            "weighted avg       0.87      0.87      0.87     25898\n",
            "\n",
            "{'C': 1.885802244205855, 'class_weight': None, 'dual': False, 'fit_intercept': True, 'intercept_scaling': 1, 'l1_ratio': None, 'max_iter': 100, 'multi_class': 'auto', 'n_jobs': None, 'penalty': 'l1', 'random_state': None, 'solver': 'saga', 'tol': 2.321338411412373e-05, 'verbose': 0, 'warm_start': False}\n",
            "\n",
            ">>>>>>>init() called.\n",
            "\n",
            "\n",
            ">>>>>>>fit() called.\n",
            "\n",
            "\n",
            ">>>>>>>transform() called.\n",
            "\n",
            "\n",
            ">>>>>>>transform() called.\n",
            "\n",
            "SCORE:\n",
            "0.8718433855896208\n",
            "              precision    recall  f1-score   support\n",
            "\n",
            "           0       0.88      0.90      0.89     14685\n",
            "           1       0.87      0.83      0.85     11213\n",
            "\n",
            "    accuracy                           0.87     25898\n",
            "   macro avg       0.87      0.87      0.87     25898\n",
            "weighted avg       0.87      0.87      0.87     25898\n",
            "\n",
            "{'C': 4.322499044566328, 'class_weight': None, 'dual': False, 'fit_intercept': True, 'intercept_scaling': 1, 'l1_ratio': None, 'max_iter': 100, 'multi_class': 'auto', 'n_jobs': None, 'penalty': 'l2', 'random_state': None, 'solver': 'saga', 'tol': 8.288968447978174e-05, 'verbose': 0, 'warm_start': True}\n",
            "\n",
            ">>>>>>>init() called.\n",
            "\n",
            "\n",
            ">>>>>>>fit() called.\n",
            "\n",
            "\n",
            ">>>>>>>transform() called.\n",
            "\n",
            "\n",
            ">>>>>>>transform() called.\n",
            "\n",
            "SCORE:\n",
            "0.8718047725693103\n",
            "              precision    recall  f1-score   support\n",
            "\n",
            "           0       0.88      0.90      0.89     14685\n",
            "           1       0.87      0.83      0.85     11213\n",
            "\n",
            "    accuracy                           0.87     25898\n",
            "   macro avg       0.87      0.87      0.87     25898\n",
            "weighted avg       0.87      0.87      0.87     25898\n",
            "\n",
            "{'C': 3.7058310653589013, 'class_weight': None, 'dual': False, 'fit_intercept': True, 'intercept_scaling': 1, 'l1_ratio': None, 'max_iter': 100, 'multi_class': 'auto', 'n_jobs': None, 'penalty': 'l1', 'random_state': None, 'solver': 'saga', 'tol': 2.7844370595474772e-05, 'verbose': 0, 'warm_start': True}\n",
            "\n",
            ">>>>>>>init() called.\n",
            "\n",
            "\n",
            ">>>>>>>fit() called.\n",
            "\n",
            "\n",
            ">>>>>>>transform() called.\n",
            "\n",
            "\n",
            ">>>>>>>transform() called.\n",
            "\n",
            "SCORE:\n",
            "0.8718433855896208\n",
            "              precision    recall  f1-score   support\n",
            "\n",
            "           0       0.88      0.90      0.89     14685\n",
            "           1       0.87      0.83      0.85     11213\n",
            "\n",
            "    accuracy                           0.87     25898\n",
            "   macro avg       0.87      0.87      0.87     25898\n",
            "weighted avg       0.87      0.87      0.87     25898\n",
            "\n",
            "{'C': 4.786206402218859, 'class_weight': None, 'dual': False, 'fit_intercept': True, 'intercept_scaling': 1, 'l1_ratio': None, 'max_iter': 100, 'multi_class': 'auto', 'n_jobs': None, 'penalty': 'l1', 'random_state': None, 'solver': 'saga', 'tol': 5.5334641811226224e-05, 'verbose': 0, 'warm_start': True}\n",
            "\n",
            ">>>>>>>init() called.\n",
            "\n",
            "\n",
            ">>>>>>>fit() called.\n",
            "\n",
            "\n",
            ">>>>>>>transform() called.\n",
            "\n",
            "\n",
            ">>>>>>>transform() called.\n",
            "\n",
            "SCORE:\n",
            "0.8718433855896208\n",
            "              precision    recall  f1-score   support\n",
            "\n",
            "           0       0.88      0.90      0.89     14685\n",
            "           1       0.87      0.83      0.85     11213\n",
            "\n",
            "    accuracy                           0.87     25898\n",
            "   macro avg       0.87      0.87      0.87     25898\n",
            "weighted avg       0.87      0.87      0.87     25898\n",
            "\n",
            "{'C': 4.917713505752632, 'class_weight': None, 'dual': False, 'fit_intercept': True, 'intercept_scaling': 1, 'l1_ratio': None, 'max_iter': 100, 'multi_class': 'auto', 'n_jobs': None, 'penalty': 'l2', 'random_state': None, 'solver': 'saga', 'tol': 9.769375690477032e-05, 'verbose': 0, 'warm_start': False}\n",
            "\n",
            ">>>>>>>init() called.\n",
            "\n",
            "\n",
            ">>>>>>>fit() called.\n",
            "\n",
            "\n",
            ">>>>>>>transform() called.\n",
            "\n",
            "\n",
            ">>>>>>>transform() called.\n",
            "\n",
            "SCORE:\n",
            "0.8718047725693103\n",
            "              precision    recall  f1-score   support\n",
            "\n",
            "           0       0.88      0.90      0.89     14685\n",
            "           1       0.87      0.83      0.85     11213\n",
            "\n",
            "    accuracy                           0.87     25898\n",
            "   macro avg       0.87      0.87      0.87     25898\n",
            "weighted avg       0.87      0.87      0.87     25898\n",
            "\n",
            "{'C': 1.9186209490336932, 'class_weight': None, 'dual': False, 'fit_intercept': True, 'intercept_scaling': 1, 'l1_ratio': None, 'max_iter': 100, 'multi_class': 'auto', 'n_jobs': None, 'penalty': 'l1', 'random_state': None, 'solver': 'saga', 'tol': 6.109746083386445e-05, 'verbose': 0, 'warm_start': False}\n",
            "\n",
            ">>>>>>>init() called.\n",
            "\n",
            "\n",
            ">>>>>>>fit() called.\n",
            "\n",
            "\n",
            ">>>>>>>transform() called.\n",
            "\n",
            "\n",
            ">>>>>>>transform() called.\n",
            "\n",
            "SCORE:\n",
            "0.8718433855896208\n",
            "              precision    recall  f1-score   support\n",
            "\n",
            "           0       0.88      0.90      0.89     14685\n",
            "           1       0.87      0.83      0.85     11213\n",
            "\n",
            "    accuracy                           0.87     25898\n",
            "   macro avg       0.87      0.87      0.87     25898\n",
            "weighted avg       0.87      0.87      0.87     25898\n",
            "\n",
            "{'C': 4.256846791692711, 'class_weight': None, 'dual': False, 'fit_intercept': True, 'intercept_scaling': 1, 'l1_ratio': None, 'max_iter': 100, 'multi_class': 'auto', 'n_jobs': None, 'penalty': 'l2', 'random_state': None, 'solver': 'saga', 'tol': 8.362289701192701e-05, 'verbose': 0, 'warm_start': True}\n",
            "\n",
            ">>>>>>>init() called.\n",
            "\n",
            "\n",
            ">>>>>>>fit() called.\n",
            "\n",
            "\n",
            ">>>>>>>transform() called.\n",
            "\n",
            "\n",
            ">>>>>>>transform() called.\n",
            "\n",
            "SCORE:\n",
            "0.8718047725693103\n",
            "              precision    recall  f1-score   support\n",
            "\n",
            "           0       0.88      0.90      0.89     14685\n",
            "           1       0.87      0.83      0.85     11213\n",
            "\n",
            "    accuracy                           0.87     25898\n",
            "   macro avg       0.87      0.87      0.87     25898\n",
            "weighted avg       0.87      0.87      0.87     25898\n",
            "\n",
            "{'C': 2.9204521535726995, 'class_weight': None, 'dual': False, 'fit_intercept': True, 'intercept_scaling': 1, 'l1_ratio': None, 'max_iter': 100, 'multi_class': 'auto', 'n_jobs': None, 'penalty': 'l2', 'random_state': None, 'solver': 'saga', 'tol': 3.868848780674542e-05, 'verbose': 0, 'warm_start': False}\n",
            "\n",
            ">>>>>>>init() called.\n",
            "\n",
            "\n",
            ">>>>>>>fit() called.\n",
            "\n",
            "\n",
            ">>>>>>>transform() called.\n",
            "\n",
            "\n",
            ">>>>>>>transform() called.\n",
            "\n",
            "SCORE:\n",
            "0.8718047725693103\n",
            "              precision    recall  f1-score   support\n",
            "\n",
            "           0       0.88      0.90      0.89     14685\n",
            "           1       0.87      0.83      0.85     11213\n",
            "\n",
            "    accuracy                           0.87     25898\n",
            "   macro avg       0.87      0.87      0.87     25898\n",
            "weighted avg       0.87      0.87      0.87     25898\n",
            "\n",
            "{'C': 2.7261959874216948, 'class_weight': None, 'dual': False, 'fit_intercept': True, 'intercept_scaling': 1, 'l1_ratio': None, 'max_iter': 100, 'multi_class': 'auto', 'n_jobs': None, 'penalty': 'l2', 'random_state': None, 'solver': 'saga', 'tol': 3.6523611601198975e-05, 'verbose': 0, 'warm_start': False}\n",
            "\n",
            ">>>>>>>init() called.\n",
            "\n",
            "\n",
            ">>>>>>>fit() called.\n",
            "\n",
            "\n",
            ">>>>>>>transform() called.\n",
            "\n",
            "\n",
            ">>>>>>>transform() called.\n",
            "\n",
            "SCORE:\n",
            "0.8718047725693103\n",
            "              precision    recall  f1-score   support\n",
            "\n",
            "           0       0.88      0.90      0.89     14685\n",
            "           1       0.87      0.83      0.85     11213\n",
            "\n",
            "    accuracy                           0.87     25898\n",
            "   macro avg       0.87      0.87      0.87     25898\n",
            "weighted avg       0.87      0.87      0.87     25898\n",
            "\n",
            "100%|██████████| 10/10 [00:26<00:00,  2.61s/it, best loss: -0.8718433855896208]\n"
          ]
        }
      ],
      "source": [
        "trials = Trials()\n",
        "\n",
        "best_hyperparams = fmin(fn = obj,\n",
        "                        space = space,\n",
        "                        algo = tpe.suggest,      #surrogate model\n",
        "                        max_evals = 10,         #10 runs\n",
        "                        trials = trials)"
      ]
    },
    {
      "cell_type": "code",
      "execution_count": null,
      "metadata": {
        "colab": {
          "base_uri": "https://localhost:8080/"
        },
        "id": "8fgV4OKSic-n",
        "outputId": "7f66f1b8-55be-44d6-e673-93292a2bc16b"
      },
      "outputs": [
        {
          "output_type": "stream",
          "name": "stdout",
          "text": [
            "The best hyperparameters are :  \n",
            "\n",
            "{'C': 1.197945052231733, 'penalty': 1, 'tol': 7.610246451297854e-05, 'warm_start': 1}\n",
            "-0.8718433855896208\n"
          ]
        }
      ],
      "source": [
        "print(\"The best hyperparameters are : \",\"\\n\")\n",
        "print(best_hyperparams)\n",
        "print(trials.best_trial['result']['loss'])\n"
      ]
    },
    {
      "cell_type": "markdown",
      "source": [
        "## performing grid search"
      ],
      "metadata": {
        "id": "aA4PGEcRy3Xs"
      }
    },
    {
      "cell_type": "code",
      "source": [
        "params= {\n",
        "    'C': [0.8, 1.19, 1.5],\n",
        "    'tol': [7.610246451297854e-07, 7.610246451297854e-05, 7.610246451297854e-01]\n",
        "}\n",
        "clf= LogisticRegression(penalty= 'l1', warm_start= True, solver= 'saga')\n",
        "scoring = {'accuracy': make_scorer(accuracy_score),\n",
        "           'precision': make_scorer(precision_score, average = 'micro'),\n",
        "           'recall': make_scorer(recall_score, average = 'micro'),\n",
        "           'f1': make_scorer(f1_score, average = 'micro')}\n",
        "\n",
        "folds = StratifiedKFold(n_splits= 3, shuffle= True, random_state= 42)\n",
        "logit= GridSearchCV(estimator= clf, param_grid= params, cv= folds, return_train_score= True, scoring = scoring, refit='f1', verbose= 1000)\n",
        "X_train1= preprocessor.fit_transform(X_train)\n",
        "model = logit.fit(X_train1, y_train)"
      ],
      "metadata": {
        "colab": {
          "base_uri": "https://localhost:8080/"
        },
        "id": "3rnMKXUrytrq",
        "outputId": "6dda5a85-1d3d-4b8a-fdde-dc5d1e858abd"
      },
      "execution_count": null,
      "outputs": [
        {
          "output_type": "stream",
          "name": "stdout",
          "text": [
            "\n",
            ">>>>>>>init() called.\n",
            "\n",
            "\n",
            ">>>>>>>fit() called.\n",
            "\n",
            "\n",
            ">>>>>>>transform() called.\n",
            "\n",
            "Fitting 3 folds for each of 9 candidates, totalling 27 fits\n",
            "[CV 1/3; 1/9] START C=0.8, tol=7.610246451297854e-07............................\n",
            "[CV 1/3; 1/9] END C=0.8, tol=7.610246451297854e-07; accuracy: (train=0.874, test=0.876) f1: (train=0.874, test=0.876) precision: (train=0.874, test=0.876) recall: (train=0.874, test=0.876) total time=   2.4s\n",
            "[CV 2/3; 1/9] START C=0.8, tol=7.610246451297854e-07............................\n",
            "[CV 2/3; 1/9] END C=0.8, tol=7.610246451297854e-07; accuracy: (train=0.875, test=0.874) f1: (train=0.875, test=0.874) precision: (train=0.875, test=0.874) recall: (train=0.875, test=0.874) total time=   4.0s\n",
            "[CV 3/3; 1/9] START C=0.8, tol=7.610246451297854e-07............................\n",
            "[CV 3/3; 1/9] END C=0.8, tol=7.610246451297854e-07; accuracy: (train=0.876, test=0.873) f1: (train=0.876, test=0.873) precision: (train=0.876, test=0.873) recall: (train=0.876, test=0.873) total time=   3.3s\n",
            "[CV 1/3; 2/9] START C=0.8, tol=7.610246451297854e-05............................\n",
            "[CV 1/3; 2/9] END C=0.8, tol=7.610246451297854e-05; accuracy: (train=0.874, test=0.876) f1: (train=0.874, test=0.876) precision: (train=0.874, test=0.876) recall: (train=0.874, test=0.876) total time=   0.9s\n",
            "[CV 2/3; 2/9] START C=0.8, tol=7.610246451297854e-05............................\n",
            "[CV 2/3; 2/9] END C=0.8, tol=7.610246451297854e-05; accuracy: (train=0.875, test=0.874) f1: (train=0.875, test=0.874) precision: (train=0.875, test=0.874) recall: (train=0.875, test=0.874) total time=   1.9s\n",
            "[CV 3/3; 2/9] START C=0.8, tol=7.610246451297854e-05............................\n",
            "[CV 3/3; 2/9] END C=0.8, tol=7.610246451297854e-05; accuracy: (train=0.875, test=0.873) f1: (train=0.875, test=0.873) precision: (train=0.875, test=0.873) recall: (train=0.875, test=0.873) total time=   1.8s\n",
            "[CV 1/3; 3/9] START C=0.8, tol=0.7610246451297854...............................\n",
            "[CV 1/3; 3/9] END C=0.8, tol=0.7610246451297854; accuracy: (train=0.872, test=0.875) f1: (train=0.872, test=0.875) precision: (train=0.872, test=0.875) recall: (train=0.872, test=0.875) total time=   0.2s\n",
            "[CV 2/3; 3/9] START C=0.8, tol=0.7610246451297854...............................\n",
            "[CV 2/3; 3/9] END C=0.8, tol=0.7610246451297854; accuracy: (train=0.871, test=0.870) f1: (train=0.871, test=0.870) precision: (train=0.871, test=0.870) recall: (train=0.871, test=0.870) total time=   0.2s\n",
            "[CV 3/3; 3/9] START C=0.8, tol=0.7610246451297854...............................\n",
            "[CV 3/3; 3/9] END C=0.8, tol=0.7610246451297854; accuracy: (train=0.871, test=0.870) f1: (train=0.871, test=0.870) precision: (train=0.871, test=0.870) recall: (train=0.871, test=0.870) total time=   0.2s\n",
            "[CV 1/3; 4/9] START C=1.19, tol=7.610246451297854e-07...........................\n",
            "[CV 1/3; 4/9] END C=1.19, tol=7.610246451297854e-07; accuracy: (train=0.874, test=0.876) f1: (train=0.874, test=0.876) precision: (train=0.874, test=0.876) recall: (train=0.874, test=0.876) total time=   1.5s\n",
            "[CV 2/3; 4/9] START C=1.19, tol=7.610246451297854e-07...........................\n",
            "[CV 2/3; 4/9] END C=1.19, tol=7.610246451297854e-07; accuracy: (train=0.875, test=0.874) f1: (train=0.875, test=0.874) precision: (train=0.875, test=0.874) recall: (train=0.875, test=0.874) total time=   3.5s\n",
            "[CV 3/3; 4/9] START C=1.19, tol=7.610246451297854e-07...........................\n",
            "[CV 3/3; 4/9] END C=1.19, tol=7.610246451297854e-07; accuracy: (train=0.875, test=0.873) f1: (train=0.875, test=0.873) precision: (train=0.875, test=0.873) recall: (train=0.875, test=0.873) total time=   3.4s\n",
            "[CV 1/3; 5/9] START C=1.19, tol=7.610246451297854e-05...........................\n",
            "[CV 1/3; 5/9] END C=1.19, tol=7.610246451297854e-05; accuracy: (train=0.874, test=0.876) f1: (train=0.874, test=0.876) precision: (train=0.874, test=0.876) recall: (train=0.874, test=0.876) total time=   0.9s\n",
            "[CV 2/3; 5/9] START C=1.19, tol=7.610246451297854e-05...........................\n",
            "[CV 2/3; 5/9] END C=1.19, tol=7.610246451297854e-05; accuracy: (train=0.875, test=0.874) f1: (train=0.875, test=0.874) precision: (train=0.875, test=0.874) recall: (train=0.875, test=0.874) total time=   1.9s\n",
            "[CV 3/3; 5/9] START C=1.19, tol=7.610246451297854e-05...........................\n",
            "[CV 3/3; 5/9] END C=1.19, tol=7.610246451297854e-05; accuracy: (train=0.875, test=0.873) f1: (train=0.875, test=0.873) precision: (train=0.875, test=0.873) recall: (train=0.875, test=0.873) total time=   1.8s\n",
            "[CV 1/3; 6/9] START C=1.19, tol=0.7610246451297854..............................\n",
            "[CV 1/3; 6/9] END C=1.19, tol=0.7610246451297854; accuracy: (train=0.873, test=0.875) f1: (train=0.873, test=0.875) precision: (train=0.873, test=0.875) recall: (train=0.873, test=0.875) total time=   0.2s\n",
            "[CV 2/3; 6/9] START C=1.19, tol=0.7610246451297854..............................\n",
            "[CV 2/3; 6/9] END C=1.19, tol=0.7610246451297854; accuracy: (train=0.871, test=0.870) f1: (train=0.871, test=0.870) precision: (train=0.871, test=0.870) recall: (train=0.871, test=0.870) total time=   0.2s\n",
            "[CV 3/3; 6/9] START C=1.19, tol=0.7610246451297854..............................\n",
            "[CV 3/3; 6/9] END C=1.19, tol=0.7610246451297854; accuracy: (train=0.871, test=0.870) f1: (train=0.871, test=0.870) precision: (train=0.871, test=0.870) recall: (train=0.871, test=0.870) total time=   0.2s\n",
            "[CV 1/3; 7/9] START C=1.5, tol=7.610246451297854e-07............................\n",
            "[CV 1/3; 7/9] END C=1.5, tol=7.610246451297854e-07; accuracy: (train=0.874, test=0.876) f1: (train=0.874, test=0.876) precision: (train=0.874, test=0.876) recall: (train=0.874, test=0.876) total time=   1.6s\n",
            "[CV 2/3; 7/9] START C=1.5, tol=7.610246451297854e-07............................\n",
            "[CV 2/3; 7/9] END C=1.5, tol=7.610246451297854e-07; accuracy: (train=0.875, test=0.874) f1: (train=0.875, test=0.874) precision: (train=0.875, test=0.874) recall: (train=0.875, test=0.874) total time=   3.5s\n",
            "[CV 3/3; 7/9] START C=1.5, tol=7.610246451297854e-07............................\n",
            "[CV 3/3; 7/9] END C=1.5, tol=7.610246451297854e-07; accuracy: (train=0.875, test=0.873) f1: (train=0.875, test=0.873) precision: (train=0.875, test=0.873) recall: (train=0.875, test=0.873) total time=   3.3s\n",
            "[CV 1/3; 8/9] START C=1.5, tol=7.610246451297854e-05............................\n",
            "[CV 1/3; 8/9] END C=1.5, tol=7.610246451297854e-05; accuracy: (train=0.874, test=0.876) f1: (train=0.874, test=0.876) precision: (train=0.874, test=0.876) recall: (train=0.874, test=0.876) total time=   0.9s\n",
            "[CV 2/3; 8/9] START C=1.5, tol=7.610246451297854e-05............................\n",
            "[CV 2/3; 8/9] END C=1.5, tol=7.610246451297854e-05; accuracy: (train=0.875, test=0.874) f1: (train=0.875, test=0.874) precision: (train=0.875, test=0.874) recall: (train=0.875, test=0.874) total time=   2.0s\n",
            "[CV 3/3; 8/9] START C=1.5, tol=7.610246451297854e-05............................\n",
            "[CV 3/3; 8/9] END C=1.5, tol=7.610246451297854e-05; accuracy: (train=0.875, test=0.873) f1: (train=0.875, test=0.873) precision: (train=0.875, test=0.873) recall: (train=0.875, test=0.873) total time=   1.8s\n",
            "[CV 1/3; 9/9] START C=1.5, tol=0.7610246451297854...............................\n",
            "[CV 1/3; 9/9] END C=1.5, tol=0.7610246451297854; accuracy: (train=0.873, test=0.876) f1: (train=0.873, test=0.876) precision: (train=0.873, test=0.876) recall: (train=0.873, test=0.876) total time=   0.2s\n",
            "[CV 2/3; 9/9] START C=1.5, tol=0.7610246451297854...............................\n",
            "[CV 2/3; 9/9] END C=1.5, tol=0.7610246451297854; accuracy: (train=0.871, test=0.870) f1: (train=0.871, test=0.870) precision: (train=0.871, test=0.870) recall: (train=0.871, test=0.870) total time=   0.2s\n",
            "[CV 3/3; 9/9] START C=1.5, tol=0.7610246451297854...............................\n",
            "[CV 3/3; 9/9] END C=1.5, tol=0.7610246451297854; accuracy: (train=0.871, test=0.870) f1: (train=0.871, test=0.870) precision: (train=0.871, test=0.870) recall: (train=0.871, test=0.870) total time=   0.2s\n"
          ]
        }
      ]
    },
    {
      "cell_type": "markdown",
      "source": [
        "## final model"
      ],
      "metadata": {
        "id": "OEMB_P1C7DRe"
      }
    },
    {
      "cell_type": "code",
      "source": [
        "print(\"Best parameters:\", model.best_params_)"
      ],
      "metadata": {
        "colab": {
          "base_uri": "https://localhost:8080/"
        },
        "id": "1_ZuTgBI2W5y",
        "outputId": "bd4c9c90-3f71-4744-cd06-7b0d21e02fa5"
      },
      "execution_count": null,
      "outputs": [
        {
          "output_type": "stream",
          "name": "stdout",
          "text": [
            "Best parameters: {'C': 1.5, 'tol': 7.610246451297854e-07}\n"
          ]
        }
      ]
    },
    {
      "cell_type": "code",
      "source": [
        "clf= LogisticRegression(penalty= 'l1', warm_start= True, solver= 'saga', C= 1.5, tol= 7.610246451297854e-07)\n",
        "pipeline = Pipeline(steps = [\n",
        "               ('preprocessor', preprocessor)\n",
        "              ,('regressor', clf)\n",
        "           ])\n",
        "model = pipeline.fit(X_train, y_train)"
      ],
      "metadata": {
        "colab": {
          "base_uri": "https://localhost:8080/"
        },
        "id": "K7uw2kEa55Ht",
        "outputId": "97fb974d-e5f3-4893-ce5a-69274d916c01"
      },
      "execution_count": null,
      "outputs": [
        {
          "output_type": "stream",
          "name": "stdout",
          "text": [
            "\n",
            ">>>>>>>init() called.\n",
            "\n",
            "\n",
            ">>>>>>>fit() called.\n",
            "\n",
            "\n",
            ">>>>>>>transform() called.\n",
            "\n"
          ]
        }
      ]
    },
    {
      "cell_type": "code",
      "source": [
        "print(classification_report(y_test, model.predict(X_test)))"
      ],
      "metadata": {
        "colab": {
          "base_uri": "https://localhost:8080/"
        },
        "id": "ncStPrWj6k8x",
        "outputId": "3ee54acb-5ebe-4385-ec30-e33db931a408"
      },
      "execution_count": null,
      "outputs": [
        {
          "output_type": "stream",
          "name": "stdout",
          "text": [
            "\n",
            ">>>>>>>transform() called.\n",
            "\n",
            "              precision    recall  f1-score   support\n",
            "\n",
            "           0       0.88      0.90      0.89     14685\n",
            "           1       0.87      0.83      0.85     11213\n",
            "\n",
            "    accuracy                           0.87     25898\n",
            "   macro avg       0.87      0.87      0.87     25898\n",
            "weighted avg       0.87      0.87      0.87     25898\n",
            "\n"
          ]
        }
      ]
    }
  ],
  "metadata": {
    "colab": {
      "collapsed_sections": [],
      "name": "logistic.ipynb",
      "provenance": []
    },
    "kernelspec": {
      "display_name": "Python 3",
      "name": "python3"
    },
    "language_info": {
      "name": "python"
    }
  },
  "nbformat": 4,
  "nbformat_minor": 0
}