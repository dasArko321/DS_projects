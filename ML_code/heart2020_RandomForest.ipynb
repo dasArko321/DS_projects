{
  "cells": [
    {
      "cell_type": "markdown",
      "metadata": {
        "id": "n1xSAU1nD7Y9"
      },
      "source": [
        "End To End Random Forest Implementation with Parameter Tuning \\\n",
        "for more info please check the links below \\\n",
        "[Link 1](https://www.analyticsvidhya.com/blog/2020/03/beginners-guide-random-forest-hyperparameter-tuning/) \\\n",
        "[Link 2](https://scikit-learn.org/stable/modules/generated/sklearn.ensemble.RandomForestClassifier.html)"
      ]
    },
    {
      "cell_type": "markdown",
      "metadata": {
        "id": "s-loyb9QEfwr"
      },
      "source": [
        "## Import Statements"
      ]
    },
    {
      "cell_type": "code",
      "execution_count": null,
      "metadata": {
        "id": "LEVYwGFYEcKY"
      },
      "outputs": [],
      "source": [
        "import pandas as pd\n",
        "import numpy as np\n",
        "import plotly.express as px\n",
        "import matplotlib.pyplot as plt\n",
        "from sklearn.model_selection import train_test_split\n",
        "from sklearn.ensemble import RandomForestClassifier\n",
        "from sklearn.model_selection import StratifiedKFold\n",
        "from sklearn.model_selection import GridSearchCV, RandomizedSearchCV\n",
        "from sklearn.metrics import f1_score, accuracy_score, precision_score, recall_score, \\\n",
        "  confusion_matrix, ConfusionMatrixDisplay, classification_report"
      ]
    },
    {
      "cell_type": "markdown",
      "metadata": {
        "id": "z9dhpaKhEs1X"
      },
      "source": [
        "## Load the data"
      ]
    },
    {
      "cell_type": "code",
      "execution_count": null,
      "metadata": {
        "id": "lRDaSH_fExJr"
      },
      "outputs": [],
      "source": [
        "fileLocation = \"/content/drive/MyDrive/end2end_DS/DS_projects/risk_assessment/heart_2020_cleaned.csv\"\n",
        "data         = pd.read_csv(fileLocation)"
      ]
    },
    {
      "cell_type": "code",
      "execution_count": null,
      "metadata": {
        "colab": {
          "base_uri": "https://localhost:8080/"
        },
        "id": "ZhxPc3YLF_Jh",
        "outputId": "9c826ab5-bc41-4588-aea8-25a01d3f4150"
      },
      "outputs": [
        {
          "output_type": "stream",
          "name": "stdout",
          "text": [
            "<class 'pandas.core.frame.DataFrame'>\n",
            "RangeIndex: 319795 entries, 0 to 319794\n",
            "Data columns (total 18 columns):\n",
            " #   Column            Non-Null Count   Dtype  \n",
            "---  ------            --------------   -----  \n",
            " 0   HeartDisease      319795 non-null  object \n",
            " 1   BMI               319795 non-null  float64\n",
            " 2   Smoking           319795 non-null  object \n",
            " 3   AlcoholDrinking   319795 non-null  object \n",
            " 4   Stroke            319795 non-null  object \n",
            " 5   PhysicalHealth    319795 non-null  float64\n",
            " 6   MentalHealth      319795 non-null  float64\n",
            " 7   DiffWalking       319795 non-null  object \n",
            " 8   Sex               319795 non-null  object \n",
            " 9   AgeCategory       319795 non-null  object \n",
            " 10  Race              319795 non-null  object \n",
            " 11  Diabetic          319795 non-null  object \n",
            " 12  PhysicalActivity  319795 non-null  object \n",
            " 13  GenHealth         319795 non-null  object \n",
            " 14  SleepTime         319795 non-null  float64\n",
            " 15  Asthma            319795 non-null  object \n",
            " 16  KidneyDisease     319795 non-null  object \n",
            " 17  SkinCancer        319795 non-null  object \n",
            "dtypes: float64(4), object(14)\n",
            "memory usage: 43.9+ MB\n"
          ]
        }
      ],
      "source": [
        "data.info()"
      ]
    },
    {
      "cell_type": "code",
      "execution_count": null,
      "metadata": {
        "colab": {
          "base_uri": "https://localhost:8080/"
        },
        "id": "5zTi3Ow9GZUR",
        "outputId": "8f4ab33a-d566-4d86-e100-19dab058aea6"
      },
      "outputs": [
        {
          "output_type": "stream",
          "name": "stdout",
          "text": [
            "number of rows: 319795\n",
            "number of cols: 18\n"
          ]
        }
      ],
      "source": [
        "print(\"number of rows: {}\\nnumber of cols: {}\".format(data.shape[0], data.shape[1]))"
      ]
    },
    {
      "cell_type": "code",
      "execution_count": null,
      "metadata": {
        "colab": {
          "base_uri": "https://localhost:8080/"
        },
        "id": "HSUx_H9YG8jx",
        "outputId": "e2076378-28f9-4545-b885-40bd0bbcc690"
      },
      "outputs": [
        {
          "output_type": "stream",
          "name": "stdout",
          "text": [
            "train size X :  (223856, 17)\n",
            "train size y :  (223856,)\n",
            "test size  X :  (95939, 17)\n",
            "test size  y :  (95939,)\n"
          ]
        }
      ],
      "source": [
        "# some cleaning and splitting\n",
        "replaceMap = {\n",
        "    '18-24': 'Youth',\n",
        "    '25-29': 'Adult',\n",
        "    '30-34': 'Adult',\n",
        "    '35-39': 'Adult',\n",
        "    '40-44': 'Adult',\n",
        "    '45-49': 'Adult',\n",
        "    '50-54': 'Adult',\n",
        "    '55-59': 'Adult',\n",
        "    '60-64': 'Adult',\n",
        "    '65-69': 'Senior',\n",
        "    '70-74': 'Senior',\n",
        "    '75-79': 'Senior',\n",
        "    '80_or_older': 'Senior'\n",
        "}\n",
        "data['AgeCategory']= data['AgeCategory'].map(replaceMap)\n",
        "\n",
        "# let's split our datasets\n",
        "#split data into dependent variables(X) and independent variable(y) that we would predict\n",
        "y = data.pop(\"HeartDisease\").map({'Yes': 1, 'No': 0})\n",
        "X = data\n",
        "#Let’s split X and y using Train test split\n",
        "X_train,X_test,y_train,y_test = train_test_split(X, y, random_state=42, train_size=0.7)\n",
        "#get shape of train and test data\n",
        "print(\"train size X : \", X_train.shape)\n",
        "print(\"train size y : \", y_train.shape)\n",
        "print(\"test size  X : \", X_test.shape)\n",
        "print(\"test size  y : \", y_test.shape)"
      ]
    },
    {
      "cell_type": "markdown",
      "metadata": {
        "id": "5tQXvCw6ILu7"
      },
      "source": [
        "## creating baseline model"
      ]
    },
    {
      "cell_type": "code",
      "execution_count": null,
      "metadata": {
        "colab": {
          "base_uri": "https://localhost:8080/"
        },
        "id": "DXEL-eumIP0C",
        "outputId": "593aa472-dcac-4c35-d3d1-6df3455ac18a"
      },
      "outputs": [
        {
          "output_type": "execute_result",
          "data": {
            "text/plain": [
              "RandomForestClassifier()"
            ]
          },
          "metadata": {},
          "execution_count": 8
        }
      ],
      "source": [
        "# preprocessing training and test data\n",
        "X_train_processed = pd.get_dummies(X_train, drop_first= True)\n",
        "X_test_processed  = pd.get_dummies(X_test, drop_first= True)\n",
        "\n",
        "clf = RandomForestClassifier()\n",
        "clf.fit(X_train_processed, y_train)\n"
      ]
    },
    {
      "cell_type": "code",
      "execution_count": null,
      "metadata": {
        "id": "RPu6qrDcK4ri"
      },
      "outputs": [],
      "source": [
        "# evaluate the model\n",
        "def model_eval(y, y_hat):\n",
        "  # print('Accuracy: ', accuracy_score(y, y_hat))\n",
        "  # print('Precission[FP]: ', precision_score(y, y_hat))\n",
        "  # print('Recall[FN]:', recall_score(y, y_hat))\n",
        "  # print(\"F1 Score: \" , f1_score(y, y_hat))\n",
        "  print(classification_report(y, y_hat))\n",
        "  tn, fp, fn, tp = confusion_matrix(y, y_hat).ravel()\n",
        "  print(\"TN:{}\\nFP:{}\\nFN:{}\\nTP:{}\".format(tn, fp, fn, tp))\n"
      ]
    },
    {
      "cell_type": "code",
      "execution_count": null,
      "metadata": {
        "colab": {
          "base_uri": "https://localhost:8080/"
        },
        "id": "gqEzaglNUIL7",
        "outputId": "b022f298-9741-4a29-ae0b-1876c51edaa0"
      },
      "outputs": [
        {
          "name": "stdout",
          "output_type": "stream",
          "text": [
            "training report\n",
            "              precision    recall  f1-score   support\n",
            "\n",
            "           0       0.99      1.00      1.00    204773\n",
            "           1       0.99      0.93      0.96     19083\n",
            "\n",
            "    accuracy                           0.99    223856\n",
            "   macro avg       0.99      0.97      0.98    223856\n",
            "weighted avg       0.99      0.99      0.99    223856\n",
            "\n",
            "TN:204620\n",
            "FP:153\n",
            "FN:1315\n",
            "TP:17768\n"
          ]
        }
      ],
      "source": [
        "print(\"training report\")\n",
        "model_eval(y_train, clf.predict(X_train_processed))"
      ]
    },
    {
      "cell_type": "markdown",
      "metadata": {
        "id": "Kv17pVMIxHI5"
      },
      "source": [
        "## baseline test report"
      ]
    },
    {
      "cell_type": "code",
      "execution_count": null,
      "metadata": {
        "colab": {
          "base_uri": "https://localhost:8080/"
        },
        "id": "hhtQcHxSUouV",
        "outputId": "2b8f7f52-464e-45ac-924d-86ff6cb6b9c2"
      },
      "outputs": [
        {
          "name": "stdout",
          "output_type": "stream",
          "text": [
            "test report\n",
            "              precision    recall  f1-score   support\n",
            "\n",
            "           0       0.92      0.97      0.95     87649\n",
            "           1       0.33      0.13      0.19      8290\n",
            "\n",
            "    accuracy                           0.90     95939\n",
            "   macro avg       0.63      0.55      0.57     95939\n",
            "weighted avg       0.87      0.90      0.88     95939\n",
            "\n",
            "TN:85437\n",
            "FP:2212\n",
            "FN:7188\n",
            "TP:1102\n"
          ]
        }
      ],
      "source": [
        "print(\"test report\")\n",
        "model_eval(y_test, clf.predict(X_test_processed))"
      ]
    },
    {
      "cell_type": "code",
      "execution_count": null,
      "metadata": {
        "colab": {
          "base_uri": "https://localhost:8080/"
        },
        "id": "xBguoQ_LgGB7",
        "outputId": "44f6f2ea-f16b-44fb-e6ce-a2acf9c5d23a"
      },
      "outputs": [
        {
          "data": {
            "text/plain": [
              "{'bootstrap': True,\n",
              " 'ccp_alpha': 0.0,\n",
              " 'class_weight': None,\n",
              " 'criterion': 'gini',\n",
              " 'max_depth': None,\n",
              " 'max_features': 'auto',\n",
              " 'max_leaf_nodes': None,\n",
              " 'max_samples': None,\n",
              " 'min_impurity_decrease': 0.0,\n",
              " 'min_samples_leaf': 1,\n",
              " 'min_samples_split': 2,\n",
              " 'min_weight_fraction_leaf': 0.0,\n",
              " 'n_estimators': 100,\n",
              " 'n_jobs': None,\n",
              " 'oob_score': False,\n",
              " 'random_state': None,\n",
              " 'verbose': 0,\n",
              " 'warm_start': False}"
            ]
          },
          "execution_count": 9,
          "metadata": {},
          "output_type": "execute_result"
        }
      ],
      "source": [
        "# parameters\n",
        "clf.get_params()"
      ]
    },
    {
      "cell_type": "markdown",
      "metadata": {
        "id": "mMfLti2hxQsn"
      },
      "source": [
        "## Parameter tuning"
      ]
    },
    {
      "cell_type": "code",
      "execution_count": null,
      "metadata": {
        "id": "73k1m6LkxlRN"
      },
      "outputs": [],
      "source": [
        "param_grid = {\n",
        " 'bootstrap': [True, False],\n",
        " 'max_depth': [10, 20, 30, 40, 50, 60, 70, 80, 90, 100, None],\n",
        " 'max_features': ['auto', 'sqrt'],\n",
        " 'min_samples_leaf': [1, 2, 4],\n",
        " 'min_samples_split': [2, 5, 10],\n",
        " 'n_estimators': [200, 400, 600, 800, 1000, 1200, 1400, 1600, 1800, 2000]\n",
        "}"
      ]
    },
    {
      "cell_type": "code",
      "source": [
        "# performing randomGrid search\n",
        "\n",
        "# Use the random grid to search for best hyperparameters\n",
        "# First create the base model to tune\n",
        "rf = RandomForestClassifier(n_jobs=-1, verbose= 1, warm_start= True)\n",
        "# Random search of parameters, using 3 fold cross validation, \n",
        "# search across 100 different combinations, and use all available cores\n",
        "rf_random = RandomizedSearchCV(estimator = rf, param_distributions = param_grid, n_iter = 10, cv = 5, verbose= 1000, random_state=42)\n",
        "# Fit the random search model\n",
        "X_train = pd.get_dummies(X_train, drop_first= True)\n",
        "rf_random.fit(X_train, y_train)\n"
      ],
      "metadata": {
        "id": "awNDKEJKl3u-",
        "colab": {
          "base_uri": "https://localhost:8080/"
        },
        "outputId": "a33bad58-13ba-46bc-a0b6-1b98af8c95b3"
      },
      "execution_count": null,
      "outputs": [
        {
          "output_type": "stream",
          "name": "stdout",
          "text": [
            "Fitting 5 folds for each of 10 candidates, totalling 50 fits\n",
            "[CV 1/5; 1/10] START bootstrap=False, class_weight=None, max_depth=90, max_features=sqrt, min_samples_leaf=1, min_samples_split=10, min_weight_fraction_leaf=0.0, n_estimators=2000\n"
          ]
        },
        {
          "output_type": "stream",
          "name": "stderr",
          "text": [
            "[Parallel(n_jobs=-1)]: Using backend LokyBackend with 2 concurrent workers.\n",
            "[Parallel(n_jobs=-1)]: Done  46 tasks      | elapsed:   23.1s\n",
            "[Parallel(n_jobs=-1)]: Done 196 tasks      | elapsed:   59.4s\n",
            "[Parallel(n_jobs=-1)]: Done 446 tasks      | elapsed:  2.0min\n",
            "[Parallel(n_jobs=-1)]: Done 796 tasks      | elapsed:  3.3min\n",
            "[Parallel(n_jobs=-1)]: Done 1246 tasks      | elapsed:  5.1min\n",
            "[Parallel(n_jobs=-1)]: Done 1796 tasks      | elapsed:  7.2min\n",
            "[Parallel(n_jobs=-1)]: Done 2000 out of 2000 | elapsed:  8.0min finished\n",
            "[Parallel(n_jobs=2)]: Using backend ThreadingBackend with 2 concurrent workers.\n",
            "[Parallel(n_jobs=2)]: Done  46 tasks      | elapsed:    0.5s\n",
            "[Parallel(n_jobs=2)]: Done 196 tasks      | elapsed:    1.9s\n",
            "[Parallel(n_jobs=2)]: Done 446 tasks      | elapsed:    4.3s\n",
            "[Parallel(n_jobs=2)]: Done 796 tasks      | elapsed:    7.7s\n",
            "[Parallel(n_jobs=2)]: Done 1246 tasks      | elapsed:   12.0s\n",
            "[Parallel(n_jobs=2)]: Done 1796 tasks      | elapsed:   17.0s\n",
            "[Parallel(n_jobs=2)]: Done 2000 out of 2000 | elapsed:   18.9s finished\n"
          ]
        },
        {
          "output_type": "stream",
          "name": "stdout",
          "text": [
            "[CV 1/5; 1/10] END bootstrap=False, class_weight=None, max_depth=90, max_features=sqrt, min_samples_leaf=1, min_samples_split=10, min_weight_fraction_leaf=0.0, n_estimators=2000;, score=0.909 total time= 8.4min\n",
            "[CV 2/5; 1/10] START bootstrap=False, class_weight=None, max_depth=90, max_features=sqrt, min_samples_leaf=1, min_samples_split=10, min_weight_fraction_leaf=0.0, n_estimators=2000\n"
          ]
        },
        {
          "output_type": "stream",
          "name": "stderr",
          "text": [
            "[Parallel(n_jobs=-1)]: Using backend LokyBackend with 2 concurrent workers.\n",
            "[Parallel(n_jobs=-1)]: Done  46 tasks      | elapsed:   10.8s\n",
            "[Parallel(n_jobs=-1)]: Done 196 tasks      | elapsed:   45.1s\n",
            "[Parallel(n_jobs=-1)]: Done 446 tasks      | elapsed:  1.7min\n",
            "[Parallel(n_jobs=-1)]: Done 796 tasks      | elapsed:  3.1min\n",
            "[Parallel(n_jobs=-1)]: Done 1246 tasks      | elapsed:  4.8min\n",
            "[Parallel(n_jobs=-1)]: Done 1796 tasks      | elapsed:  7.0min\n",
            "[Parallel(n_jobs=-1)]: Done 2000 out of 2000 | elapsed:  7.8min finished\n",
            "[Parallel(n_jobs=2)]: Using backend ThreadingBackend with 2 concurrent workers.\n",
            "[Parallel(n_jobs=2)]: Done  46 tasks      | elapsed:    0.4s\n",
            "[Parallel(n_jobs=2)]: Done 196 tasks      | elapsed:    1.9s\n",
            "[Parallel(n_jobs=2)]: Done 446 tasks      | elapsed:    4.2s\n",
            "[Parallel(n_jobs=2)]: Done 796 tasks      | elapsed:    7.5s\n",
            "[Parallel(n_jobs=2)]: Done 1246 tasks      | elapsed:   11.7s\n",
            "[Parallel(n_jobs=2)]: Done 1796 tasks      | elapsed:   16.8s\n",
            "[Parallel(n_jobs=2)]: Done 2000 out of 2000 | elapsed:   18.7s finished\n"
          ]
        },
        {
          "output_type": "stream",
          "name": "stdout",
          "text": [
            "[CV 2/5; 1/10] END bootstrap=False, class_weight=None, max_depth=90, max_features=sqrt, min_samples_leaf=1, min_samples_split=10, min_weight_fraction_leaf=0.0, n_estimators=2000;, score=0.907 total time= 8.1min\n",
            "[CV 3/5; 1/10] START bootstrap=False, class_weight=None, max_depth=90, max_features=sqrt, min_samples_leaf=1, min_samples_split=10, min_weight_fraction_leaf=0.0, n_estimators=2000\n"
          ]
        },
        {
          "output_type": "stream",
          "name": "stderr",
          "text": [
            "[Parallel(n_jobs=-1)]: Using backend LokyBackend with 2 concurrent workers.\n",
            "[Parallel(n_jobs=-1)]: Done  46 tasks      | elapsed:   11.2s\n",
            "[Parallel(n_jobs=-1)]: Done 196 tasks      | elapsed:   45.1s\n",
            "[Parallel(n_jobs=-1)]: Done 446 tasks      | elapsed:  1.7min\n",
            "[Parallel(n_jobs=-1)]: Done 796 tasks      | elapsed:  3.1min\n",
            "[Parallel(n_jobs=-1)]: Done 1246 tasks      | elapsed:  4.8min\n",
            "[Parallel(n_jobs=-1)]: Done 1796 tasks      | elapsed:  7.0min\n",
            "[Parallel(n_jobs=-1)]: Done 2000 out of 2000 | elapsed:  7.7min finished\n",
            "[Parallel(n_jobs=2)]: Using backend ThreadingBackend with 2 concurrent workers.\n",
            "[Parallel(n_jobs=2)]: Done  46 tasks      | elapsed:    0.4s\n",
            "[Parallel(n_jobs=2)]: Done 196 tasks      | elapsed:    1.7s\n",
            "[Parallel(n_jobs=2)]: Done 446 tasks      | elapsed:    3.9s\n",
            "[Parallel(n_jobs=2)]: Done 796 tasks      | elapsed:    7.0s\n",
            "[Parallel(n_jobs=2)]: Done 1246 tasks      | elapsed:   10.9s\n",
            "[Parallel(n_jobs=2)]: Done 1796 tasks      | elapsed:   15.8s\n",
            "[Parallel(n_jobs=2)]: Done 2000 out of 2000 | elapsed:   17.6s finished\n"
          ]
        },
        {
          "output_type": "stream",
          "name": "stdout",
          "text": [
            "[CV 3/5; 1/10] END bootstrap=False, class_weight=None, max_depth=90, max_features=sqrt, min_samples_leaf=1, min_samples_split=10, min_weight_fraction_leaf=0.0, n_estimators=2000;, score=0.908 total time= 8.0min\n",
            "[CV 4/5; 1/10] START bootstrap=False, class_weight=None, max_depth=90, max_features=sqrt, min_samples_leaf=1, min_samples_split=10, min_weight_fraction_leaf=0.0, n_estimators=2000\n"
          ]
        },
        {
          "output_type": "stream",
          "name": "stderr",
          "text": [
            "[Parallel(n_jobs=-1)]: Using backend LokyBackend with 2 concurrent workers.\n",
            "[Parallel(n_jobs=-1)]: Done  46 tasks      | elapsed:   10.5s\n",
            "[Parallel(n_jobs=-1)]: Done 196 tasks      | elapsed:   44.7s\n",
            "[Parallel(n_jobs=-1)]: Done 446 tasks      | elapsed:  1.7min\n",
            "[Parallel(n_jobs=-1)]: Done 796 tasks      | elapsed:  3.0min\n",
            "[Parallel(n_jobs=-1)]: Done 1246 tasks      | elapsed:  4.7min\n",
            "[Parallel(n_jobs=-1)]: Done 1796 tasks      | elapsed:  6.9min\n",
            "[Parallel(n_jobs=-1)]: Done 2000 out of 2000 | elapsed:  7.7min finished\n",
            "[Parallel(n_jobs=2)]: Using backend ThreadingBackend with 2 concurrent workers.\n",
            "[Parallel(n_jobs=2)]: Done  46 tasks      | elapsed:    0.4s\n",
            "[Parallel(n_jobs=2)]: Done 196 tasks      | elapsed:    1.8s\n",
            "[Parallel(n_jobs=2)]: Done 446 tasks      | elapsed:    4.1s\n",
            "[Parallel(n_jobs=2)]: Done 796 tasks      | elapsed:    7.2s\n",
            "[Parallel(n_jobs=2)]: Done 1246 tasks      | elapsed:   11.2s\n",
            "[Parallel(n_jobs=2)]: Done 1796 tasks      | elapsed:   16.1s\n",
            "[Parallel(n_jobs=2)]: Done 2000 out of 2000 | elapsed:   17.9s finished\n"
          ]
        },
        {
          "output_type": "stream",
          "name": "stdout",
          "text": [
            "[CV 4/5; 1/10] END bootstrap=False, class_weight=None, max_depth=90, max_features=sqrt, min_samples_leaf=1, min_samples_split=10, min_weight_fraction_leaf=0.0, n_estimators=2000;, score=0.908 total time= 8.0min\n",
            "[CV 5/5; 1/10] START bootstrap=False, class_weight=None, max_depth=90, max_features=sqrt, min_samples_leaf=1, min_samples_split=10, min_weight_fraction_leaf=0.0, n_estimators=2000\n"
          ]
        },
        {
          "output_type": "stream",
          "name": "stderr",
          "text": [
            "[Parallel(n_jobs=-1)]: Using backend LokyBackend with 2 concurrent workers.\n",
            "[Parallel(n_jobs=-1)]: Done  46 tasks      | elapsed:   10.5s\n",
            "[Parallel(n_jobs=-1)]: Done 196 tasks      | elapsed:   44.7s\n",
            "[Parallel(n_jobs=-1)]: Done 446 tasks      | elapsed:  1.7min\n",
            "[Parallel(n_jobs=-1)]: Done 796 tasks      | elapsed:  3.0min\n",
            "[Parallel(n_jobs=-1)]: Done 1246 tasks      | elapsed:  4.7min\n",
            "[Parallel(n_jobs=-1)]: Done 1796 tasks      | elapsed:  6.8min\n",
            "[Parallel(n_jobs=-1)]: Done 2000 out of 2000 | elapsed:  7.5min finished\n",
            "[Parallel(n_jobs=2)]: Using backend ThreadingBackend with 2 concurrent workers.\n",
            "[Parallel(n_jobs=2)]: Done  46 tasks      | elapsed:    0.4s\n",
            "[Parallel(n_jobs=2)]: Done 196 tasks      | elapsed:    1.8s\n",
            "[Parallel(n_jobs=2)]: Done 446 tasks      | elapsed:    4.0s\n",
            "[Parallel(n_jobs=2)]: Done 796 tasks      | elapsed:    7.1s\n",
            "[Parallel(n_jobs=2)]: Done 1246 tasks      | elapsed:   11.1s\n",
            "[Parallel(n_jobs=2)]: Done 1796 tasks      | elapsed:   16.1s\n",
            "[Parallel(n_jobs=2)]: Done 2000 out of 2000 | elapsed:   17.9s finished\n"
          ]
        },
        {
          "output_type": "stream",
          "name": "stdout",
          "text": [
            "[CV 5/5; 1/10] END bootstrap=False, class_weight=None, max_depth=90, max_features=sqrt, min_samples_leaf=1, min_samples_split=10, min_weight_fraction_leaf=0.0, n_estimators=2000;, score=0.909 total time= 7.9min\n",
            "[CV 1/5; 2/10] START bootstrap=False, class_weight=None, max_depth=None, max_features=auto, min_samples_leaf=4, min_samples_split=10, min_weight_fraction_leaf=0.99, n_estimators=1000\n"
          ]
        },
        {
          "output_type": "stream",
          "name": "stderr",
          "text": [
            "[Parallel(n_jobs=-1)]: Using backend LokyBackend with 2 concurrent workers.\n"
          ]
        },
        {
          "output_type": "stream",
          "name": "stdout",
          "text": [
            "[CV 1/5; 2/10] END bootstrap=False, class_weight=None, max_depth=None, max_features=auto, min_samples_leaf=4, min_samples_split=10, min_weight_fraction_leaf=0.99, n_estimators=1000;, score=nan total time=   0.6s\n",
            "[CV 2/5; 2/10] START bootstrap=False, class_weight=None, max_depth=None, max_features=auto, min_samples_leaf=4, min_samples_split=10, min_weight_fraction_leaf=0.99, n_estimators=1000\n"
          ]
        },
        {
          "output_type": "stream",
          "name": "stderr",
          "text": [
            "[Parallel(n_jobs=-1)]: Using backend LokyBackend with 2 concurrent workers.\n"
          ]
        },
        {
          "output_type": "stream",
          "name": "stdout",
          "text": [
            "[CV 2/5; 2/10] END bootstrap=False, class_weight=None, max_depth=None, max_features=auto, min_samples_leaf=4, min_samples_split=10, min_weight_fraction_leaf=0.99, n_estimators=1000;, score=nan total time=   1.6s\n",
            "[CV 3/5; 2/10] START bootstrap=False, class_weight=None, max_depth=None, max_features=auto, min_samples_leaf=4, min_samples_split=10, min_weight_fraction_leaf=0.99, n_estimators=1000\n"
          ]
        },
        {
          "output_type": "stream",
          "name": "stderr",
          "text": [
            "[Parallel(n_jobs=-1)]: Using backend LokyBackend with 2 concurrent workers.\n"
          ]
        },
        {
          "output_type": "stream",
          "name": "stdout",
          "text": [
            "[CV 3/5; 2/10] END bootstrap=False, class_weight=None, max_depth=None, max_features=auto, min_samples_leaf=4, min_samples_split=10, min_weight_fraction_leaf=0.99, n_estimators=1000;, score=nan total time=   1.5s\n",
            "[CV 4/5; 2/10] START bootstrap=False, class_weight=None, max_depth=None, max_features=auto, min_samples_leaf=4, min_samples_split=10, min_weight_fraction_leaf=0.99, n_estimators=1000\n"
          ]
        },
        {
          "output_type": "stream",
          "name": "stderr",
          "text": [
            "[Parallel(n_jobs=-1)]: Using backend LokyBackend with 2 concurrent workers.\n"
          ]
        },
        {
          "output_type": "stream",
          "name": "stdout",
          "text": [
            "[CV 4/5; 2/10] END bootstrap=False, class_weight=None, max_depth=None, max_features=auto, min_samples_leaf=4, min_samples_split=10, min_weight_fraction_leaf=0.99, n_estimators=1000;, score=nan total time=   1.5s\n",
            "[CV 5/5; 2/10] START bootstrap=False, class_weight=None, max_depth=None, max_features=auto, min_samples_leaf=4, min_samples_split=10, min_weight_fraction_leaf=0.99, n_estimators=1000\n"
          ]
        },
        {
          "output_type": "stream",
          "name": "stderr",
          "text": [
            "[Parallel(n_jobs=-1)]: Using backend LokyBackend with 2 concurrent workers.\n"
          ]
        },
        {
          "output_type": "stream",
          "name": "stdout",
          "text": [
            "[CV 5/5; 2/10] END bootstrap=False, class_weight=None, max_depth=None, max_features=auto, min_samples_leaf=4, min_samples_split=10, min_weight_fraction_leaf=0.99, n_estimators=1000;, score=nan total time=   1.5s\n",
            "[CV 1/5; 3/10] START bootstrap=True, class_weight=balanced, max_depth=None, max_features=sqrt, min_samples_leaf=2, min_samples_split=10, min_weight_fraction_leaf=0.0, n_estimators=200\n"
          ]
        },
        {
          "output_type": "stream",
          "name": "stderr",
          "text": [
            "/usr/local/lib/python3.7/dist-packages/sklearn/ensemble/_forest.py:766: UserWarning: class_weight presets \"balanced\" or \"balanced_subsample\" are not recommended for warm_start if the fitted data differs from the full dataset. In order to use \"balanced\" weights, use compute_class_weight (\"balanced\", classes, y). In place of y you can use a large enough sample of the full training set target to properly estimate the class frequency distributions. Pass the resulting weights as the class_weight parameter.\n",
            "  'class_weight presets \"balanced\" or '\n",
            "[Parallel(n_jobs=-1)]: Using backend LokyBackend with 2 concurrent workers.\n",
            "[Parallel(n_jobs=-1)]: Done  46 tasks      | elapsed:    8.9s\n",
            "[Parallel(n_jobs=-1)]: Done 196 tasks      | elapsed:   34.4s\n",
            "[Parallel(n_jobs=-1)]: Done 200 out of 200 | elapsed:   34.9s finished\n",
            "[Parallel(n_jobs=2)]: Using backend ThreadingBackend with 2 concurrent workers.\n",
            "[Parallel(n_jobs=2)]: Done  46 tasks      | elapsed:    0.4s\n",
            "[Parallel(n_jobs=2)]: Done 196 tasks      | elapsed:    1.6s\n",
            "[Parallel(n_jobs=2)]: Done 200 out of 200 | elapsed:    1.6s finished\n"
          ]
        },
        {
          "output_type": "stream",
          "name": "stdout",
          "text": [
            "[CV 1/5; 3/10] END bootstrap=True, class_weight=balanced, max_depth=None, max_features=sqrt, min_samples_leaf=2, min_samples_split=10, min_weight_fraction_leaf=0.0, n_estimators=200;, score=0.862 total time=  36.9s\n",
            "[CV 2/5; 3/10] START bootstrap=True, class_weight=balanced, max_depth=None, max_features=sqrt, min_samples_leaf=2, min_samples_split=10, min_weight_fraction_leaf=0.0, n_estimators=200\n"
          ]
        },
        {
          "output_type": "stream",
          "name": "stderr",
          "text": [
            "/usr/local/lib/python3.7/dist-packages/sklearn/ensemble/_forest.py:766: UserWarning: class_weight presets \"balanced\" or \"balanced_subsample\" are not recommended for warm_start if the fitted data differs from the full dataset. In order to use \"balanced\" weights, use compute_class_weight (\"balanced\", classes, y). In place of y you can use a large enough sample of the full training set target to properly estimate the class frequency distributions. Pass the resulting weights as the class_weight parameter.\n",
            "  'class_weight presets \"balanced\" or '\n",
            "[Parallel(n_jobs=-1)]: Using backend LokyBackend with 2 concurrent workers.\n",
            "[Parallel(n_jobs=-1)]: Done  46 tasks      | elapsed:    7.8s\n",
            "[Parallel(n_jobs=-1)]: Done 196 tasks      | elapsed:   32.8s\n",
            "[Parallel(n_jobs=-1)]: Done 200 out of 200 | elapsed:   33.3s finished\n",
            "[Parallel(n_jobs=2)]: Using backend ThreadingBackend with 2 concurrent workers.\n",
            "[Parallel(n_jobs=2)]: Done  46 tasks      | elapsed:    0.4s\n",
            "[Parallel(n_jobs=2)]: Done 196 tasks      | elapsed:    1.5s\n",
            "[Parallel(n_jobs=2)]: Done 200 out of 200 | elapsed:    1.6s finished\n",
            "/usr/local/lib/python3.7/dist-packages/sklearn/ensemble/_forest.py:766: UserWarning: class_weight presets \"balanced\" or \"balanced_subsample\" are not recommended for warm_start if the fitted data differs from the full dataset. In order to use \"balanced\" weights, use compute_class_weight (\"balanced\", classes, y). In place of y you can use a large enough sample of the full training set target to properly estimate the class frequency distributions. Pass the resulting weights as the class_weight parameter.\n",
            "  'class_weight presets \"balanced\" or '\n"
          ]
        },
        {
          "output_type": "stream",
          "name": "stdout",
          "text": [
            "[CV 2/5; 3/10] END bootstrap=True, class_weight=balanced, max_depth=None, max_features=sqrt, min_samples_leaf=2, min_samples_split=10, min_weight_fraction_leaf=0.0, n_estimators=200;, score=0.858 total time=  35.2s\n",
            "[CV 3/5; 3/10] START bootstrap=True, class_weight=balanced, max_depth=None, max_features=sqrt, min_samples_leaf=2, min_samples_split=10, min_weight_fraction_leaf=0.0, n_estimators=200\n"
          ]
        },
        {
          "output_type": "stream",
          "name": "stderr",
          "text": [
            "[Parallel(n_jobs=-1)]: Using backend LokyBackend with 2 concurrent workers.\n",
            "[Parallel(n_jobs=-1)]: Done  46 tasks      | elapsed:    7.9s\n",
            "[Parallel(n_jobs=-1)]: Done 196 tasks      | elapsed:   33.0s\n",
            "[Parallel(n_jobs=-1)]: Done 200 out of 200 | elapsed:   33.5s finished\n",
            "[Parallel(n_jobs=2)]: Using backend ThreadingBackend with 2 concurrent workers.\n",
            "[Parallel(n_jobs=2)]: Done  46 tasks      | elapsed:    0.4s\n",
            "[Parallel(n_jobs=2)]: Done 196 tasks      | elapsed:    1.5s\n",
            "[Parallel(n_jobs=2)]: Done 200 out of 200 | elapsed:    1.5s finished\n",
            "/usr/local/lib/python3.7/dist-packages/sklearn/ensemble/_forest.py:766: UserWarning: class_weight presets \"balanced\" or \"balanced_subsample\" are not recommended for warm_start if the fitted data differs from the full dataset. In order to use \"balanced\" weights, use compute_class_weight (\"balanced\", classes, y). In place of y you can use a large enough sample of the full training set target to properly estimate the class frequency distributions. Pass the resulting weights as the class_weight parameter.\n",
            "  'class_weight presets \"balanced\" or '\n"
          ]
        },
        {
          "output_type": "stream",
          "name": "stdout",
          "text": [
            "[CV 3/5; 3/10] END bootstrap=True, class_weight=balanced, max_depth=None, max_features=sqrt, min_samples_leaf=2, min_samples_split=10, min_weight_fraction_leaf=0.0, n_estimators=200;, score=0.856 total time=  35.4s\n",
            "[CV 4/5; 3/10] START bootstrap=True, class_weight=balanced, max_depth=None, max_features=sqrt, min_samples_leaf=2, min_samples_split=10, min_weight_fraction_leaf=0.0, n_estimators=200\n"
          ]
        },
        {
          "output_type": "stream",
          "name": "stderr",
          "text": [
            "[Parallel(n_jobs=-1)]: Using backend LokyBackend with 2 concurrent workers.\n",
            "[Parallel(n_jobs=-1)]: Done  46 tasks      | elapsed:    7.8s\n",
            "[Parallel(n_jobs=-1)]: Done 196 tasks      | elapsed:   32.5s\n",
            "[Parallel(n_jobs=-1)]: Done 200 out of 200 | elapsed:   33.1s finished\n",
            "[Parallel(n_jobs=2)]: Using backend ThreadingBackend with 2 concurrent workers.\n",
            "[Parallel(n_jobs=2)]: Done  46 tasks      | elapsed:    0.4s\n",
            "[Parallel(n_jobs=2)]: Done 196 tasks      | elapsed:    1.6s\n",
            "[Parallel(n_jobs=2)]: Done 200 out of 200 | elapsed:    1.6s finished\n",
            "/usr/local/lib/python3.7/dist-packages/sklearn/ensemble/_forest.py:766: UserWarning: class_weight presets \"balanced\" or \"balanced_subsample\" are not recommended for warm_start if the fitted data differs from the full dataset. In order to use \"balanced\" weights, use compute_class_weight (\"balanced\", classes, y). In place of y you can use a large enough sample of the full training set target to properly estimate the class frequency distributions. Pass the resulting weights as the class_weight parameter.\n",
            "  'class_weight presets \"balanced\" or '\n"
          ]
        },
        {
          "output_type": "stream",
          "name": "stdout",
          "text": [
            "[CV 4/5; 3/10] END bootstrap=True, class_weight=balanced, max_depth=None, max_features=sqrt, min_samples_leaf=2, min_samples_split=10, min_weight_fraction_leaf=0.0, n_estimators=200;, score=0.860 total time=  35.1s\n",
            "[CV 5/5; 3/10] START bootstrap=True, class_weight=balanced, max_depth=None, max_features=sqrt, min_samples_leaf=2, min_samples_split=10, min_weight_fraction_leaf=0.0, n_estimators=200\n"
          ]
        },
        {
          "output_type": "stream",
          "name": "stderr",
          "text": [
            "[Parallel(n_jobs=-1)]: Using backend LokyBackend with 2 concurrent workers.\n",
            "[Parallel(n_jobs=-1)]: Done  46 tasks      | elapsed:    7.8s\n",
            "[Parallel(n_jobs=-1)]: Done 196 tasks      | elapsed:   32.6s\n",
            "[Parallel(n_jobs=-1)]: Done 200 out of 200 | elapsed:   33.1s finished\n",
            "[Parallel(n_jobs=2)]: Using backend ThreadingBackend with 2 concurrent workers.\n",
            "[Parallel(n_jobs=2)]: Done  46 tasks      | elapsed:    0.4s\n",
            "[Parallel(n_jobs=2)]: Done 196 tasks      | elapsed:    1.5s\n",
            "[Parallel(n_jobs=2)]: Done 200 out of 200 | elapsed:    1.5s finished\n"
          ]
        },
        {
          "output_type": "stream",
          "name": "stdout",
          "text": [
            "[CV 5/5; 3/10] END bootstrap=True, class_weight=balanced, max_depth=None, max_features=sqrt, min_samples_leaf=2, min_samples_split=10, min_weight_fraction_leaf=0.0, n_estimators=200;, score=0.862 total time=  35.0s\n",
            "[CV 1/5; 4/10] START bootstrap=True, class_weight=None, max_depth=90, max_features=auto, min_samples_leaf=2, min_samples_split=2, min_weight_fraction_leaf=0.0, n_estimators=2000\n"
          ]
        },
        {
          "output_type": "stream",
          "name": "stderr",
          "text": [
            "[Parallel(n_jobs=-1)]: Using backend LokyBackend with 2 concurrent workers.\n",
            "[Parallel(n_jobs=-1)]: Done  46 tasks      | elapsed:    7.9s\n",
            "[Parallel(n_jobs=-1)]: Done 196 tasks      | elapsed:   34.3s\n",
            "[Parallel(n_jobs=-1)]: Done 446 tasks      | elapsed:  1.3min\n",
            "[Parallel(n_jobs=-1)]: Done 796 tasks      | elapsed:  2.3min\n",
            "[Parallel(n_jobs=-1)]: Done 1246 tasks      | elapsed:  3.7min\n",
            "[Parallel(n_jobs=-1)]: Done 1796 tasks      | elapsed:  5.3min\n",
            "[Parallel(n_jobs=-1)]: Done 2000 out of 2000 | elapsed:  5.9min finished\n",
            "[Parallel(n_jobs=2)]: Using backend ThreadingBackend with 2 concurrent workers.\n",
            "[Parallel(n_jobs=2)]: Done  46 tasks      | elapsed:    0.4s\n",
            "[Parallel(n_jobs=2)]: Done 196 tasks      | elapsed:    1.6s\n",
            "[Parallel(n_jobs=2)]: Done 446 tasks      | elapsed:    3.6s\n",
            "[Parallel(n_jobs=2)]: Done 796 tasks      | elapsed:    6.3s\n",
            "[Parallel(n_jobs=2)]: Done 1246 tasks      | elapsed:    9.9s\n",
            "[Parallel(n_jobs=2)]: Done 1796 tasks      | elapsed:   14.3s\n",
            "[Parallel(n_jobs=2)]: Done 2000 out of 2000 | elapsed:   15.8s finished\n"
          ]
        },
        {
          "output_type": "stream",
          "name": "stdout",
          "text": [
            "[CV 1/5; 4/10] END bootstrap=True, class_weight=None, max_depth=90, max_features=auto, min_samples_leaf=2, min_samples_split=2, min_weight_fraction_leaf=0.0, n_estimators=2000;, score=0.915 total time= 6.2min\n",
            "[CV 2/5; 4/10] START bootstrap=True, class_weight=None, max_depth=90, max_features=auto, min_samples_leaf=2, min_samples_split=2, min_weight_fraction_leaf=0.0, n_estimators=2000\n"
          ]
        },
        {
          "output_type": "stream",
          "name": "stderr",
          "text": [
            "[Parallel(n_jobs=-1)]: Using backend LokyBackend with 2 concurrent workers.\n",
            "[Parallel(n_jobs=-1)]: Done  46 tasks      | elapsed:    8.1s\n",
            "[Parallel(n_jobs=-1)]: Done 196 tasks      | elapsed:   34.3s\n",
            "[Parallel(n_jobs=-1)]: Done 446 tasks      | elapsed:  1.3min\n",
            "[Parallel(n_jobs=-1)]: Done 796 tasks      | elapsed:  2.3min\n",
            "[Parallel(n_jobs=-1)]: Done 1246 tasks      | elapsed:  3.6min\n",
            "[Parallel(n_jobs=-1)]: Done 1796 tasks      | elapsed:  5.3min\n",
            "[Parallel(n_jobs=-1)]: Done 2000 out of 2000 | elapsed:  5.9min finished\n",
            "[Parallel(n_jobs=2)]: Using backend ThreadingBackend with 2 concurrent workers.\n",
            "[Parallel(n_jobs=2)]: Done  46 tasks      | elapsed:    0.4s\n",
            "[Parallel(n_jobs=2)]: Done 196 tasks      | elapsed:    1.7s\n",
            "[Parallel(n_jobs=2)]: Done 446 tasks      | elapsed:    3.7s\n",
            "[Parallel(n_jobs=2)]: Done 796 tasks      | elapsed:    6.7s\n",
            "[Parallel(n_jobs=2)]: Done 1246 tasks      | elapsed:   10.6s\n",
            "[Parallel(n_jobs=2)]: Done 1796 tasks      | elapsed:   15.4s\n",
            "[Parallel(n_jobs=2)]: Done 2000 out of 2000 | elapsed:   17.1s finished\n"
          ]
        },
        {
          "output_type": "stream",
          "name": "stdout",
          "text": [
            "[CV 2/5; 4/10] END bootstrap=True, class_weight=None, max_depth=90, max_features=auto, min_samples_leaf=2, min_samples_split=2, min_weight_fraction_leaf=0.0, n_estimators=2000;, score=0.914 total time= 6.2min\n",
            "[CV 3/5; 4/10] START bootstrap=True, class_weight=None, max_depth=90, max_features=auto, min_samples_leaf=2, min_samples_split=2, min_weight_fraction_leaf=0.0, n_estimators=2000\n"
          ]
        },
        {
          "output_type": "stream",
          "name": "stderr",
          "text": [
            "[Parallel(n_jobs=-1)]: Using backend LokyBackend with 2 concurrent workers.\n",
            "[Parallel(n_jobs=-1)]: Done  46 tasks      | elapsed:    8.8s\n",
            "[Parallel(n_jobs=-1)]: Done 196 tasks      | elapsed:   35.9s\n",
            "[Parallel(n_jobs=-1)]: Done 446 tasks      | elapsed:  1.3min\n",
            "[Parallel(n_jobs=-1)]: Done 796 tasks      | elapsed:  2.3min\n",
            "[Parallel(n_jobs=-1)]: Done 1246 tasks      | elapsed:  3.6min\n",
            "[Parallel(n_jobs=-1)]: Done 1796 tasks      | elapsed:  5.3min\n",
            "[Parallel(n_jobs=-1)]: Done 2000 out of 2000 | elapsed:  5.9min finished\n",
            "[Parallel(n_jobs=2)]: Using backend ThreadingBackend with 2 concurrent workers.\n",
            "[Parallel(n_jobs=2)]: Done  46 tasks      | elapsed:    0.4s\n",
            "[Parallel(n_jobs=2)]: Done 196 tasks      | elapsed:    1.6s\n",
            "[Parallel(n_jobs=2)]: Done 446 tasks      | elapsed:    3.5s\n",
            "[Parallel(n_jobs=2)]: Done 796 tasks      | elapsed:    6.2s\n",
            "[Parallel(n_jobs=2)]: Done 1246 tasks      | elapsed:    9.8s\n",
            "[Parallel(n_jobs=2)]: Done 1796 tasks      | elapsed:   14.2s\n",
            "[Parallel(n_jobs=2)]: Done 2000 out of 2000 | elapsed:   15.8s finished\n"
          ]
        },
        {
          "output_type": "stream",
          "name": "stdout",
          "text": [
            "[CV 3/5; 4/10] END bootstrap=True, class_weight=None, max_depth=90, max_features=auto, min_samples_leaf=2, min_samples_split=2, min_weight_fraction_leaf=0.0, n_estimators=2000;, score=0.914 total time= 6.1min\n",
            "[CV 4/5; 4/10] START bootstrap=True, class_weight=None, max_depth=90, max_features=auto, min_samples_leaf=2, min_samples_split=2, min_weight_fraction_leaf=0.0, n_estimators=2000\n"
          ]
        },
        {
          "output_type": "stream",
          "name": "stderr",
          "text": [
            "[Parallel(n_jobs=-1)]: Using backend LokyBackend with 2 concurrent workers.\n",
            "[Parallel(n_jobs=-1)]: Done  46 tasks      | elapsed:    8.6s\n",
            "[Parallel(n_jobs=-1)]: Done 196 tasks      | elapsed:   35.3s\n",
            "[Parallel(n_jobs=-1)]: Done 446 tasks      | elapsed:  1.3min\n",
            "[Parallel(n_jobs=-1)]: Done 796 tasks      | elapsed:  2.4min\n",
            "[Parallel(n_jobs=-1)]: Done 1246 tasks      | elapsed:  3.7min\n",
            "[Parallel(n_jobs=-1)]: Done 1796 tasks      | elapsed:  5.3min\n",
            "[Parallel(n_jobs=-1)]: Done 2000 out of 2000 | elapsed:  5.9min finished\n",
            "[Parallel(n_jobs=2)]: Using backend ThreadingBackend with 2 concurrent workers.\n",
            "[Parallel(n_jobs=2)]: Done  46 tasks      | elapsed:    0.4s\n",
            "[Parallel(n_jobs=2)]: Done 196 tasks      | elapsed:    1.5s\n",
            "[Parallel(n_jobs=2)]: Done 446 tasks      | elapsed:    3.4s\n",
            "[Parallel(n_jobs=2)]: Done 796 tasks      | elapsed:    6.1s\n",
            "[Parallel(n_jobs=2)]: Done 1246 tasks      | elapsed:    9.5s\n",
            "[Parallel(n_jobs=2)]: Done 1796 tasks      | elapsed:   13.8s\n",
            "[Parallel(n_jobs=2)]: Done 2000 out of 2000 | elapsed:   15.3s finished\n"
          ]
        },
        {
          "output_type": "stream",
          "name": "stdout",
          "text": [
            "[CV 4/5; 4/10] END bootstrap=True, class_weight=None, max_depth=90, max_features=auto, min_samples_leaf=2, min_samples_split=2, min_weight_fraction_leaf=0.0, n_estimators=2000;, score=0.914 total time= 6.2min\n",
            "[CV 5/5; 4/10] START bootstrap=True, class_weight=None, max_depth=90, max_features=auto, min_samples_leaf=2, min_samples_split=2, min_weight_fraction_leaf=0.0, n_estimators=2000\n"
          ]
        },
        {
          "output_type": "stream",
          "name": "stderr",
          "text": [
            "[Parallel(n_jobs=-1)]: Using backend LokyBackend with 2 concurrent workers.\n",
            "[Parallel(n_jobs=-1)]: Done  46 tasks      | elapsed:    8.0s\n",
            "[Parallel(n_jobs=-1)]: Done 196 tasks      | elapsed:   34.4s\n",
            "[Parallel(n_jobs=-1)]: Done 446 tasks      | elapsed:  1.3min\n",
            "[Parallel(n_jobs=-1)]: Done 796 tasks      | elapsed:  2.4min\n",
            "[Parallel(n_jobs=-1)]: Done 1246 tasks      | elapsed:  3.8min\n",
            "[Parallel(n_jobs=-1)]: Done 1796 tasks      | elapsed:  5.4min\n",
            "[Parallel(n_jobs=-1)]: Done 2000 out of 2000 | elapsed:  6.0min finished\n",
            "[Parallel(n_jobs=2)]: Using backend ThreadingBackend with 2 concurrent workers.\n",
            "[Parallel(n_jobs=2)]: Done  46 tasks      | elapsed:    0.4s\n",
            "[Parallel(n_jobs=2)]: Done 196 tasks      | elapsed:    1.6s\n",
            "[Parallel(n_jobs=2)]: Done 446 tasks      | elapsed:    3.6s\n",
            "[Parallel(n_jobs=2)]: Done 796 tasks      | elapsed:    6.3s\n",
            "[Parallel(n_jobs=2)]: Done 1246 tasks      | elapsed:   10.0s\n",
            "[Parallel(n_jobs=2)]: Done 1796 tasks      | elapsed:   14.3s\n",
            "[Parallel(n_jobs=2)]: Done 2000 out of 2000 | elapsed:   15.9s finished\n"
          ]
        },
        {
          "output_type": "stream",
          "name": "stdout",
          "text": [
            "[CV 5/5; 4/10] END bootstrap=True, class_weight=None, max_depth=90, max_features=auto, min_samples_leaf=2, min_samples_split=2, min_weight_fraction_leaf=0.0, n_estimators=2000;, score=0.915 total time= 6.3min\n",
            "[CV 1/5; 5/10] START bootstrap=True, class_weight=None, max_depth=60, max_features=auto, min_samples_leaf=2, min_samples_split=10, min_weight_fraction_leaf=0.0, n_estimators=200\n"
          ]
        },
        {
          "output_type": "stream",
          "name": "stderr",
          "text": [
            "[Parallel(n_jobs=-1)]: Using backend LokyBackend with 2 concurrent workers.\n",
            "[Parallel(n_jobs=-1)]: Done  46 tasks      | elapsed:    8.1s\n",
            "[Parallel(n_jobs=-1)]: Done 196 tasks      | elapsed:   34.8s\n",
            "[Parallel(n_jobs=-1)]: Done 200 out of 200 | elapsed:   35.4s finished\n",
            "[Parallel(n_jobs=2)]: Using backend ThreadingBackend with 2 concurrent workers.\n",
            "[Parallel(n_jobs=2)]: Done  46 tasks      | elapsed:    0.4s\n",
            "[Parallel(n_jobs=2)]: Done 196 tasks      | elapsed:    1.6s\n",
            "[Parallel(n_jobs=2)]: Done 200 out of 200 | elapsed:    1.6s finished\n",
            "[Parallel(n_jobs=-1)]: Using backend LokyBackend with 2 concurrent workers.\n"
          ]
        },
        {
          "output_type": "stream",
          "name": "stdout",
          "text": [
            "[CV 1/5; 5/10] END bootstrap=True, class_weight=None, max_depth=60, max_features=auto, min_samples_leaf=2, min_samples_split=10, min_weight_fraction_leaf=0.0, n_estimators=200;, score=0.916 total time=  37.3s\n",
            "[CV 2/5; 5/10] START bootstrap=True, class_weight=None, max_depth=60, max_features=auto, min_samples_leaf=2, min_samples_split=10, min_weight_fraction_leaf=0.0, n_estimators=200\n"
          ]
        },
        {
          "output_type": "stream",
          "name": "stderr",
          "text": [
            "[Parallel(n_jobs=-1)]: Done  46 tasks      | elapsed:    8.2s\n",
            "[Parallel(n_jobs=-1)]: Done 196 tasks      | elapsed:   34.2s\n",
            "[Parallel(n_jobs=-1)]: Done 200 out of 200 | elapsed:   34.9s finished\n",
            "[Parallel(n_jobs=2)]: Using backend ThreadingBackend with 2 concurrent workers.\n",
            "[Parallel(n_jobs=2)]: Done  46 tasks      | elapsed:    0.4s\n",
            "[Parallel(n_jobs=2)]: Done 196 tasks      | elapsed:    1.6s\n",
            "[Parallel(n_jobs=2)]: Done 200 out of 200 | elapsed:    1.6s finished\n",
            "[Parallel(n_jobs=-1)]: Using backend LokyBackend with 2 concurrent workers.\n"
          ]
        },
        {
          "output_type": "stream",
          "name": "stdout",
          "text": [
            "[CV 2/5; 5/10] END bootstrap=True, class_weight=None, max_depth=60, max_features=auto, min_samples_leaf=2, min_samples_split=10, min_weight_fraction_leaf=0.0, n_estimators=200;, score=0.915 total time=  36.8s\n",
            "[CV 3/5; 5/10] START bootstrap=True, class_weight=None, max_depth=60, max_features=auto, min_samples_leaf=2, min_samples_split=10, min_weight_fraction_leaf=0.0, n_estimators=200\n"
          ]
        },
        {
          "output_type": "stream",
          "name": "stderr",
          "text": [
            "[Parallel(n_jobs=-1)]: Done  46 tasks      | elapsed:    8.5s\n",
            "[Parallel(n_jobs=-1)]: Done 196 tasks      | elapsed:   35.4s\n",
            "[Parallel(n_jobs=-1)]: Done 200 out of 200 | elapsed:   36.1s finished\n",
            "[Parallel(n_jobs=2)]: Using backend ThreadingBackend with 2 concurrent workers.\n",
            "[Parallel(n_jobs=2)]: Done  46 tasks      | elapsed:    0.4s\n",
            "[Parallel(n_jobs=2)]: Done 196 tasks      | elapsed:    1.7s\n",
            "[Parallel(n_jobs=2)]: Done 200 out of 200 | elapsed:    1.7s finished\n"
          ]
        },
        {
          "output_type": "stream",
          "name": "stdout",
          "text": [
            "[CV 3/5; 5/10] END bootstrap=True, class_weight=None, max_depth=60, max_features=auto, min_samples_leaf=2, min_samples_split=10, min_weight_fraction_leaf=0.0, n_estimators=200;, score=0.915 total time=  38.0s\n",
            "[CV 4/5; 5/10] START bootstrap=True, class_weight=None, max_depth=60, max_features=auto, min_samples_leaf=2, min_samples_split=10, min_weight_fraction_leaf=0.0, n_estimators=200\n"
          ]
        },
        {
          "output_type": "stream",
          "name": "stderr",
          "text": [
            "[Parallel(n_jobs=-1)]: Using backend LokyBackend with 2 concurrent workers.\n",
            "[Parallel(n_jobs=-1)]: Done  46 tasks      | elapsed:    8.5s\n",
            "[Parallel(n_jobs=-1)]: Done 196 tasks      | elapsed:   35.7s\n",
            "[Parallel(n_jobs=-1)]: Done 200 out of 200 | elapsed:   36.3s finished\n",
            "[Parallel(n_jobs=2)]: Using backend ThreadingBackend with 2 concurrent workers.\n",
            "[Parallel(n_jobs=2)]: Done  46 tasks      | elapsed:    0.4s\n",
            "[Parallel(n_jobs=2)]: Done 196 tasks      | elapsed:    1.6s\n",
            "[Parallel(n_jobs=2)]: Done 200 out of 200 | elapsed:    1.6s finished\n"
          ]
        },
        {
          "output_type": "stream",
          "name": "stdout",
          "text": [
            "[CV 4/5; 5/10] END bootstrap=True, class_weight=None, max_depth=60, max_features=auto, min_samples_leaf=2, min_samples_split=10, min_weight_fraction_leaf=0.0, n_estimators=200;, score=0.915 total time=  38.2s\n",
            "[CV 5/5; 5/10] START bootstrap=True, class_weight=None, max_depth=60, max_features=auto, min_samples_leaf=2, min_samples_split=10, min_weight_fraction_leaf=0.0, n_estimators=200\n"
          ]
        },
        {
          "output_type": "stream",
          "name": "stderr",
          "text": [
            "[Parallel(n_jobs=-1)]: Using backend LokyBackend with 2 concurrent workers.\n",
            "[Parallel(n_jobs=-1)]: Done  46 tasks      | elapsed:    8.3s\n",
            "[Parallel(n_jobs=-1)]: Done 196 tasks      | elapsed:   34.6s\n",
            "[Parallel(n_jobs=-1)]: Done 200 out of 200 | elapsed:   35.2s finished\n",
            "[Parallel(n_jobs=2)]: Using backend ThreadingBackend with 2 concurrent workers.\n",
            "[Parallel(n_jobs=2)]: Done  46 tasks      | elapsed:    0.4s\n",
            "[Parallel(n_jobs=2)]: Done 196 tasks      | elapsed:    1.5s\n",
            "[Parallel(n_jobs=2)]: Done 200 out of 200 | elapsed:    1.5s finished\n"
          ]
        },
        {
          "output_type": "stream",
          "name": "stdout",
          "text": [
            "[CV 5/5; 5/10] END bootstrap=True, class_weight=None, max_depth=60, max_features=auto, min_samples_leaf=2, min_samples_split=10, min_weight_fraction_leaf=0.0, n_estimators=200;, score=0.916 total time=  37.1s\n",
            "[CV 1/5; 6/10] START bootstrap=True, class_weight=None, max_depth=60, max_features=auto, min_samples_leaf=1, min_samples_split=5, min_weight_fraction_leaf=0.99, n_estimators=200\n"
          ]
        },
        {
          "output_type": "stream",
          "name": "stderr",
          "text": [
            "[Parallel(n_jobs=-1)]: Using backend LokyBackend with 2 concurrent workers.\n"
          ]
        },
        {
          "output_type": "stream",
          "name": "stdout",
          "text": [
            "[CV 1/5; 6/10] END bootstrap=True, class_weight=None, max_depth=60, max_features=auto, min_samples_leaf=1, min_samples_split=5, min_weight_fraction_leaf=0.99, n_estimators=200;, score=nan total time=   0.2s\n",
            "[CV 2/5; 6/10] START bootstrap=True, class_weight=None, max_depth=60, max_features=auto, min_samples_leaf=1, min_samples_split=5, min_weight_fraction_leaf=0.99, n_estimators=200\n"
          ]
        },
        {
          "output_type": "stream",
          "name": "stderr",
          "text": [
            "[Parallel(n_jobs=-1)]: Using backend LokyBackend with 2 concurrent workers.\n"
          ]
        },
        {
          "output_type": "stream",
          "name": "stdout",
          "text": [
            "[CV 2/5; 6/10] END bootstrap=True, class_weight=None, max_depth=60, max_features=auto, min_samples_leaf=1, min_samples_split=5, min_weight_fraction_leaf=0.99, n_estimators=200;, score=nan total time=   1.2s\n",
            "[CV 3/5; 6/10] START bootstrap=True, class_weight=None, max_depth=60, max_features=auto, min_samples_leaf=1, min_samples_split=5, min_weight_fraction_leaf=0.99, n_estimators=200\n"
          ]
        },
        {
          "output_type": "stream",
          "name": "stderr",
          "text": [
            "[Parallel(n_jobs=-1)]: Using backend LokyBackend with 2 concurrent workers.\n"
          ]
        },
        {
          "output_type": "stream",
          "name": "stdout",
          "text": [
            "[CV 3/5; 6/10] END bootstrap=True, class_weight=None, max_depth=60, max_features=auto, min_samples_leaf=1, min_samples_split=5, min_weight_fraction_leaf=0.99, n_estimators=200;, score=nan total time=   1.2s\n",
            "[CV 4/5; 6/10] START bootstrap=True, class_weight=None, max_depth=60, max_features=auto, min_samples_leaf=1, min_samples_split=5, min_weight_fraction_leaf=0.99, n_estimators=200\n"
          ]
        },
        {
          "output_type": "stream",
          "name": "stderr",
          "text": [
            "[Parallel(n_jobs=-1)]: Using backend LokyBackend with 2 concurrent workers.\n"
          ]
        },
        {
          "output_type": "stream",
          "name": "stdout",
          "text": [
            "[CV 4/5; 6/10] END bootstrap=True, class_weight=None, max_depth=60, max_features=auto, min_samples_leaf=1, min_samples_split=5, min_weight_fraction_leaf=0.99, n_estimators=200;, score=nan total time=   1.2s\n",
            "[CV 5/5; 6/10] START bootstrap=True, class_weight=None, max_depth=60, max_features=auto, min_samples_leaf=1, min_samples_split=5, min_weight_fraction_leaf=0.99, n_estimators=200\n"
          ]
        },
        {
          "output_type": "stream",
          "name": "stderr",
          "text": [
            "[Parallel(n_jobs=-1)]: Using backend LokyBackend with 2 concurrent workers.\n"
          ]
        },
        {
          "output_type": "stream",
          "name": "stdout",
          "text": [
            "[CV 5/5; 6/10] END bootstrap=True, class_weight=None, max_depth=60, max_features=auto, min_samples_leaf=1, min_samples_split=5, min_weight_fraction_leaf=0.99, n_estimators=200;, score=nan total time=   1.2s\n",
            "[CV 1/5; 7/10] START bootstrap=False, class_weight=None, max_depth=90, max_features=auto, min_samples_leaf=2, min_samples_split=2, min_weight_fraction_leaf=0.0, n_estimators=1000\n"
          ]
        },
        {
          "output_type": "stream",
          "name": "stderr",
          "text": [
            "[Parallel(n_jobs=-1)]: Using backend LokyBackend with 2 concurrent workers.\n",
            "[Parallel(n_jobs=-1)]: Done  46 tasks      | elapsed:   11.9s\n",
            "[Parallel(n_jobs=-1)]: Done 196 tasks      | elapsed:   47.6s\n",
            "[Parallel(n_jobs=-1)]: Done 446 tasks      | elapsed:  1.8min\n",
            "[Parallel(n_jobs=-1)]: Done 796 tasks      | elapsed:  3.2min\n",
            "[Parallel(n_jobs=-1)]: Done 1000 out of 1000 | elapsed:  4.0min finished\n",
            "[Parallel(n_jobs=2)]: Using backend ThreadingBackend with 2 concurrent workers.\n",
            "[Parallel(n_jobs=2)]: Done  46 tasks      | elapsed:    0.4s\n",
            "[Parallel(n_jobs=2)]: Done 196 tasks      | elapsed:    1.8s\n",
            "[Parallel(n_jobs=2)]: Done 446 tasks      | elapsed:    4.0s\n",
            "[Parallel(n_jobs=2)]: Done 796 tasks      | elapsed:    7.1s\n",
            "[Parallel(n_jobs=2)]: Done 1000 out of 1000 | elapsed:    8.9s finished\n"
          ]
        },
        {
          "output_type": "stream",
          "name": "stdout",
          "text": [
            "[CV 1/5; 7/10] END bootstrap=False, class_weight=None, max_depth=90, max_features=auto, min_samples_leaf=2, min_samples_split=2, min_weight_fraction_leaf=0.0, n_estimators=1000;, score=0.913 total time= 4.1min\n",
            "[CV 2/5; 7/10] START bootstrap=False, class_weight=None, max_depth=90, max_features=auto, min_samples_leaf=2, min_samples_split=2, min_weight_fraction_leaf=0.0, n_estimators=1000\n"
          ]
        },
        {
          "output_type": "stream",
          "name": "stderr",
          "text": [
            "[Parallel(n_jobs=-1)]: Using backend LokyBackend with 2 concurrent workers.\n",
            "[Parallel(n_jobs=-1)]: Done  46 tasks      | elapsed:   11.0s\n",
            "[Parallel(n_jobs=-1)]: Done 196 tasks      | elapsed:   46.1s\n",
            "[Parallel(n_jobs=-1)]: Done 446 tasks      | elapsed:  1.7min\n",
            "[Parallel(n_jobs=-1)]: Done 796 tasks      | elapsed:  3.1min\n",
            "[Parallel(n_jobs=-1)]: Done 1000 out of 1000 | elapsed:  4.0min finished\n",
            "[Parallel(n_jobs=2)]: Using backend ThreadingBackend with 2 concurrent workers.\n",
            "[Parallel(n_jobs=2)]: Done  46 tasks      | elapsed:    0.4s\n",
            "[Parallel(n_jobs=2)]: Done 196 tasks      | elapsed:    1.9s\n",
            "[Parallel(n_jobs=2)]: Done 446 tasks      | elapsed:    4.2s\n",
            "[Parallel(n_jobs=2)]: Done 796 tasks      | elapsed:    7.4s\n",
            "[Parallel(n_jobs=2)]: Done 1000 out of 1000 | elapsed:    9.3s finished\n"
          ]
        },
        {
          "output_type": "stream",
          "name": "stdout",
          "text": [
            "[CV 2/5; 7/10] END bootstrap=False, class_weight=None, max_depth=90, max_features=auto, min_samples_leaf=2, min_samples_split=2, min_weight_fraction_leaf=0.0, n_estimators=1000;, score=0.911 total time= 4.2min\n",
            "[CV 3/5; 7/10] START bootstrap=False, class_weight=None, max_depth=90, max_features=auto, min_samples_leaf=2, min_samples_split=2, min_weight_fraction_leaf=0.0, n_estimators=1000\n"
          ]
        },
        {
          "output_type": "stream",
          "name": "stderr",
          "text": [
            "[Parallel(n_jobs=-1)]: Using backend LokyBackend with 2 concurrent workers.\n",
            "[Parallel(n_jobs=-1)]: Done  46 tasks      | elapsed:   11.3s\n",
            "[Parallel(n_jobs=-1)]: Done 196 tasks      | elapsed:   47.6s\n",
            "[Parallel(n_jobs=-1)]: Done 446 tasks      | elapsed:  1.8min\n",
            "[Parallel(n_jobs=-1)]: Done 796 tasks      | elapsed:  3.2min\n",
            "[Parallel(n_jobs=-1)]: Done 1000 out of 1000 | elapsed:  4.1min finished\n",
            "[Parallel(n_jobs=2)]: Using backend ThreadingBackend with 2 concurrent workers.\n",
            "[Parallel(n_jobs=2)]: Done  46 tasks      | elapsed:    0.5s\n",
            "[Parallel(n_jobs=2)]: Done 196 tasks      | elapsed:    1.9s\n",
            "[Parallel(n_jobs=2)]: Done 446 tasks      | elapsed:    4.2s\n",
            "[Parallel(n_jobs=2)]: Done 796 tasks      | elapsed:    7.6s\n",
            "[Parallel(n_jobs=2)]: Done 1000 out of 1000 | elapsed:    9.5s finished\n"
          ]
        },
        {
          "output_type": "stream",
          "name": "stdout",
          "text": [
            "[CV 3/5; 7/10] END bootstrap=False, class_weight=None, max_depth=90, max_features=auto, min_samples_leaf=2, min_samples_split=2, min_weight_fraction_leaf=0.0, n_estimators=1000;, score=0.910 total time= 4.2min\n",
            "[CV 4/5; 7/10] START bootstrap=False, class_weight=None, max_depth=90, max_features=auto, min_samples_leaf=2, min_samples_split=2, min_weight_fraction_leaf=0.0, n_estimators=1000\n"
          ]
        },
        {
          "output_type": "stream",
          "name": "stderr",
          "text": [
            "[Parallel(n_jobs=-1)]: Using backend LokyBackend with 2 concurrent workers.\n",
            "[Parallel(n_jobs=-1)]: Done  46 tasks      | elapsed:   11.2s\n",
            "[Parallel(n_jobs=-1)]: Done 196 tasks      | elapsed:   47.5s\n",
            "[Parallel(n_jobs=-1)]: Done 446 tasks      | elapsed:  1.8min\n",
            "[Parallel(n_jobs=-1)]: Done 796 tasks      | elapsed:  3.2min\n",
            "[Parallel(n_jobs=-1)]: Done 1000 out of 1000 | elapsed:  4.0min finished\n",
            "[Parallel(n_jobs=2)]: Using backend ThreadingBackend with 2 concurrent workers.\n",
            "[Parallel(n_jobs=2)]: Done  46 tasks      | elapsed:    0.4s\n",
            "[Parallel(n_jobs=2)]: Done 196 tasks      | elapsed:    1.8s\n",
            "[Parallel(n_jobs=2)]: Done 446 tasks      | elapsed:    4.1s\n",
            "[Parallel(n_jobs=2)]: Done 796 tasks      | elapsed:    7.3s\n",
            "[Parallel(n_jobs=2)]: Done 1000 out of 1000 | elapsed:    9.2s finished\n"
          ]
        },
        {
          "output_type": "stream",
          "name": "stdout",
          "text": [
            "[CV 4/5; 7/10] END bootstrap=False, class_weight=None, max_depth=90, max_features=auto, min_samples_leaf=2, min_samples_split=2, min_weight_fraction_leaf=0.0, n_estimators=1000;, score=0.911 total time= 4.2min\n",
            "[CV 5/5; 7/10] START bootstrap=False, class_weight=None, max_depth=90, max_features=auto, min_samples_leaf=2, min_samples_split=2, min_weight_fraction_leaf=0.0, n_estimators=1000\n"
          ]
        },
        {
          "output_type": "stream",
          "name": "stderr",
          "text": [
            "[Parallel(n_jobs=-1)]: Using backend LokyBackend with 2 concurrent workers.\n",
            "[Parallel(n_jobs=-1)]: Done  46 tasks      | elapsed:   11.2s\n",
            "[Parallel(n_jobs=-1)]: Done 196 tasks      | elapsed:   47.6s\n",
            "[Parallel(n_jobs=-1)]: Done 446 tasks      | elapsed:  1.8min\n",
            "[Parallel(n_jobs=-1)]: Done 796 tasks      | elapsed:  3.2min\n",
            "[Parallel(n_jobs=-1)]: Done 1000 out of 1000 | elapsed:  4.0min finished\n",
            "[Parallel(n_jobs=2)]: Using backend ThreadingBackend with 2 concurrent workers.\n",
            "[Parallel(n_jobs=2)]: Done  46 tasks      | elapsed:    0.4s\n",
            "[Parallel(n_jobs=2)]: Done 196 tasks      | elapsed:    1.8s\n",
            "[Parallel(n_jobs=2)]: Done 446 tasks      | elapsed:    4.0s\n",
            "[Parallel(n_jobs=2)]: Done 796 tasks      | elapsed:    7.2s\n",
            "[Parallel(n_jobs=2)]: Done 1000 out of 1000 | elapsed:    9.0s finished\n"
          ]
        },
        {
          "output_type": "stream",
          "name": "stdout",
          "text": [
            "[CV 5/5; 7/10] END bootstrap=False, class_weight=None, max_depth=90, max_features=auto, min_samples_leaf=2, min_samples_split=2, min_weight_fraction_leaf=0.0, n_estimators=1000;, score=0.912 total time= 4.2min\n",
            "[CV 1/5; 8/10] START bootstrap=True, class_weight=None, max_depth=None, max_features=auto, min_samples_leaf=1, min_samples_split=5, min_weight_fraction_leaf=0.99, n_estimators=1600\n"
          ]
        },
        {
          "output_type": "stream",
          "name": "stderr",
          "text": [
            "[Parallel(n_jobs=-1)]: Using backend LokyBackend with 2 concurrent workers.\n"
          ]
        },
        {
          "output_type": "stream",
          "name": "stdout",
          "text": [
            "[CV 1/5; 8/10] END bootstrap=True, class_weight=None, max_depth=None, max_features=auto, min_samples_leaf=1, min_samples_split=5, min_weight_fraction_leaf=0.99, n_estimators=1600;, score=nan total time=   0.9s\n",
            "[CV 2/5; 8/10] START bootstrap=True, class_weight=None, max_depth=None, max_features=auto, min_samples_leaf=1, min_samples_split=5, min_weight_fraction_leaf=0.99, n_estimators=1600\n"
          ]
        },
        {
          "output_type": "stream",
          "name": "stderr",
          "text": [
            "[Parallel(n_jobs=-1)]: Using backend LokyBackend with 2 concurrent workers.\n"
          ]
        },
        {
          "output_type": "stream",
          "name": "stdout",
          "text": [
            "[CV 2/5; 8/10] END bootstrap=True, class_weight=None, max_depth=None, max_features=auto, min_samples_leaf=1, min_samples_split=5, min_weight_fraction_leaf=0.99, n_estimators=1600;, score=nan total time=   1.8s\n",
            "[CV 3/5; 8/10] START bootstrap=True, class_weight=None, max_depth=None, max_features=auto, min_samples_leaf=1, min_samples_split=5, min_weight_fraction_leaf=0.99, n_estimators=1600\n"
          ]
        },
        {
          "output_type": "stream",
          "name": "stderr",
          "text": [
            "[Parallel(n_jobs=-1)]: Using backend LokyBackend with 2 concurrent workers.\n"
          ]
        },
        {
          "output_type": "stream",
          "name": "stdout",
          "text": [
            "[CV 3/5; 8/10] END bootstrap=True, class_weight=None, max_depth=None, max_features=auto, min_samples_leaf=1, min_samples_split=5, min_weight_fraction_leaf=0.99, n_estimators=1600;, score=nan total time=   1.9s\n",
            "[CV 4/5; 8/10] START bootstrap=True, class_weight=None, max_depth=None, max_features=auto, min_samples_leaf=1, min_samples_split=5, min_weight_fraction_leaf=0.99, n_estimators=1600\n"
          ]
        },
        {
          "output_type": "stream",
          "name": "stderr",
          "text": [
            "[Parallel(n_jobs=-1)]: Using backend LokyBackend with 2 concurrent workers.\n"
          ]
        },
        {
          "output_type": "stream",
          "name": "stdout",
          "text": [
            "[CV 4/5; 8/10] END bootstrap=True, class_weight=None, max_depth=None, max_features=auto, min_samples_leaf=1, min_samples_split=5, min_weight_fraction_leaf=0.99, n_estimators=1600;, score=nan total time=   1.8s\n",
            "[CV 5/5; 8/10] START bootstrap=True, class_weight=None, max_depth=None, max_features=auto, min_samples_leaf=1, min_samples_split=5, min_weight_fraction_leaf=0.99, n_estimators=1600\n"
          ]
        },
        {
          "output_type": "stream",
          "name": "stderr",
          "text": [
            "[Parallel(n_jobs=-1)]: Using backend LokyBackend with 2 concurrent workers.\n"
          ]
        },
        {
          "output_type": "stream",
          "name": "stdout",
          "text": [
            "[CV 5/5; 8/10] END bootstrap=True, class_weight=None, max_depth=None, max_features=auto, min_samples_leaf=1, min_samples_split=5, min_weight_fraction_leaf=0.99, n_estimators=1600;, score=nan total time=   1.8s\n",
            "[CV 1/5; 9/10] START bootstrap=False, class_weight=balanced, max_depth=90, max_features=auto, min_samples_leaf=1, min_samples_split=2, min_weight_fraction_leaf=0.99, n_estimators=2000\n"
          ]
        },
        {
          "output_type": "stream",
          "name": "stderr",
          "text": [
            "/usr/local/lib/python3.7/dist-packages/sklearn/ensemble/_forest.py:766: UserWarning: class_weight presets \"balanced\" or \"balanced_subsample\" are not recommended for warm_start if the fitted data differs from the full dataset. In order to use \"balanced\" weights, use compute_class_weight (\"balanced\", classes, y). In place of y you can use a large enough sample of the full training set target to properly estimate the class frequency distributions. Pass the resulting weights as the class_weight parameter.\n",
            "  'class_weight presets \"balanced\" or '\n",
            "[Parallel(n_jobs=-1)]: Using backend LokyBackend with 2 concurrent workers.\n"
          ]
        },
        {
          "output_type": "stream",
          "name": "stdout",
          "text": [
            "[CV 1/5; 9/10] END bootstrap=False, class_weight=balanced, max_depth=90, max_features=auto, min_samples_leaf=1, min_samples_split=2, min_weight_fraction_leaf=0.99, n_estimators=2000;, score=nan total time=   2.1s\n",
            "[CV 2/5; 9/10] START bootstrap=False, class_weight=balanced, max_depth=90, max_features=auto, min_samples_leaf=1, min_samples_split=2, min_weight_fraction_leaf=0.99, n_estimators=2000\n"
          ]
        },
        {
          "output_type": "stream",
          "name": "stderr",
          "text": [
            "/usr/local/lib/python3.7/dist-packages/sklearn/ensemble/_forest.py:766: UserWarning: class_weight presets \"balanced\" or \"balanced_subsample\" are not recommended for warm_start if the fitted data differs from the full dataset. In order to use \"balanced\" weights, use compute_class_weight (\"balanced\", classes, y). In place of y you can use a large enough sample of the full training set target to properly estimate the class frequency distributions. Pass the resulting weights as the class_weight parameter.\n",
            "  'class_weight presets \"balanced\" or '\n",
            "[Parallel(n_jobs=-1)]: Using backend LokyBackend with 2 concurrent workers.\n"
          ]
        },
        {
          "output_type": "stream",
          "name": "stdout",
          "text": [
            "[CV 2/5; 9/10] END bootstrap=False, class_weight=balanced, max_depth=90, max_features=auto, min_samples_leaf=1, min_samples_split=2, min_weight_fraction_leaf=0.99, n_estimators=2000;, score=nan total time=   2.0s\n",
            "[CV 3/5; 9/10] START bootstrap=False, class_weight=balanced, max_depth=90, max_features=auto, min_samples_leaf=1, min_samples_split=2, min_weight_fraction_leaf=0.99, n_estimators=2000\n"
          ]
        },
        {
          "output_type": "stream",
          "name": "stderr",
          "text": [
            "/usr/local/lib/python3.7/dist-packages/sklearn/ensemble/_forest.py:766: UserWarning: class_weight presets \"balanced\" or \"balanced_subsample\" are not recommended for warm_start if the fitted data differs from the full dataset. In order to use \"balanced\" weights, use compute_class_weight (\"balanced\", classes, y). In place of y you can use a large enough sample of the full training set target to properly estimate the class frequency distributions. Pass the resulting weights as the class_weight parameter.\n",
            "  'class_weight presets \"balanced\" or '\n",
            "[Parallel(n_jobs=-1)]: Using backend LokyBackend with 2 concurrent workers.\n"
          ]
        },
        {
          "output_type": "stream",
          "name": "stdout",
          "text": [
            "[CV 3/5; 9/10] END bootstrap=False, class_weight=balanced, max_depth=90, max_features=auto, min_samples_leaf=1, min_samples_split=2, min_weight_fraction_leaf=0.99, n_estimators=2000;, score=nan total time=   2.0s\n",
            "[CV 4/5; 9/10] START bootstrap=False, class_weight=balanced, max_depth=90, max_features=auto, min_samples_leaf=1, min_samples_split=2, min_weight_fraction_leaf=0.99, n_estimators=2000\n"
          ]
        },
        {
          "output_type": "stream",
          "name": "stderr",
          "text": [
            "/usr/local/lib/python3.7/dist-packages/sklearn/ensemble/_forest.py:766: UserWarning: class_weight presets \"balanced\" or \"balanced_subsample\" are not recommended for warm_start if the fitted data differs from the full dataset. In order to use \"balanced\" weights, use compute_class_weight (\"balanced\", classes, y). In place of y you can use a large enough sample of the full training set target to properly estimate the class frequency distributions. Pass the resulting weights as the class_weight parameter.\n",
            "  'class_weight presets \"balanced\" or '\n",
            "[Parallel(n_jobs=-1)]: Using backend LokyBackend with 2 concurrent workers.\n"
          ]
        },
        {
          "output_type": "stream",
          "name": "stdout",
          "text": [
            "[CV 4/5; 9/10] END bootstrap=False, class_weight=balanced, max_depth=90, max_features=auto, min_samples_leaf=1, min_samples_split=2, min_weight_fraction_leaf=0.99, n_estimators=2000;, score=nan total time=   2.0s\n",
            "[CV 5/5; 9/10] START bootstrap=False, class_weight=balanced, max_depth=90, max_features=auto, min_samples_leaf=1, min_samples_split=2, min_weight_fraction_leaf=0.99, n_estimators=2000\n"
          ]
        },
        {
          "output_type": "stream",
          "name": "stderr",
          "text": [
            "/usr/local/lib/python3.7/dist-packages/sklearn/ensemble/_forest.py:766: UserWarning: class_weight presets \"balanced\" or \"balanced_subsample\" are not recommended for warm_start if the fitted data differs from the full dataset. In order to use \"balanced\" weights, use compute_class_weight (\"balanced\", classes, y). In place of y you can use a large enough sample of the full training set target to properly estimate the class frequency distributions. Pass the resulting weights as the class_weight parameter.\n",
            "  'class_weight presets \"balanced\" or '\n",
            "[Parallel(n_jobs=-1)]: Using backend LokyBackend with 2 concurrent workers.\n"
          ]
        },
        {
          "output_type": "stream",
          "name": "stdout",
          "text": [
            "[CV 5/5; 9/10] END bootstrap=False, class_weight=balanced, max_depth=90, max_features=auto, min_samples_leaf=1, min_samples_split=2, min_weight_fraction_leaf=0.99, n_estimators=2000;, score=nan total time=   2.0s\n",
            "[CV 1/5; 10/10] START bootstrap=True, class_weight=balanced, max_depth=90, max_features=sqrt, min_samples_leaf=1, min_samples_split=5, min_weight_fraction_leaf=0.99, n_estimators=800\n"
          ]
        },
        {
          "output_type": "stream",
          "name": "stderr",
          "text": [
            "/usr/local/lib/python3.7/dist-packages/sklearn/ensemble/_forest.py:766: UserWarning: class_weight presets \"balanced\" or \"balanced_subsample\" are not recommended for warm_start if the fitted data differs from the full dataset. In order to use \"balanced\" weights, use compute_class_weight (\"balanced\", classes, y). In place of y you can use a large enough sample of the full training set target to properly estimate the class frequency distributions. Pass the resulting weights as the class_weight parameter.\n",
            "  'class_weight presets \"balanced\" or '\n",
            "[Parallel(n_jobs=-1)]: Using backend LokyBackend with 2 concurrent workers.\n"
          ]
        },
        {
          "output_type": "stream",
          "name": "stdout",
          "text": [
            "[CV 1/5; 10/10] END bootstrap=True, class_weight=balanced, max_depth=90, max_features=sqrt, min_samples_leaf=1, min_samples_split=5, min_weight_fraction_leaf=0.99, n_estimators=800;, score=nan total time=   1.5s\n",
            "[CV 2/5; 10/10] START bootstrap=True, class_weight=balanced, max_depth=90, max_features=sqrt, min_samples_leaf=1, min_samples_split=5, min_weight_fraction_leaf=0.99, n_estimators=800\n"
          ]
        },
        {
          "output_type": "stream",
          "name": "stderr",
          "text": [
            "/usr/local/lib/python3.7/dist-packages/sklearn/ensemble/_forest.py:766: UserWarning: class_weight presets \"balanced\" or \"balanced_subsample\" are not recommended for warm_start if the fitted data differs from the full dataset. In order to use \"balanced\" weights, use compute_class_weight (\"balanced\", classes, y). In place of y you can use a large enough sample of the full training set target to properly estimate the class frequency distributions. Pass the resulting weights as the class_weight parameter.\n",
            "  'class_weight presets \"balanced\" or '\n",
            "[Parallel(n_jobs=-1)]: Using backend LokyBackend with 2 concurrent workers.\n"
          ]
        },
        {
          "output_type": "stream",
          "name": "stdout",
          "text": [
            "[CV 2/5; 10/10] END bootstrap=True, class_weight=balanced, max_depth=90, max_features=sqrt, min_samples_leaf=1, min_samples_split=5, min_weight_fraction_leaf=0.99, n_estimators=800;, score=nan total time=   1.5s\n",
            "[CV 3/5; 10/10] START bootstrap=True, class_weight=balanced, max_depth=90, max_features=sqrt, min_samples_leaf=1, min_samples_split=5, min_weight_fraction_leaf=0.99, n_estimators=800\n"
          ]
        },
        {
          "output_type": "stream",
          "name": "stderr",
          "text": [
            "/usr/local/lib/python3.7/dist-packages/sklearn/ensemble/_forest.py:766: UserWarning: class_weight presets \"balanced\" or \"balanced_subsample\" are not recommended for warm_start if the fitted data differs from the full dataset. In order to use \"balanced\" weights, use compute_class_weight (\"balanced\", classes, y). In place of y you can use a large enough sample of the full training set target to properly estimate the class frequency distributions. Pass the resulting weights as the class_weight parameter.\n",
            "  'class_weight presets \"balanced\" or '\n",
            "[Parallel(n_jobs=-1)]: Using backend LokyBackend with 2 concurrent workers.\n"
          ]
        },
        {
          "output_type": "stream",
          "name": "stdout",
          "text": [
            "[CV 3/5; 10/10] END bootstrap=True, class_weight=balanced, max_depth=90, max_features=sqrt, min_samples_leaf=1, min_samples_split=5, min_weight_fraction_leaf=0.99, n_estimators=800;, score=nan total time=   1.6s\n",
            "[CV 4/5; 10/10] START bootstrap=True, class_weight=balanced, max_depth=90, max_features=sqrt, min_samples_leaf=1, min_samples_split=5, min_weight_fraction_leaf=0.99, n_estimators=800\n"
          ]
        },
        {
          "output_type": "stream",
          "name": "stderr",
          "text": [
            "/usr/local/lib/python3.7/dist-packages/sklearn/ensemble/_forest.py:766: UserWarning: class_weight presets \"balanced\" or \"balanced_subsample\" are not recommended for warm_start if the fitted data differs from the full dataset. In order to use \"balanced\" weights, use compute_class_weight (\"balanced\", classes, y). In place of y you can use a large enough sample of the full training set target to properly estimate the class frequency distributions. Pass the resulting weights as the class_weight parameter.\n",
            "  'class_weight presets \"balanced\" or '\n",
            "[Parallel(n_jobs=-1)]: Using backend LokyBackend with 2 concurrent workers.\n"
          ]
        },
        {
          "output_type": "stream",
          "name": "stdout",
          "text": [
            "[CV 4/5; 10/10] END bootstrap=True, class_weight=balanced, max_depth=90, max_features=sqrt, min_samples_leaf=1, min_samples_split=5, min_weight_fraction_leaf=0.99, n_estimators=800;, score=nan total time=   1.5s\n",
            "[CV 5/5; 10/10] START bootstrap=True, class_weight=balanced, max_depth=90, max_features=sqrt, min_samples_leaf=1, min_samples_split=5, min_weight_fraction_leaf=0.99, n_estimators=800\n"
          ]
        },
        {
          "output_type": "stream",
          "name": "stderr",
          "text": [
            "/usr/local/lib/python3.7/dist-packages/sklearn/ensemble/_forest.py:766: UserWarning: class_weight presets \"balanced\" or \"balanced_subsample\" are not recommended for warm_start if the fitted data differs from the full dataset. In order to use \"balanced\" weights, use compute_class_weight (\"balanced\", classes, y). In place of y you can use a large enough sample of the full training set target to properly estimate the class frequency distributions. Pass the resulting weights as the class_weight parameter.\n",
            "  'class_weight presets \"balanced\" or '\n",
            "[Parallel(n_jobs=-1)]: Using backend LokyBackend with 2 concurrent workers.\n"
          ]
        },
        {
          "output_type": "stream",
          "name": "stdout",
          "text": [
            "[CV 5/5; 10/10] END bootstrap=True, class_weight=balanced, max_depth=90, max_features=sqrt, min_samples_leaf=1, min_samples_split=5, min_weight_fraction_leaf=0.99, n_estimators=800;, score=nan total time=   1.5s\n"
          ]
        },
        {
          "output_type": "stream",
          "name": "stderr",
          "text": [
            "/usr/local/lib/python3.7/dist-packages/sklearn/model_selection/_validation.py:372: FitFailedWarning: \n",
            "25 fits failed out of a total of 50.\n",
            "The score on these train-test partitions for these parameters will be set to nan.\n",
            "If these failures are not expected, you can try to debug them by setting error_score='raise'.\n",
            "\n",
            "Below are more details about the failures:\n",
            "--------------------------------------------------------------------------------\n",
            "10 fits failed with the following error:\n",
            "joblib.externals.loky.process_executor._RemoteTraceback: \n",
            "\"\"\"\n",
            "Traceback (most recent call last):\n",
            "  File \"/usr/local/lib/python3.7/dist-packages/joblib/externals/loky/process_executor.py\", line 436, in _process_worker\n",
            "    r = call_item()\n",
            "  File \"/usr/local/lib/python3.7/dist-packages/joblib/externals/loky/process_executor.py\", line 288, in __call__\n",
            "    return self.fn(*self.args, **self.kwargs)\n",
            "  File \"/usr/local/lib/python3.7/dist-packages/joblib/_parallel_backends.py\", line 595, in __call__\n",
            "    return self.func(*args, **kwargs)\n",
            "  File \"/usr/local/lib/python3.7/dist-packages/joblib/parallel.py\", line 263, in __call__\n",
            "    for func, args, kwargs in self.items]\n",
            "  File \"/usr/local/lib/python3.7/dist-packages/joblib/parallel.py\", line 263, in <listcomp>\n",
            "    for func, args, kwargs in self.items]\n",
            "  File \"/usr/local/lib/python3.7/dist-packages/sklearn/utils/fixes.py\", line 216, in __call__\n",
            "    return self.function(*args, **kwargs)\n",
            "  File \"/usr/local/lib/python3.7/dist-packages/sklearn/ensemble/_forest.py\", line 187, in _parallel_build_trees\n",
            "    tree.fit(X, y, sample_weight=sample_weight, check_input=False)\n",
            "  File \"/usr/local/lib/python3.7/dist-packages/sklearn/tree/_classes.py\", line 942, in fit\n",
            "    X_idx_sorted=X_idx_sorted,\n",
            "  File \"/usr/local/lib/python3.7/dist-packages/sklearn/tree/_classes.py\", line 304, in fit\n",
            "    raise ValueError(\"min_weight_fraction_leaf must in [0, 0.5]\")\n",
            "ValueError: min_weight_fraction_leaf must in [0, 0.5]\n",
            "\"\"\"\n",
            "\n",
            "The above exception was the direct cause of the following exception:\n",
            "\n",
            "Traceback (most recent call last):\n",
            "  File \"/usr/local/lib/python3.7/dist-packages/sklearn/model_selection/_validation.py\", line 680, in _fit_and_score\n",
            "    estimator.fit(X_train, y_train, **fit_params)\n",
            "  File \"/usr/local/lib/python3.7/dist-packages/sklearn/ensemble/_forest.py\", line 467, in fit\n",
            "    for i, t in enumerate(trees)\n",
            "  File \"/usr/local/lib/python3.7/dist-packages/joblib/parallel.py\", line 1056, in __call__\n",
            "    self.retrieve()\n",
            "  File \"/usr/local/lib/python3.7/dist-packages/joblib/parallel.py\", line 935, in retrieve\n",
            "    self._output.extend(job.get(timeout=self.timeout))\n",
            "  File \"/usr/local/lib/python3.7/dist-packages/joblib/_parallel_backends.py\", line 542, in wrap_future_result\n",
            "    return future.result(timeout=timeout)\n",
            "  File \"/usr/lib/python3.7/concurrent/futures/_base.py\", line 435, in result\n",
            "    return self.__get_result()\n",
            "  File \"/usr/lib/python3.7/concurrent/futures/_base.py\", line 384, in __get_result\n",
            "    raise self._exception\n",
            "ValueError: min_weight_fraction_leaf must in [0, 0.5]\n",
            "\n",
            "--------------------------------------------------------------------------------\n",
            "15 fits failed with the following error:\n",
            "joblib.externals.loky.process_executor._RemoteTraceback: \n",
            "\"\"\"\n",
            "Traceback (most recent call last):\n",
            "  File \"/usr/local/lib/python3.7/dist-packages/joblib/externals/loky/process_executor.py\", line 436, in _process_worker\n",
            "    r = call_item()\n",
            "  File \"/usr/local/lib/python3.7/dist-packages/joblib/externals/loky/process_executor.py\", line 288, in __call__\n",
            "    return self.fn(*self.args, **self.kwargs)\n",
            "  File \"/usr/local/lib/python3.7/dist-packages/joblib/_parallel_backends.py\", line 595, in __call__\n",
            "    return self.func(*args, **kwargs)\n",
            "  File \"/usr/local/lib/python3.7/dist-packages/joblib/parallel.py\", line 263, in __call__\n",
            "    for func, args, kwargs in self.items]\n",
            "  File \"/usr/local/lib/python3.7/dist-packages/joblib/parallel.py\", line 263, in <listcomp>\n",
            "    for func, args, kwargs in self.items]\n",
            "  File \"/usr/local/lib/python3.7/dist-packages/sklearn/utils/fixes.py\", line 216, in __call__\n",
            "    return self.function(*args, **kwargs)\n",
            "  File \"/usr/local/lib/python3.7/dist-packages/sklearn/ensemble/_forest.py\", line 185, in _parallel_build_trees\n",
            "    tree.fit(X, y, sample_weight=curr_sample_weight, check_input=False)\n",
            "  File \"/usr/local/lib/python3.7/dist-packages/sklearn/tree/_classes.py\", line 942, in fit\n",
            "    X_idx_sorted=X_idx_sorted,\n",
            "  File \"/usr/local/lib/python3.7/dist-packages/sklearn/tree/_classes.py\", line 304, in fit\n",
            "    raise ValueError(\"min_weight_fraction_leaf must in [0, 0.5]\")\n",
            "ValueError: min_weight_fraction_leaf must in [0, 0.5]\n",
            "\"\"\"\n",
            "\n",
            "The above exception was the direct cause of the following exception:\n",
            "\n",
            "Traceback (most recent call last):\n",
            "  File \"/usr/local/lib/python3.7/dist-packages/sklearn/model_selection/_validation.py\", line 680, in _fit_and_score\n",
            "    estimator.fit(X_train, y_train, **fit_params)\n",
            "  File \"/usr/local/lib/python3.7/dist-packages/sklearn/ensemble/_forest.py\", line 467, in fit\n",
            "    for i, t in enumerate(trees)\n",
            "  File \"/usr/local/lib/python3.7/dist-packages/joblib/parallel.py\", line 1056, in __call__\n",
            "    self.retrieve()\n",
            "  File \"/usr/local/lib/python3.7/dist-packages/joblib/parallel.py\", line 935, in retrieve\n",
            "    self._output.extend(job.get(timeout=self.timeout))\n",
            "  File \"/usr/local/lib/python3.7/dist-packages/joblib/_parallel_backends.py\", line 542, in wrap_future_result\n",
            "    return future.result(timeout=timeout)\n",
            "  File \"/usr/lib/python3.7/concurrent/futures/_base.py\", line 435, in result\n",
            "    return self.__get_result()\n",
            "  File \"/usr/lib/python3.7/concurrent/futures/_base.py\", line 384, in __get_result\n",
            "    raise self._exception\n",
            "ValueError: min_weight_fraction_leaf must in [0, 0.5]\n",
            "\n",
            "  warnings.warn(some_fits_failed_message, FitFailedWarning)\n",
            "/usr/local/lib/python3.7/dist-packages/sklearn/model_selection/_search.py:972: UserWarning: One or more of the test scores are non-finite: [0.90845007        nan 0.85941854 0.91462815 0.91528036        nan\n",
            " 0.91152347        nan        nan        nan]\n",
            "  category=UserWarning,\n",
            "[Parallel(n_jobs=-1)]: Using backend ThreadingBackend with 2 concurrent workers.\n",
            "[Parallel(n_jobs=-1)]: Done  46 tasks      | elapsed:   10.6s\n",
            "[Parallel(n_jobs=-1)]: Done 196 tasks      | elapsed:   46.0s\n",
            "[Parallel(n_jobs=-1)]: Done 200 out of 200 | elapsed:   46.8s finished\n"
          ]
        },
        {
          "output_type": "execute_result",
          "data": {
            "text/plain": [
              "RandomizedSearchCV(cv=5,\n",
              "                   estimator=RandomForestClassifier(n_jobs=-1, verbose=1,\n",
              "                                                    warm_start=True),\n",
              "                   param_distributions={'bootstrap': [True, False],\n",
              "                                        'class_weight': ['balanced', None],\n",
              "                                        'max_depth': [10, 60, 90, 100, None],\n",
              "                                        'max_features': ['auto', 'sqrt'],\n",
              "                                        'min_samples_leaf': [1, 2, 4],\n",
              "                                        'min_samples_split': [2, 5, 10],\n",
              "                                        'min_weight_fraction_leaf': [0.0, 0.99],\n",
              "                                        'n_estimators': [200, 800, 1000, 1600,\n",
              "                                                         2000]},\n",
              "                   random_state=42, verbose=1000)"
            ]
          },
          "metadata": {},
          "execution_count": 5
        }
      ]
    },
    {
      "cell_type": "code",
      "source": [
        "print(\"Best F1 score: \", rf_random.best_score_)\n",
        "print(\"Best hyperparameters: \", rf_random.best_params_)"
      ],
      "metadata": {
        "id": "8y9bwQsJmrB0",
        "colab": {
          "base_uri": "https://localhost:8080/"
        },
        "outputId": "4a1ac53d-d1d8-4142-855c-37acbacf41e4"
      },
      "execution_count": null,
      "outputs": [
        {
          "output_type": "stream",
          "name": "stdout",
          "text": [
            "Best F1 score:  0.9152803552033836\n",
            "Best hyperparameters:  {'n_estimators': 200, 'min_weight_fraction_leaf': 0.0, 'min_samples_split': 10, 'min_samples_leaf': 2, 'max_features': 'auto', 'max_depth': 60, 'class_weight': None, 'bootstrap': True}\n"
          ]
        }
      ]
    },
    {
      "cell_type": "code",
      "source": [
        "# running these parameters \n",
        "clf = RandomForestClassifier(n_estimators= 200, min_weight_fraction_leaf= 0.0, min_samples_split= 10, \\\n",
        "                             min_samples_leaf= 2, max_features= 'auto', max_depth= 60, class_weight= None, bootstrap= True)\n",
        "\n"
      ],
      "metadata": {
        "id": "eYnyw_VPG90_"
      },
      "execution_count": null,
      "outputs": []
    },
    {
      "cell_type": "code",
      "source": [
        "clf.fit(X_train, y_train)\n"
      ],
      "metadata": {
        "colab": {
          "base_uri": "https://localhost:8080/"
        },
        "id": "xuLKPFESIU_U",
        "outputId": "594e3f13-e1cc-43d4-f197-93f6ca2f4624"
      },
      "execution_count": null,
      "outputs": [
        {
          "output_type": "execute_result",
          "data": {
            "text/plain": [
              "RandomForestClassifier(max_depth=60, min_samples_leaf=2, min_samples_split=10,\n",
              "                       n_estimators=200)"
            ]
          },
          "metadata": {},
          "execution_count": 8
        }
      ]
    },
    {
      "cell_type": "code",
      "source": [
        "X_test = pd.get_dummies(X_test, drop_first= True)\n",
        "y_pred = clf.predict(X_test)"
      ],
      "metadata": {
        "id": "z-9qB4u1Ibzc"
      },
      "execution_count": null,
      "outputs": []
    },
    {
      "cell_type": "code",
      "source": [
        "print(\"train report\")\n",
        "model_eval(y_train, clf.predict(X_train))"
      ],
      "metadata": {
        "colab": {
          "base_uri": "https://localhost:8080/"
        },
        "id": "i4gx_xf9NOyT",
        "outputId": "208a5f06-8f01-48d3-977b-6479dd0b4292"
      },
      "execution_count": null,
      "outputs": [
        {
          "output_type": "stream",
          "name": "stdout",
          "text": [
            "train report\n",
            "              precision    recall  f1-score   support\n",
            "\n",
            "           0       0.93      1.00      0.96    204773\n",
            "           1       0.94      0.21      0.34     19083\n",
            "\n",
            "    accuracy                           0.93    223856\n",
            "   macro avg       0.94      0.60      0.65    223856\n",
            "weighted avg       0.93      0.93      0.91    223856\n",
            "\n",
            "TN:204541\n",
            "FP:232\n",
            "FN:15158\n",
            "TP:3925\n"
          ]
        }
      ]
    },
    {
      "cell_type": "markdown",
      "source": [
        "baseTrainReport\\\n",
        "![baseModel_trainData.PNG](data:image/png;base64,iVBORw0KGgoAAAANSUhEUgAAAnEAAAFNCAYAAABv3TlzAAAAAXNSR0IArs4c6QAAAARnQU1BAACxjwv8YQUAAAAJcEhZcwAADsMAAA7DAcdvqGQAADdXSURBVHhe7Z1dryTJVa7zT/ADmgtuzQ+YKy5ty+5BMpfjafED5srCR2qjkQ+S6ZGQuKAvkDDd4C/UvrBAatsCIX8Ijls6OjP2BiNED2jc7THCx7Q9/mhjG0j2m1Wr9qpVKzKzPndG1vNIr/auzIjIiJUZK97K3LuqaQP//d//jRBCCCGEJq7OxGU7EEIIIYTQdNVkG6X/+q//QgghhBBCE9WaicsK/Od//idCCCGEEJqYOhPXZ9p+8YtfIIQQQgihiamJ5s3v/PnPf76hn/3sZwghhBBC6JrVmThv4DKz9h//8R8IIYQQQmhCavzdN5k3bfzpT3/a6fnz551+8pOfDOrHP/4xQgghhBA6kRpv3mTYtPFHP/pR+84777Q/+MEPOn3/+9/f0LNnzxBCCCGE0DWpM3EycLqb9tZbb01adocQIYQQQujc1ZiB0x23zDhNSdkAEEIIIYTOUY0MnB6dfve7302N05SUDQAhhBBC6BzV6O/f/v3f/7198uRJapympGwACCGEEELnqOaHP/xh+2//9m/t48ePU+M0JWUDQAghhBA6RzX6T9O33367/eY3v5kapykpGwBCCCGE0Dmq0b+oPn36tP27v/u71DhNSdkAEEIIIYTOUZ2J09/Dff3rX0+N05SUDQAhhBBC6BzV6J8aZJDeeOONDdM0NWUDQAghhBA6R2HiEEIIIYQq1MrEvf766xumaVt96lOfaj/ykY+0L7/8cvtrv/ZrnfS7tn3uc59L62yjbAAIIYQQQueog5g4GbTf+I3fWBm3klRmHzOXDQAhhBBC6By1t4n72Mc+lhq2PqlO1taQsgEghBBCCJ2j9jJxuxg40y5GLhsAQgghhNA5amcTp8eimTnbRts+Ws0GgE6rt/7k/W3z219O9yF0SHGtIYRQv3Y2cR/4wAdSYyZ98IMfTLdH6W/ksrZLygZw3nrU/ulLv9L+r5d+p3093X9gfeXVtmne395/M2z/29faT/zSL7Wf/bMnl6//pv385e+f+N2/WS9zYn3rz15yfcrLDGs5ll967TTxPSO9/ruK60vtV/7l8vXy+vn838ZyX25fbZr2/X/C3EcIoUw7mTj9F2pmykz/8A//0N6+fTvdF7XN3bhsAHvp6Rfb1z70ofZDd77YPsn2T16HMHGLNv709Wyf05v32/dfLqivfiXZ9y+faT87aOKetF95eV9TNV6YuOtVF/+XP9N+K9m32j9o4i7Vd90hhNCZaycTN2TQrJzM3nve8560jElt+bb7lA1gNz1pv3hnYd6+eL9mE3cIjTNxX/7tpm1+/X77VrJviiYOXa8OZuIu1XvtIYTQGWsnEzf0uNSX/epXv9pbXp8j58v3KRvALnryhdfa176wMBP/DxM3bOIG74YsjNtiES6ZNUzcOWnIxC2M2/IOZ/cmYGnoYjmJu3EIIZRqJxOXmTGvWH7o8WosX1I2gH11WhP3tP3LV3+l/b3PP21f/7gegy716qfbp65ct+/jj9qffvvT7e9ZmbVHpot2SvU7vf47izprbTizFravKbbX/S3cq+2X/bbRskeSmfxjyisjuLhLsywT7+gt7/rlbVxqeVfHtHl3x46zMJWrsmvHCfsSM7IyKWvHS4xI6I9pGzPb/f2Y+rc29viIN8Z5ff/u/S20s3a8q3YWf+uWq3SnbVhvtfd/nb+NQwihqJOZOH1rQ1ZWiuVLygawr67DxHVGSSat27a4EyZjZ+WuDJ4Zt2W9VZ0rPf38b/aYON/GsuzG388N34nr/ktw78dZQ3finCkwQ7U0LVeL/2WZNUO1NFuJyfKmMNu+Zio2jnOl0h2lldF0+zoD48tm/b98ve3dyCtjZIZqOe6V8dxsd9G/KwO26q/bttHfzsCtG7vFsbN2gnELMSrFbVd1j1T5T1WEEFrTSR6n+q/hilJbvnyfsgHsq2sxccGMRSO2MHHrZqtk1vpN3G+2f/ntuG17E3eYv0kaaeKSO2J9pqdsFvpN3HqbpbLl9hdmpnSXarmtM0XrZTrDszbGYUUjJflj5X1cH1PW34XJNDMWjaEpayfcwUvGmfdpd/F3cQghtKmj/2PDe9/73rSM6Xr+seFKkzFxzlx1Ji4zZolOYeJOeSeuz7BJC0MTlJqFkjHLjlMqWzYjmSnaKHvIO3E9hmjRlxCTpYZNnJUpnZ/1PqftJNqIxZ7iThxCCG1qJxM35iNG+h6fel3rR4xcarJ34iZk4vb7mzjT/iYuMxBls1AyZtlxSmXL7Y/qy9IkeVPVN76SRpm4AcOU9Te7E7fZv/XYpO0kGtOn8eJv4hBCKNNOJk7q+7DfvsenXmoja7ukbAD76tpN3PIfDLyJOq2JK/+93UoH+u/AfjOyg4kzk5S2ef0mrhvvlo9OMw2ZOIvDVrFLHp8uyiR/E+eOnY07VfL3dTuru/6SD5lGCKEz184mruqv3Xr9Xvshfcjvhl5rv/g0KX8wLQ3TpWm7UjBalxo0ccX/LHVtjTZxl4rtJcc+zN8kLczS1Z0pbwaGTVxaX2YhGqe1MkutzMoIE5fcQVvoypSMMXGb/V2qz5AlGjRxUtrnq/4t+ru+P4v1Rrlw3NEm7lLxXGQmeYwO8zgfIYTmp51NnMQX4G+rEXe9pio+q2tLbd7pWmiMWT28tjFfkxLXHUIIFbWXiZN2MXK7GDgpG0BdqtjESaXvTkWJCiaue8y4+12pXVWnieO7UxFCqE97mzhJj0X7/kbOpDLbPkL1ygZQlyo3cZfqHm3xX4LjlD7iPNDfiW2pGk0c1xpCCPXrICbOJIOmjwzxnyOn37VtH/NmygaAEEIIIXSOOqiJO7ayASCEEEIInaMwcSfW937wo/Y733unffv/I4QQQvOW1jute9l6iPYXJu6E0oWcXeQIIYTQnIWRO44wcScUd+AQQgido7T+Zesi2k+YuBMqu7ARQgihc1C2LqL9hIk7obKLGh1Xb/zh+9rmw3+V7kNoDvqLDzftu//wn9J9CB1O/9T+wfua9re+kO0z/VX7W8372j/4RrYPE3cMYeJOqOyiPpi+8JG2aT7S/kW2ryhNuOay3lKTNztb9reLSTmh1CYt1hp3fxK9fnXGeXWeBuL/jT9q370qe6n3/VH7RlZuairNNxvPicaxiPW2836qsvk9l/HUre7aitfxiJzad01m6yLaT2dr4p5++oPtjRs3Vvrgp5+m5Q6peEEfVDuZuCt1BqGiO1aD/V0upsc1PItF51SmqhYTt1J3DvoS/iJ+Vd5FOqaJGzuX0wV1cbdks/7SIG07x/fMK9sJEzclpSbOtg+coy5XJXWzdRHtp/M0cX/70Uvj9tH2a/b6rU+2H7w0ch898lch+Yv54MLEramURA6r05q46jRk4k5qEA6sY/Z9VNtLs5bNATOSbt/O86Hmc4T2UsnEjXrzVXgTna2LaD/xOLXT0/aTL91ob/zvryX7Did/MR9cmLgrFRLI4YWJ6xUmbjeNabsrU47t4m7J8tocKNurms8R2ktlE7f73bhsXUT7CRPX6UQmTgnx8qL+i2WCjb9fXez2SORKm+967NGDV5xUsUx50u1r4rr67lhXxmY5lo1kkL2bi/0tLzy9/e1ZeBbJZ7PdRf9HLlZ2pyOTH6czMT4+8VzagrtSGNf6/iQmNt7Qr+OZy81rLz1WauI2r22vbfq8WmS68Vsb68dblVnrc+n8X2mzH5tjXr9ewv7iXCrHbuM6cEqvmY055RXivOXcHtuXXeO7Pp7Q12Rcq+P0nOthLY6jY6/1Jxyv26d4rc2nkBs2ckDelzju/rm9eZ6ljTaS+AyXidddkus2xnSp5FhXZQfin+ThbF1E+wkTJ53qcaolIJ8gNEnWJsQyofnJvix7NcEXE3Jtwm9MmM0yi4SRTN5LrRJXsm9IXV0/2Zf9XS2EXd/ChN/or8a93rdFYtq+v1cLy+a+NHbLbdsYiIUG6tk59seLsbh8vdaXjXPttHadOHVtrseq71zvJRvTmGul1F/TxjWwna4WwKs24rV4VeaqH7HM4PU7ar5dqXhtjo3diLj0Xf8r2fH2uQ4G+jImviqzNkeW12s2b7r2krm7Ok7feRuUM4ur2G2e267dbkw27pCTN64P65+/1u1YQ7Hz+zf7UoqH13CZQrv+2KUxFdsdyH1S1+b6/M/WRbSfMHE//Vr7Uf1zw0ufbJ+m+w+nRfJaXtT+Ave/+zJuQvgJlU6ukGzzCVieeKMWhUzJRJXW21sktI1EOXS8ngWkr363ryepbcRGx+kpX9ZAIlsmxrXFfzD5bcZqpUKs02umJ3aDevJm+5X/83/br3zjSfsk7BuK7ZpK/TXt08dLdecx1g/HXJTpic2I63fMfPMqXZujYzcYl2AqSurauSzXdw6GNNCXwfimKs+BNNa2PbRZKltWHrfYTneeeo6Vn8cwb7sY9MU9j0Hsy2Lc/edvqExsc6H142fXbF7PtKif5inTMv/5MWbrItpPZ27iTmfgpLWJ7RcP/3shAS4m6mJ7ukiEeovySkabypJn2uYYLSdqdhzfnu9/aeHM+7wZC6mvv/3JR/IJrMc0Daq8GHVKktimFm3EcU/axI29Tkr9Ne3Tx0utXVOmEPO0jNeyfIx/p+U4x8w3r1KMRsduRFyG21peVx/+o4Vx6Z0PPRroy2B8pUKMs3lRmrvZcUply+oxca7tLrY97eaxD20PnsN83ncKx170z/bn86mvzPq+dfXlwP74DuQ+KZn/2bqI9tMZm7jTGjhpMbGXF7W/wP3vhcnvJ1Q6uUK9/gm4qdELTFQyUXNdTfpy/0M7PYmwt7899Uyr+l3/+8uWNZDIurb7El22qPSYylKst4zdPtrqOhm6NvbsY3cdxfrhmGkZr6E+XmrMfPMqxWh07EbEZWh+d8eyNpbX4U5vVAb6Mhjf5RxZP3Z53pTGlR1nKAab6jFxrp0udkOx3TiPYd4OnsMRJijRIg4jrtc4BwbilI2pt96IeZPFIFsX0X46UxN3egMnLS7q5YXvJ8HahFhM7rUJtUzCqwnv21m9vqzjJ8yWiXv0ArOhZWIckUy7pLC8M7CRvOKYLA6FRNjb3xivTMuYv7tkmEYpXxRWGuzHZv1FAi70adnnqxgttRE725bEzq6Vnc71pZb1R8Ws1F9TqY9OFo/s+lrs8/VL8ew7xojrN8bXYrjttTk2dmOu39injX3r9bs+9Z2Lkgb6MhzfTRO36EveZtfeqHNdLltWMl+T8XX9G7we1uts9m+Zv3raWcShL3aJhuaUFMssx9h33cX+L16X+z8m9tk8yNZFtJ/O0sTFD/r1OuY/N6wlXj/RNiamGZgrxYS3mmSSJlPXRkgIy8nr21lLGstktKktE4slx9DORpK2/qSTP7ZxGY8vhDFt0d/BRHypnZJoVIyxP+ZyX7ZYrRTHdJn01K+rhJvHVlqV8dfVWrvJ2Fb9DeW3UXJdXY1xRH9NpT469S0ma3OgcIxFmaFzPHz9Ds63sddmb+yuFMe2uQAv+xzNorW/YSL73xT1qa8vY+K7Wf+vur6vxp3EZKGrazQ7TrdtYI6vKzvPm/NgTO7YPN9ZDJLjhfOyyEHr8vHN9sfrZUyZPMbrfV5rR/3UGNM4LMa1eU16La632I9sXUT7iX9sOKH8xYyOrGXSyhZIU5e0Nha7+WuRrLdfzKemMQZi1uqMxB5m/OxUML5oK42Zd12OSQxgti6i/YSJO6H8xYxOoJ5F7mwNQPFOTX06exN3KWKwjTBxe2vEG4e+azJbF9F+wsSdUN/53uZFPV1tPtLd0FaPMq5HXUJxSfvqkUGeZBYJyI0xUd/dvenq6tFO/2OQeoSBWUjX9Dbn9GoOlFTb3b2xuQoTt58W8evPfzoX+fWj9S9bF9F+wsSdUN/7wY82LmyEEEJo7tL6l62LaD9h4k4sXch13ZFDCCGEdpPWOwzc8YSJQwghhBCqUJg4hBBCCKEKhYlDCCGEEKpQmDiEEEIIoQqFiUMIIYQQqlCYOIQQQgihCoWJQwghhBCqUJg4hBBCCKEKhYlDCCGEEKpQmDiEEEIIoQq1ZuIAAAAAoA4wcQAAAAAVgokDAAAAqBBMHAAAAECFYOIAAAAAKgQTBwAAAFAhmDgAAACACsHEAQAAAFQIJg4AAACgQjBxAAAAABWCiQMAAACoEEzcCJ49e9a++OKL7SuvvNI+f/58uXU8Dx48aG/cuNE+evRouQUAAABgPw5i4r72ta+1v//7v98rlTkmd+7c6czSMcDEHRbFULEkHgAAALtzEBMnk/bLv/zLvVKZY3JMEweHBRMHAACwPwc1cSWOaeLsLleUTJ3whkHbtO+FF15oHz9+3O0X2ufrenPh27c2Dd2hs7bVpsr4u3V2B0/b4zGF2pasX5I/tq9vytrJUDvqy8XFxapvvv8WF2vX7xsal/B9jn3SPhublbFx+XpeKgsAAADjaU5h4rT/uh6nerNi+1VWEjIs9+/f734XMhsyTtruUV2rY5jJsvL22hsxoe23bt1KTZzvl356s+T7qboyS7HtEiqntq1vqn/z5s1VH3zbFiPrRxxX3B/7qddWVqhdHdvaj+WtvbFjAQAAgE2aU5g445133unKfvOb31xuORwyDGYyPGYYzFAImQdvKjx9hsu3IbKyWT/Gtqn9KqfykjeENo5sjBmq5++QeeOktvW7fho+Jll/ra+xX8K3LVTO2hJ+XCKWBwAAgO1pTmnixGc/+9n2Xe9618GNXGaexBjDoLq6c2SKjwdFNFwiMztZP7JyIrbpzY712/Zrn7+TNoQ3ZRG1YY9Jvax81l/1Vfu/853vbOyLMc5i4BlzTgAAAKCf5hQmLv736nvf+972V3/1Vw9q5ErGYcgwqI5/FDjWcImsbNaPsW1qv8pZX7TPm6xsfCWGTJw/TiTrr/VV++KduLgti4EHEwcAALA/zXWYuPe85z0Hvxsn05CZljEmzteTAZnCnTj/+y70mTiLSRyPEfurn/7v8VTPt53FMMYgojKl4wMAAMAwzVwep5oxsbtWZhBse8nEybDoLpLVu3v37srAxDZN1nZmzryB0TFjXW8Q+0yc0L5Yf8gcGX0mTmRjs7ZjTKQYP983fydT+BiUiMcYOy4AAABY0MzlHxvmRjR0Qtu2+bu4XdExozkFAACAaXESE6f9x/6IkbmhO1/xDpfuVsVtxwATBwAAMH1OYuK0T2VgO+Lj1FMYOIGJAwAAmD4HNXF9wsQBAAAAHI6DmLj436eZeJwKAAAAcDgOYuIAAAAA4LRg4gAAAAAqBBMHAAAAUCGYODg7Hjx40P23b+kDoPvQf+7qv4T7PkgZxmGx1LnIviVFr+07fo/1n9nxQ6/9h28DAEwdTBycHZi4aTH0kTbaHj/4+lDoWiidS871+TD0DTcAUwUTBwDXynWauNJXxNmHbetr+Fjc5w8mDmoFEwcnRQuxkqWSpj0q88nTFuw333xz9agtJle7kyZlj9n8fsnuuNmdFW3LHt+JUl3h92WP3dSejSmWUV3Jf4Czb/u6UFztfFjfYmy0z/qcxc3HVfLny9rP9hmqfx0mzvqm8+LRcRQL7de+rM9D+JhJ2TFKMevbZ7HYZ34cC/VBfcmOrZ/xHCvGFhe7/nzffcz0u1SaP2q3NPf6YhbrmU4ZN4B9aDBxcEpsgbIkaYnfErYlVTMLVt4Stn76BKt6fhHT66EErH2ZabBk31dX2GLiif201zYu/dTi4F/Hxfc68Auv9U1js/EpJv77emP84zgjDx8+XNWN59pQG9n5MMael7FYn/2iLWUGdZfzNDSevpjFGNlrfz72mR/HRMeK88LIYqKyNk71W+egdN2pnPb78jbOGAN7bWWHYib0+6niBHBIGkwcnJIsmSvZxkXKJ1if7PW73+fby5JzRtYHkR07w/fX0La4CPiFIdbRsdQH9eU6iSZBxH5b7IWVtxhl4+4jxkGUzodxrFjZWPz4ItuOT9h1WGq3r03FVXX9WP34s2tU8bRj6Xe/byi2h0R9iH03sn74fvtrTti58deZv258e1k8fXtDMRPx+AC10GDi4JRkydwnYW23BStiid3fPZHsHbbk372XyPpgKJlbu6WkHhcUkW3zC0Pc3zfOU2Ix9QucR332sTZZee2P4/ZonDo/vm4s33c+xLFiZWPXuSnhr02Pv06kWMaPOxqbvpj5a8bw4++LhY3H90uy+XEKNC47ro9rdo5V1srEcdtYbL9++pipPXvDFvcJ315fzIws7gA10GDi4JRkydwn4TGLlBJuRtZ2xthy6lOW2LNFQ9tiWb8t1hmzsJyCoZiqz+p7iSwWhsYW70hl5YfOx7FiZWMfGl92DWyD2vBGLouBofMQTZ/f1heLoXN5StQ/f+71Op5jf22pzz7OcSwxZr497YvnyG8bc/3E4wPUQoOJg1MSk7l++kcdQwlXyTkuch4l+qFkHPtQIlschLbHRTiOQ8dQP0uL0NA4T4XGpjFaPyPa3ncnJ47bE2NgZWPshs7HsWJlY9e5KVG6BrZB4/fX7JiYWZ9iH4dioXJ98+NUxH7buGzM2u7v1mm7j3Mch17768bP8xjPeKwx14/KjLmLDzA1GkwcnBJLsPbIRfKL2ZiEawuAKS6ySvB+v7Wvn3675A1KbNcvIrYo+f1SNGZqz/apPSMuQmPGeQpsXP4cRGLcfFxEHHdcjH09fWSHxWHb8yHFY++Djd2fJ1E6135cfcRx+TEZfTHT+Pwc2fa6iXEb2+99yGLm+y18XLRPstgPXWNDY4rx9Od0TMyEP8YhrzOAY9Jg4uCUKDEqocZFDQDOF5m4PrMpgxVNIQBg4uDEYOIAIIKJA9gNTBycFEwcAEQwcQC7gYkDAAAAqBBMHAAAAECFYOIAAAAAKgQTBwAAAFAhmDgAAACACsHEAQAAAFQIJg4AAACgQjBxAAAAABWCiQMAAACoEEwcAAAAQIVg4gAAAAAqBBMHAAAAUCGYOAAAAIAKwcQBAAAAVAgmDgAAAKBCMHEAAAAAFYKJAwAAAKgQTBwAAABAhWDiAAAAACoEEwcAAABQIZg4AAAAgArBxAEAAABUCCYOUp49e9a++OKL7Y0bNzo9ePBguWfeaJw2Zo1fcRjL48eP2xdeeGFV/9GjR8s9C+7cubPa98orr7TPnz9f7qkfjU1jVwy2QTGymGT19zkfU+fcYjbU76H9QnNGc8fv9/W8FF/h552X6olY3+oB1AAmDjawRGnGTclSSdOS3lzR+Pyip2Q+1myZ6bUYKWY3b95cLTSKpW9Lbc9hsbBx37t3b228Y8hi5OO/z/mYMucYM/VH/bB+xX4PjcuweXTr1q1i3GL+isRjeYbqAkyNBhMHkbgQiLmYjhJZ8u5L9hFbXPxiqXhpu+KoeJrBE2pTC1FcpGrj7t273Vi2iZURrykfp33Px5QhZpv96huXYXW0rc/EaXvf3FJ8/LEi2udjCDBlGkwcRGKS02s9ZogmZU4o4fuFwRYR/9ilj2xhsG2xbZFtqxmNYxuzYIbDYmuvFW/Fbd/zUQPnHDM/9qFx+W3ZOCN9Jmyo7tB+gKnRYOIgogSoRKikqkSq5HlxcdElNyW5OWLJW+O0BUTj71sQPH5Rstd6BG3GTj/td6HfS3/3UyNx/EP4hVuxsAXbrr19z0cNnGvMbBzql39dGpfQPpVR2T6jpW19ecq36dF2HVfK9gNMlQYTBxFLaJY0hU+ic0RJP9618IvLGPxCoHr6mydtE7596eHDh12Z0mJTG7saEsXCYiS0gOr1Ic7H1DnXmKm/6pP6JsaMy5u2+NqjOlKGxWcoFjqm7x/AlGkwcRBRklOyU9IzlNhKyXEO2ELiF5G+xWIMildpwVCbt2/fns1CofFsY0hEXHDtHChmxzgfU+McY6a+x9wi+sYlyeBl8nWG4qm4qE213YfqK2axjwBTpMHEQUTJS4nWEqS9LhmSuaAk7x9xZklf+1RmaDGIi5JnaLGpkb4xlWJmi7NdV/rpF/gx56Nmzi1mmg+ZgRND4/JoW2ZM++ac6ozNYX3tAEyNBhMHGZb07B3vmOQ3B7To2Zizxa+0uMZ4qR2Pb7e0ONWIH5fJmwhRipmwxVvK4jJ0PmrkHGNm47F+mbxZGhqXoe3RxKlujKFHxynFIp4PDBzURIOJAwAAAKgPTBwAAABAhWDiAAAAACoEEwcAAABQIZg4AAAAgArBxAEAAABUCCYOAAAAoEIwcQAAAAAVgokDAAAAqBBMHBSxT1k/p08wf+A+vX3bb1aIn0ofv+VCcbR9c/n2AbFPzPrq+k/wl+Z0HR4rZoa/1mqKm40tzh3RN38UA8XC9qsdj49Z3D/n6wzmT4OJgwwlOSVKfUn7uSQ1JXO/KGrcY82WLSK2+MjQ+e/FtHhaW2p7DnHdJ2axboyRR9u0zy++tXLMmFmcaru2rN93795dm0dG3/yxunZt2Jspa0M/fd04Nz2xLYCp02DiIKLkpmQqfLKcM1ny7kv2kbjICMVN26PBE2pT3/9oi3GN7BOzrK5ikX2xuWHxrJljx0zXWI3zVWNS37O5MjR/tN0bW+Hzltr2MYkxi8zhOoPzocHEQR8+Gc6ZmNht4dDjFb94lIgLhbBt2aIxtJDUwD4xM0Piy2XbjDnESxw7Zrre7G6WPR4candKWDx8n7Nz77fFuafXGrfioviojO7MabtQWdsXyY4FMGUaTBz0oYTnE+RcseR9cXHRJXhb/DR2S/59KOn7uym2cFjsYhz1u/bXvFjsGzOV8YupXkfTYdskH79aOWbMzNDJBOk4Qttrus7U72jihOLjz79+t3EpBnqtOoqFYqD4Ks4WB4tN6Tqa23UG50ODiYM+lNDOIanZ4mELorDEHxeUEn4hUL179+5124RvX3r48GFXxhaZGtk3Zn5hlRQv/Q1myXAoliqverVyzJhl7WzT9hSw+MT+9s0fm3d6bdeG6ttrxUaGT9ssHmpLdTPmcJ3B+dBg4qCPczFxltzNdAkl+X0erShupcVTbWrxrXmhOHTMVFftlRZXtenvrtTIsWOma863bcer3cRF/PxR2WjKFAPLWzGHZefAM4frDM6HBhMHfcQEOGeU1P2jJ71WslfSN7RPZeL2SF/c1MbYf5iYOoeK2ZjFey7X4jFjFg1NZnCmzJjrQLHx88fq2LUR29B2H0eLbekYc7nO4DxoMHEQsSRojy5M55DYtKDaeLMFtLS4xpipHY9vV+VUfi7sGjMtolbPmxrDtyvN6fo7VsxEjdeaH5eXGa2hMcX55w2a4qc42r64f87XGcyfBhMHAAAAUB+YOAAAAIAKwcQBAAAAVAgmDgAAAKBCMHEAAAAAFYKJAwAAAKgQTBwAAABAhWDiAAAAACoEEwcAAABQIZg4AAAAgArBxAEAAABUCCYOAAAAoEIwcQAAAAAVgokDAAAAqBBMHAAAAECFYOIAAAAAKgQTBwAAAFAhmDgAAACACsHEAQAAAFQIJg4AAACgQjBxAAAAABWCiQMAAACoEEwcAAAAQIVg4gAAAAAqBBMHAAAAUCGYOACAE/PgwYP2xo0bnV588cX22bNnyz3DDNW9c+fOav8rr7zSPn/+fLnnenn06NGqXy+88EL7+PHj5Z4Fff32dSWV9agttZnVV3wUJ18/i4s/fmwfYKpg4gAATogMiTdfMgxjzVasK0Pn68bXansKhkT9Vb98v/04NC7rp/qusqV+2361IdTGrVu3VqYw2++PHRk6HsCUaTBx+6HE4N/lxURgCcL2+8QlYn2VVR2rp+RmKClZ+0pYSlxvvvnmqr7VNVTe2s3e+cZ3t5b09DNrK24DgO2weW1zTWhe3rx5c2N+RrK6yh9mYCyX+JxhecLnnCkwNOahfKM8aHHIxuj3a7vaKsXAG0iA2mgwcftx//79VXLQT59ELemWEoSV90nZsLp9Jk7GzMxZPLa2PXz4sPtdqK5PiiqXGTuhbT7BZosHAGyP5qm/a2TzVm+i/FzPyHKC3xbbFtm2KRBzTCTmK08ck8XAysfcpvLap58Zyql3795dnYcx5wJgKjSYuMPi3wEqESgxlJJHX6LyydlQ+Wji/H5/7IjK27tVa7tUVvi2fF0A2B3NIc2li4uLbg6aYeibux6V8TlDr73pUDuWI4R+L71Zuy4s//h+erLcJmysUlbX9secq9+9QfPxsL74Ojru1GIGUKLBxO2HJrwlB5OSidBPn3AjMeF6LLn4RKb2rPyQsbL6vl+WqCypxSTp0T7ru45rYwKA3fGGwuZfNtdLxHl979699vbt2yvD4duXdDde5Ut54jpQDrPcErH+D+Ubn1stJpYbtc/HN6LtZtKy2GfbAKZKg4nbHSWB+I5RicQSkLaXkpVQuWOZuJgoffkxSUrl7I6BXyQAYHds7lmOEDbXdpljqqv2SnlAbWr+lnLQqVFesjeTEW3TvlJO9Ph8pjwW21R8ff7zqJyPt47nz8eY/AgwFRpM3O4oCfi/69Ck1ztASwiWlHyC8Khe9thAxGRvbW9j4qysteUTndotJVNDZTQ+/b0IABwGzSv/uE6vo+Gw3FAyIsLyS8lsqI2+vzs7NcpHpZxjY7GcNYTPbxq/j6flu1Jb2u7jqvq+X/E1wJRpMHH7oYRgjy6UGPSuV0nZsORkZWJysGTt27Dk4vdpux6dWGLSvj4TF9tV3Vhe/bT9ku+3sDZKiwQA7Iafe37OGzb34j7NRaun/Srn8e1OyYjEfGSyfBZzkclyT9wfDVrffh+zuM+YatwAhmgwcVBCibfPKAIAAMD1gYmDFHskoXeoAAAAMD0wcbCGmbfSYwcAAACYBpg4AAAAgArBxAEAAABUCCYOAAAAoEIwcQAAAAAVgokDAAAAqBBMHAAAAECFYOIAHA/2+OT2+Kn08Zsu9JEtti/7lP5a2Sdmpbr+o268sm8pqJFjxMzw15k0lW9cGfq2ib75MfStC3Hu+fqKj+Lk62fzzx8/tg8wVRpMHMACLRR+UVQiH2u2bKGwBVOLiv/eSi28vi21PYeFYp+YxboxRpFYvlaOGTO99tfVVGKm46ufvt++X+qn9VtjUdnS/LD9akOoDf+F9tl+f+zI0PEApkyDiSujxKLvQtUE17u8hw8fdj/12pKmEoOSUekdnCUI2x8Tl/ZdXFys3kX6+rFtf9wxKIlZXf/ON0vscVt8ZyvFOnMiJn4RjVgfqhfPj86lttt5VIwNtVn7V5rtE7OsrmLhF+OIxbNmjh2zGCNtn+J1NjRmjSHOJ48fZzZGv1/b1VYpBpqXKg9QIw0mrowmt8yLTXItxG+++eZa0rx///4qOeinX6wt6ZYShLVv5sgntpiwh9qKqA2ZTsMnxdhPof3Wdjy2ynkTOEcUE39eLUZ2/ofw8TNsW2xbZNtqY5+Y2TXmy2XbDB1Dx9IxaubYMdNPa8v2jc0Zp0Tj39XExRjaOK28xu7zlcprX+naUXzu3r27Og9j5zzAFGgwcWU0kS0xaKIrscQEErFyQvWVGErJIyYbS0bantVVuV0XsljXDIbQcXXH0fqhnz7Bqo76oj7NFY1R8dFdUZ0DS+T+fPYRY6afOrcWY/2034V+r90Y7xszlbH5Za9LC+jYNqfOKWJm81Xbpxgzy3N+Pnhs7sTrwMYqZXVtf8ybPh5SlnN9HR239rkJ50ODiSujyWwJ05KsJWGb4CpjycFkiVM/fcKN+PYj2T4d0xuxPiw5+X75ROXb0u8ycXYsbVNZG4f6EhPj3LAxK04ar7AY2ushFC+Lterdu3dvFUPfvqS7pCpTc0z3jVm8RhUv/2bC0Ou+uzY1ceyYqQ0zIHYslVe9qaBcWuqT9dnmTQmfWy0mZuxsHpbi6WNkdX3ZbBvAVGkwcWU0iS1RZCZOiu8YrZzw9TP69mufkpmOZ2TbSsREqb56A+gTlfprfRa2zxaKvoQ4F2zMPg7+XO+CzkEpbmrTG+caOXTMVFftxetbcZTmwDFjVmpbOWMq81fnsZTDrK9jzrXPZ1leVAwUi2x+qZyPt47nY2ZxnHvOg3nQYOLKaBJbIrCJ7hOA5O8QqLwMjyUES0o+QXh8+5FYN0vQfai/lgytbpbo9E5e5fz2vn7NGcXDP0bR6xgH7VOZofj4+EfidVMzh4qZXe9x4ZxTrIxjxUzlVN5fd9rnj3WdqF8xBxk2ltKcifj5FceYxcGj7T6uqu/7FV8DTJkGE1dGk9kmuya+kq0mdnwXZ3erVFZ3V1TOsORkZWKy8MkkEuuWklKGLQJWV2bN3rka1n5s15Kg1TWpv3NH587Gm52b0uIaz5W/BoRv118Dc2DXmOl6snqZ0bDrcJvrvhaOFbN4HWZlrgMbj/XLZOfWx8PLck7cH6+Jvv0+ZnGf4evPbX7CvGkwcRBR0ssWD5IbAADAdMDEwQZ6VxpNnN69ZncMAAAA4HrAxMEGMmoybP4RBAYOAABgWmDiAAAAACoEEwcAAABQIZg4AAAAgArBxAEAAABUCCZuyYPl5wTZ5xKNQR+34T8z7tjoP0TVTwAAAABM3JJjmTjtix+yuyuYuONj14G07efixQ80jdeSzp/tm9N/++4Ts6G6xGyTWmOm+WD9yj6EuK/fvq6ksp4493x9xUdx8vWzuPjjx/YBpkqDidsdJQdM3HzQQuEXRcV77CJoC4UZN513/3VROm++LbU9h4Vin5jFujFGxGyTWmOm/qpfvt9+HBqX9VN9V9lSv22/2hBqw+fhbL8/dmToeABTpqndxGni2WQ1bFIqMQhNXiUMe5fly/t92bvDWNeX0z4lj4cPH67eBeq4On5Wz9c11Bfb55OasHH4+nGsffi2/XHjQiDiNpW1MZlinTkRE79QDMZ+b6fq2bk37Nq0a8GuR6E2D2Xur4t9YpbVVSxsMSZmm8wpZkNj1hjjfPL4vJ+N0e/XdrVVioHihYGDWmlqN3GaqHECWrLT5IyJL0t0QtstGXrUtrWvfTI2VtfakvR71naWYAyVs7pCffSJyx9b6HcbxxA6rsyl4dvO+unjGGOmctF8zg3FxJ9/i5HMq49TCR8/w7bFtkW2rTb2iZmfo4bfRsw2mVPM1J9dTVwck8XAyisWPl+pvPbpZ4bm6N27d1fnYeycB5gCTe0mTpPNFk/91OT3k1zSl9L7ZJAtuFmy0zZvdixZqL7I6lgfDO1TmSyBqKxPFrHfsV5sextiez4GGpdiZOPQT59gVcfHYY5Y7C8uLrpzbIl8bMxjzPRTC4nFWD/td6HfazfG+8ZMZWzhtdd+ASVmm8whZpZHfT89NndsTIaNVcrq2n7lKstzwvKX1fXxsL74Ojpu7dcZnA9N7SZOE00G5O233+4m9v3797vJqImpn5qQNnm9YhJQWSVXP3FjstG+aG5iHZVVMjG0T2UsQRjWduyXJY+sXmy7j6x9n6h8+/rdG11tU1k7lmIYE+PcsDErTrZ4WAzjYlLCFhFJ9e7du7eKoW9f0l1Slak5pvvGLF6jipd/M0HMNplDzJTH1CeNJWL9H8pz2m9tWEwsT9s8LMVT2y3PZrHPtgFMlaZ2E6dJrwmnZKXJKxOnyWemRL/bZO9D7URDJpQYLCFKPrlkdbY1caVEkdXbxsTFRBnb88dXm75d2+fHPfeEZmMeOr/boHPQd369ca6RQ8dMddWev+Y9xGyT2mKmOSGTlvVX27RPZYbQuCyfaY7FNhVfxSUbt8r5eMe8audo7jkP5kEzFxOnd6SalJqMmpSWCCwx+EmaESe28IkiI6sTE4IdP0sIKjeU0KyeykYT2YePgSWlLNEpbirnt+uYpQQ4ZxQP/xhFr2MctE9lhuLj4x9RG31/D1QTh4pZ3zwRxGyT2mKm+TCU70pzJuLnl8bv46l4KW6ltrTdx1X1fb/ia4Ap09Ru4mzC2qS05KfEaFiCyO4s6affLvmEoAkf91vbanfIxAl/DN+2UFnfdkwutt3ajW2XsDhYfZm1aEgtLjHZWUytrsliNmf8+fDnwrC4xn3xGovnybc7twVi15j1zQtBzOYTMxuP9c1kucf328tyTtwfc1bffh+zuM+YatwAhmhqN3HHRIknGh9tm8sdgRJKetniQXIDAACYDpi4HjLjondsczczGmM0cXr3mt0xAAAAgOsBEzeAzIu/FX8Od6Nk1GTY/LgxcAAAANMCEwcAAABQIZg4AAAAgArBxAEAAABUCCYOAAAAoEIwcQAAAAAVgokDAAAAqBBMHAAAAECFYOIAAAAAKgQTBwAAAFAhmDgAAACACsHEAQAAAFQIJg4AAACgQjBxAAAAABWCiQMAAACoEEwcAAAAQIVg4gAAAAAqBBMHAAAAUCGYOAAAAIAKwcQBAAAAVAgmDgAAAKBCMHEAAAAAFYKJAwAAAKgQTBwAAABAhVRv4h49etTeuHFjQy+++GL77Nmz1f4HDx4sa7Td73fu3Fm+6ufx48ftCy+8sGpX7Xl0DB3L9vvjeHS8rL6wfZLv19Cx/dhVTuUBAADgPJjNnbjnz5+3r7zyyoaJktG5efNme/v27a6MGGviVF71zBypLW+W4jHNdGVm69atW538Pquf9WXo2Pqpcdlr9cGMKwAAAMyfszBx2i5DZAYqM3HaNnQ3y+66WTv6GY2T2vVtW50vfelLXT+srtDvY8ykiMcuHce3DwAAAPPlbEzcxcVFe/fu3W7boUxcbEev9WhTx1N/hJkt6583WdquPqnN0iNTwx87tmWvVT+OHwAAAOZJcy4mTibIHk9G8zUW1VFbZtCsHR3DzJvMoh6b6ng6lv1eMl4yZtovtK9kJP2xfVvabuZt13EBAABAfTTnYuK0X7/vanZUxxsuoW1m3tS+sOMprma0hDde2WuRbRPx2FYu3nnTmPxrAAAAmC/NOZk4mSD9rkeY25g4tZndIVPbmbFT2yqrOjJaUdafaLoyE1c6tur6MWR1AQAAYL4052TihPa//PLLGyauZJZK24XMm0yctWWvMyOVmSz97k1gfN13bJWVIbT2Yl0AAACYN825mTi7QzbGxJkpK91Jy8qYqYpkJk7ouFbXm7Axx1Zbth0DBwAAcF7MxsQBAAAAnBOYOAAAAIAKwcQBAAAAVAgmDgAAAKBCMHEAAAAAFYKJAwAAAKgQTBwAAABAhWDiAAAAACpkFibugfvAXJO2Cftw32zfWOyDd/0H7Rr60GDftv/A4HjsrD4AAADALszGxMVvYDBkpG7evLkyVmbIxho5+zorfd9qycSVvqUhorKlfgIAAABsw9mZOKHy0ZBpW/a1W2pX5bI6YhsT19dPAAAAgG1oMHELtC2aOE9WR4w1caqn+mMNHwAAAEAfszFx/u/SJDNL0cTpp8zatmaqz8T546qcR8exfVl9AAAAgF2YjYnruxPn/7lA2uVuWMnEeYb+3k7H1X6VAwAAANiHszBx8XHqLowxcUL9KJk4mbdbt27t3RcAAAAATNwStbHL38R5dKdt3zYAAAAAxoCJW5KZOJktmS7/KFYyI2aPT217fFTq/x7O1wMAAADYl1mYOAAAAIBzAxMHAAAAUCGYOAAAAIAKwcQBAAAAVAgmDgAAAKBCMHEAAAAAFYKJAwAAAKgQTBwAAABAhWDiAAAAACpkFibuwYMHa9+MIGmbsG9NsNdCv5e+4SHDvpkhfuNC/EaH0lduWf/iF++rbPxy/m36BQAAAOdLMxcTVzI/Mk762q3bt2+vDNg2Jk71ZeDu3r07+LVZVta+estMnupqe2bifL8AAAAAxnIWJk5GSmbJTFRWXtvinTSZMZWTydL+IROnurdu3VqZONXRMe1OHiYOAAAADkVzLibu4uKiuyMmsvLaVnocKrR/yMSV+oGJAwAAgEPTzPVv4swwmYmTkZJhknEqma0+SibODJqOWTKBfSbO/02cyqgsAAAAwBCzMXFDd+JkvvS7yh7SxHlKZq20PaJjYOQAAABgDM05mTiZI/2ux6rHMHFC7aqsZ6yJ0505/zd1AAAAACXOysQJlX355Zc3ymv7vn8Tp7r6T9jYxhgTp3bV/rbmEgAAAM6TszNx9ndoY0ycGSv7mzWTtWfmzLbH+jq2r2cyM6dj+u16DQAAADCGWZg4AAAAgHMDEwcAAABQIZg4AAAAgArBxAEAAABUCCYOAAAAoEIwcQAAAAAVgokDAAAAqBBMHAAAAECFVG/iSh+oa99Bah/u6/c92PJDde1DfeM3NpSObR8krJ/ZfvuwX8OX8x9CHD9M2MYEAAAAMJs7cfbtCtGgycT5r8IyYzTWyMlwqby+bzWauEipD0bsi5WP3x4hbJ83fCqXlQUAAIDz4+xMnFCZaMi0LX5tlgyfTJPKZXUiqtv3BfZqw5swGbSSKVMbaiv2GxMHAAAAosHELdC2aOI8WZ2IDFY8vpGZMpXXHT7/yDTeebNHqKqn/sVHsQAAAHCeNOdm4nY1Q0MmTu1ucxfO+uv/zk19ikZS22Tu+gwmAAAAnB9nYeJkgOxOV7zbNZYhEyeD5k2aRyZNZs0f1/rbt03t2THNzMXxAQAAwHlyFiYuPk7dhT4TN3SMUl2ZNN9fb+KyNrXd37kDAACA8wUTt0T1+h5ZloyY2PYunBFNmX+tfsTHvv7OHAAAAJw3mLglmYmzNv2jWMkbKZmsPvM3ZLx0XGs33mVT26XjAgAAwHkzGxMHAAAAcE5g4gAAAAAqBBMHAAAAUCGYOAAAAIAKwcQBAAAAVAgmDgAAAKBCVibujTfeWG4CAAAAgKmDiQMAAACokM7Efetb38LEAQAAAFTEysR9/etfX24CAAAAgKnTmbgnT55g4gAAAAAqotF3dT59+rS9uLhYbgIAAACAqdN8//vfb7/97W+3f//3f7/cBAAAAABTp3nnnXfaf/3Xf23/8R//cbkJAAAAAKZO88Mf/rD97ne/2/7zP/9z94G/f/3Xf93++Z//efuZz3ym/cQnPtHev3+//eM//uM1ffzjH0cIIYQQQtemj7f/A/9JjlFQ+NVmAAAAAElFTkSuQmCC)"
      ],
      "metadata": {
        "id": "UjVdFL_8M_PC"
      }
    },
    {
      "cell_type": "code",
      "source": [
        "print(\"test report\")\n",
        "model_eval(y_test, y_pred)"
      ],
      "metadata": {
        "colab": {
          "base_uri": "https://localhost:8080/"
        },
        "id": "--LX7Ya3IyHH",
        "outputId": "a83fb1e9-9891-4593-af1c-c28d2c78fe78"
      },
      "execution_count": null,
      "outputs": [
        {
          "output_type": "stream",
          "name": "stdout",
          "text": [
            "test report\n",
            "              precision    recall  f1-score   support\n",
            "\n",
            "           0       0.92      0.99      0.95     87649\n",
            "           1       0.53      0.08      0.13      8290\n",
            "\n",
            "    accuracy                           0.91     95939\n",
            "   macro avg       0.72      0.53      0.54     95939\n",
            "weighted avg       0.89      0.91      0.88     95939\n",
            "\n",
            "TN:87081\n",
            "FP:568\n",
            "FN:7659\n",
            "TP:631\n"
          ]
        }
      ]
    },
    {
      "cell_type": "markdown",
      "source": [
        "base model testdata\\\n",
        "![baseModel_testData.PNG](data:image/png;base64,iVBORw0KGgoAAAANSUhEUgAAApAAAAFOCAYAAAAxaS2SAAAAAXNSR0IArs4c6QAAAARnQU1BAACxjwv8YQUAAAAJcEhZcwAADsMAAA7DAcdvqGQAADE6SURBVHhe7Z09jyTZlZ7nT+wPaEcmsZasNmdWbrVBV5iCuA6dBg0KEFjDNURg0QRkDcshJHUP5DUkj4WxxMFabAo7WLGWwBjdgARBQ2IAoXcgCE0zxTfZb/H06XNvxM2Pqoyo5wFeZGbcj7j3RMS5b0ZWZX6wAQAAAAAYAAMJAAAAAENgIAEAAABgiA/+8Ic/bBBCCCGEEJorDCRCCCGEEBoSBhIhhBBCCA0JA4kQQgghhIaEgUQIIYQQQkPCQCKEEEIIoSFhIBFCCCGE0JAwkAghhBBCaEgYSIQQQgghNCQMJEIIIYQQGhIGEiGEEEIIDQkDiRBCCCGEhoSBRAghhBBCQ8JAIoQQQgihIc0ykF999dXm+9///ub8/HyrX/3qV2W9SrGtHvW6qodOU0+fPt38+Mc/LsvQ8sXxRQghtItmG8gf/ehHm9///vdl+RyprfrAQO6u//PN/978u3/9L7bS86rOIfXLX/5y853vfGfzm9/85p3t/+uLLzb/6S/+YvPVs2ebb7/+enP1V3+1+W+YkJPS/3v9evN3f/3X22OjY6Rj9V/+8i833/zjP75T7+s/ln300UdbIxm3I4QQQj3dKwP58uXLzSeffLL59NNPN99++21Z55R1CAPpPn779/+1LLdkGmUeZSJzmUyIzEjPQNrAqE7cfgzJ0NooVeVr1Jz46phMGUipd6wRQgihSvfCQMosyjRKP//5zxdrIA+huQZSH2t+73vf27z+o1HJZRjIu9chDaTUO94IIYRQ1r0wkJ9//vlWev7ZZ59hICcM5NQdKZtGGbeWkcFAHldz4qsy1VHdqRhxFxIhhNCI7t3fQN6mgfy/377e/Mef/qvN3139h81//vc/2vybf/nPttI2lbmeyqT/+fK/b/7t9//5tk78mNr9tNpLMoQ2hu5DslGMfWfl/mQi9Hdx+vs4b5srm0v9jWRWNjC5bmVwfLcz9iMzpDIZpLg9asS4ehzqN/aZ76rmsdicudyG7X9cXd3Uqe76qV+XS3k/ei3F/Tk2OWZRVfzmSncedQeSv4VECCE0RxjII0qmzMZPBlHbfAdQptL1bC5tGt3ObaLUrmUgYx+uG19L3n/vDqRMxL4fZ07dIbMRiuV6Hk2Q69gwtrTvHUjvRybMZs7mzfvOryXVjSbS5jOOJdfJr71v79d1Yj+OZawzFd9dpI+x+Y9shBBCc4SBPKJaRjCbQJVno9cyij0DqTuMutMYt+1iIA/x93BTBkfbo5GSbKZs0ipzVelQBrJn0FSWxyFTefXRRzd3GFU3jyPWqUyolMev/eR+cryOZSD5O0iEEEJzhIE8onoGMho7lVemsNJtGMjbuAOp7f7oNSsaLJs7l1Vm8lAGsmfGtN84Rit+RK32eRzRNEYz6XJJZbEf7Sub66xjGUjuQCKEEJojDOQRJZPXMpDRBJ6agdznbyCtOQZyyiRl2ehlE3lbBrIyr1EtAxnvQLYMZGx3FwaSv4FECCE0IgzkEVUZSP8zSzRwt2kgqzFlHeo/cntGSCZKd91GDVBl5NyXjFjcPldzDKT61h3H3j6ygbTJ83j9Osak2vccAynNrTdHOuYffvjh9rEqRwghhKLuhYH88ssvNz/84Q/fk75UXF8uXrU5hGzW/N/OUjZ50pSBtOmM/eS+5hpIKfdX7fsQfw9nc+SPe6O5kmz8XJ7rVOUtwyQDFuuNGNPKxFWyiYyK48ljkHKfqqs2vTpzjeFUfEd0iD9bQAghdH8020DyW9jjsoHs3e07VfG9gOOSEdzHxN2VONYIIYRGNctAot20ZAMpyVDIWPCx5jwt0UDyW9gIIYR2EQbyiFq6gZRkLPjP3HlaooHk+CKEENpFGEiEEEIIITQkDCRCCCGEEBoSBhIhhBBCCA0JA4kQQgghhIaEgUQIIYQQQkPCQCKEEEIIoSFhINGqxNfSoCWL8xcdQvoO36lfluJcQ/sKA7lQKUHoC6D1RdBVeSV/afQHH3yw1aknj9Hx8sXnh5di6vhLel3Vk7RYadFy3aUcC59neW7ePnqd7SrOX7SLqvPX12IvZ7qdjGRVjtCU7o2B/Pzzz9/5HWy9ruotRUoW+yxsSixLevc5Nd7b+Dm+KlEfS0rqp/Tb1HPmruOzxN/Tbs3N2/e5zuZep63zV+dBZdwV69FxteZ5DJ3a+btmtY6rt/cM4m3kTbRe3QsD+eWXX25+8pOfbL755pvt65cvX24++eST7fZcdynSBT+6gERNGbJT09R4VXbsBes+L8BTc7/N2Bxaxxz73Ou0df7qtbbHPtTnLncqb/MYYSBvT73jquMwdf7dRu5E69S9/Aj722+/3Xz66aebzz77rCxfguYuTC1NGbJTU2+8t/Uu+j4vwFNzv83YHFrHHLv6nLpOp85fl+v891h7d5Vaus1jhIG8PfWO65zzhbuQaFdhIIvyQ0kXpJLoz372s+3HUPm5k6se9dp/OyblC96JINbRa21v1cnlUfsaSLWNY3Hy8Vzi/KQqkeXx9u6q9Marfbfmqv1V/aqvXnyinGDjfK08z1w3l0saU+wjjiPHNepYCT7vs4qzj1UeQ55LVOt4VVI/itUvfvGLm/b5uOn5hx9+uH2MY47nlPtyWVUuVXHO57C3V8fQasWuF5c8nt75a8X+5p631sj5Oyd2uc4xzl/tY+p8cJ1Xr15tx1DVkVrHKCrHKPfj89/l1TGo4jx1vVT95PFWcavi3Iqv6lZztny+V8caoZ7upYG8rY+wdUHrwtbF6+SiC/XXv/71zULoizde4K7rC9rJK17g6jsmn6qOnlcJSppKKj2pncbshcfjdQLTY07Aebxqq37i2PR6l/FqnnE8UVVcvM3jnaupdjkOUo5VjkNLvTkdSupb+5gznqm57xpTS/PVtRLHkmPn+Kqej6f2F881bY99eFzx+Od+e2NvHYe5sZtzvFv7iPL+ekZhSr15SnNiN2c+0pw59aT2U+eD68Tjn+u0jrW267WkOcVzKquKg57HsblO79jMiV0e75ycMrVvjTXWr6Q+Y0wQmqN7ZyD1d5D6e0jdgdSdyKrOoaQL2slNsmmMz2Od2DZe9FUCyMmoqtNLLLsmjDj2uD32pzFoLBpTVd5SnlNUr7229xJkjo3206vf0lSirsaY46W2c0xAdTwPLY2hOvcqTc19qnxKmm8+9jl2etR443kV99saQ4xl7jP3EdtJreOgunNip3p5XllT56/kMfaMzpR685wTO71W+W2cv2qf45aPnerkYxDjre0qz2ONdTQ+jbOVW6RqLjleft3rR3V7scvzs2JeqerksWRVscyacw4ilHWvDORtmkdJF7QTXLzw43PVqS7ueNHHBGLldqqv5FSpSixVn3OkMWtO1X5if3H8cb6xr2rMrUTXG6/66SU/9ad+FQcvGGpT1e0p9lOVa3x5PlK1yMXyqr+pOR1C2m8r3llTc58qn1I8X7zN55r7zK+zPIYYW8uxrObcG3vrOFT9VJpTb86x1rmlfn7605++dz7NVW+eLuvFznXVPpaPxG2u5pwPVZ0o1a/yjto7hhqfxqm+Yp0olcX5RsW55xhW+aoXO88vllvuS/XznL3f2FfUnGOh/qvxItTTvTGQt20eJV3QTlQxmcXnVUKQ4kVfJYDcbk6SiNo1YcSxV+VWTGqt8eeFsBULqTfeXjvL7bW/7373u926LcU5VeW9MbakvrRA5D5Hj+cumhM3a2ruU+VT0nzzWPK5psdoILLmjCH3KfXatY6D6ubxVppTb6qOyn2OaBwazy7nRm+evbKe4tji9n3P3znnQ1UnqjrWksbqdo6n+op1onaZi+PZywc5dq3xRlV1po7dVF6aEwOEKt0LA3kX5lHSBT1lIKtEo+1xoYz9+LUST0yebjM3CUwllZacbOYkVI3lBz/4wbZuTm55To5DnFNUb7w5XpVURzGXdk2UnntrHD4uvXFktZJ/jk8lz3vOsajkfc9p3xrn3HJJZfm8tXRM4vYq1nOOs+pX/Vsep88Bv24dN9Wr4uN2U7Gbe2626ng/MQ6O4+h5XMU0aip2lTy+PHa9njp/e5pzPuQ6WW4Tj5HHG2On573r1sdnNN4aayvWUo5dNd6sPH6/bo0/76OS5pdNKUJzdC8MZP4S8ahj/iNNTKLxIs0XbEwCVr7gneQkJRj9I06+k6b+tL/Yj/p1HfUZy6o6c+REl/vJY/Z4qoSY+1C958+fvzOnkfEqUfcSr7TLApmVY5z3WY051onH0WotTBpvrJfjq3n4vMllc5WPgxQXvTyGqo7ksfTG4dhUx2BOXBz7qblWY459xWOoR11LioH7ra4j11WZ+5mKnZXnVh1vtcvnkvtvne/qa/S4T52/U7HLc8nlUbmvkbHO2Y9eT13P1TGqxutz08rHujon4r6r8hzbOXOqxivF2MV96TGfv1HaNhUjjSGPFaE5unf/RIPWKSfV3iKlBU2qypYqJX/NOy52S5TmMbXQrVlzzt/7pPt+PhxCip1imE1qFOcd2kcYSLQaKQm2zNQaFyQvEGu4e4Bh6J+/902cD/vJdzJ7b5jnGEyEesJAoq2cTPJHJ1FLMCpKhjFp+mO01mKk+nmeWaf47tzzWssdVQzDn5TP3ykt7fydO17Oh/2kGE7l69FzDaEsDCRCCCGEEBoSBhIhhBBCCA0JA4kQQgghhIaEgUQIIYQQQkPCQCKEEEIIoSFhIBFCCCGE0JAwkAghhBBCaEgYSIQQQgghNCQMJEIIIYQQGhIGEiGEEEIIDQkDiRBCCCGEhoSBRAghhBBCQ/pgAwAAAAAwAAYSAAAAAIbAQAIAAADAEBhIAAAAABgCAwkAAAAAQ2AgAQAAAGAIDCQAAAAADIGBBAAAAIAhMJAAAAAAMAQGEgAAAACGwEACAAAAwBAYSAAAAAAYYrEG8smTJ5vnz5+/fXVYjtn3XbLWeQEAAMDtgoEswEACAAAAtFmcgZQBevDgwXuSOTKvX7/ePHr06KYsm6YXL16809blc/ru8fLly835+fnm1atXN/t//Pjx5s2bN29rvLsP1dFYhepcXFxsx+a2sVzk8amu0XPt6/r6evPw4cNtuce977wAAAAAIqu7AykjJiPlMptJmy29lsmT2WvR6nsK9SnzJul53rfNoU2h9mGD6XG7rdA4bPJyW72OdfVaptB1tP3s7OymXOw6LwAAAIDI6gykDJPu5OW7fjZiNnU9I7Wr0dK+ZepsGEXsS89jmcZiM2sDGcv1XNtUL5piE/tW3Wgoq/52nRcAAABAZHUGUoYpf1Qrqb6x0dP2eFfP7Gq01K8MYe5P2NDlcdn0tQykxve73/3uvTKRDaTqROOcwUACAADAIVilgZwyUhH1kU3kMQ1kNoGmZSC1rboD6frehoEEAACA22KxBlJGqDJMMltTH1FHZLyygWz1PUXPQAr1W93xFNlA5nnktnnccwzkrvMCAAAAiCzWQNpw+aNg3V0zNl/xo2IbMz3G7fHvBk2v7x5TBlLIxMX929DlfUo2jya2zeOeYyB3nRcAAABAZLEGcm3Y3NnoAgAAAJwqGMgTAQMJAAAASwEDeSJgIAEAAGApYCABAAAAYAgMJAAAAAAMgYEEAAAAgCEwkAAAAAAwBAYSVo+/P3OXf1Dyd4pOfccmTBO/n7X6/lW97v3E6CHgu1ABAA4DBhJWDwbytFBM9YX72UCaOV/Ivys6F1rHkmN9f1Au4DgD7AcGEgBulbs0kK3fg5ehkHm8vLzEWNwDMJAA+4OBhKMiE6BErYTtjydj4rZZePXq1c3Hmzmxx59wrD7ajOWS7zT6jpK2VR+ZilZbEcuqjzrVn+eU66itpG0uj33fFYqrj4fHlmOjMo+5iluMqxSPl/uvyoza34WB9Nh0XCLaj2KhcpVVY54ixkyq9tGKWa/Msdjn+jgWGoPGUu1bj/kYK8aOi8+/OPYYMz2XWteP+m1de72Y5XbWbcYNYC1gIOGoeHF0gvai48XCCd1GxfW9WOgxJne1iwuoXk8lf5VVhsULTa+t8EIWyeP0a89Lj1qY4uu88N8FcdH32DQ3z08xOTs7u4lVjn+eZ+bq6uqmbT7WRn1Ux8PMPS5z8ZijYZAqc7zLcZqaTy9mOUZ+HY/HPtfHMdG+8nVhqpioruepcesYtM471VN5rO955hj4tetOxUzo+W3FCWCtYCDhqFQLSVx4nOxjco8LjZ7HsthftTBUVGMQ1b4r4niNtuUFKC5KuY32pTFoLHdJNigij9uxF67vGFXz7pHjIFrHwxwrVp5LnF9mdH7C52Gr316fiqvaxrnG+VfnqOLpfel5LJuK7SHRGPLYTTWOOO54zgkfm3iexfMm9lfFM/Y3FTOR9w8A42Ag4ahUC0lcALTdi2XGi0q8ayT5zoIU71q0qMZgtJC439aCkhczUW2Li1Iu783zNnFM4+Ia0ZhjrC3XV3med0Tz1PGJbXP93vEQx4qV5x6NRCaem5F4nki5Tpx3NlW9mMVzxsT592Lh+cRxSb4+bgPNy/uNca2Oseq6Tp635+JyPcaYqT+/WcxlIvbXi5mp4g4AY2Ag4ahUC0lcAOYskEr2FVXfFXPraUzVolItWNqW68Ztuc2cRe02mIqpxqyxt6hiYTS3fCeuqj91PI4VK899an7VOTCC+ogmsoqB0XHIhjNu68Vi6ljeJhpfPPZ6nY9xPLc05hjnPJccs9ifyvIxitvmnD95/wAwDgYSjkpeSPQYP16aSvZaGPICG9EiM7UQ5DG0qBYmkRczkeehfWicrQVwap63heamOXqcGW3v3cHK847kGLhujt3U8ThWrDx3HZsWrXNgBM0/nrNzYuYx5TFOxUL1etfHbZHH7Xl5ztoe71Jqe4xznodex/MmXuc5nnlfc84f1Znz6QUAtMFAwlFxcvfHXFJcSOckey8+Vl7gtbjEcvevx7hdiuYo9xsXMC+IsVzKplD9ucyLo8gL4Jx53gaeVzwGmRy3GBeR552NQGynr8VxHEaPh5T3vQ+eezxOonWs47x65HnFOZlezDS/eI2Mnjc5bnPHvQ9VzOK4RYyLyiTHfuocm5pTjmc8pnNiJuI+DnmeAdwXMJBwVJSUlczzggoA9xcZyJ7RlbnLhhQATgsMJBwVDCQAZDCQAMsHAwlHBQMJABkMJMDywUACAAAAwBAYSAAAAAAYAgMJAAAAAENgIAEAAABgCAwkAAAAAAyBgQQAAACAITCQAAAAADAEBhIAAAAAhsBAAgAAAMAQGEgAAAAAGAIDCQAAAABDYCABAAAAYAgMJAAAAAAMgYEEAAAAgCEwkAAAAAAwBAYSAAAAAIbAQAIAAADAEBhIAAAAABgCAwkAAAAAQ2AgAQAAAGAIDCQAAAAADIGBBAAAAIAhMJAAAAAAMAQGEra8fv168+jRo82DBw+2ev78+duSdaN5es6av+Iwl5cvX24ePnx40/7FixdvSzabN2/ebB4/fnxT9uTJk7cly2efmLXa5nhZiq/ivHSOETORz0FpKedanJek12LuuRDn3jpPFAuVx2tTeLukfWmfADAGBhJuErYTuBNzTrprQ/OLC7IWlbmLidqorWOkmJ2dnd0sYoql4+m6fr1k9olZbqt49Nrm+kvlmDHT+XZxcTGrr1NC88rziNdPJsdBr1um0ajO+fn5Vnpucgx1PCQAGAMDCe8lZ7H2pKrFQ4tINHVTi1ikMj+KV+wvsoZ47hOzqq3ONy3urba9eC6FY8dMj0s0kJpTvB5GzgXNVXPuxU/9Kad98cUX2xjaQHp7NJTqR/tWGQDMBwMJ7yVzvV77Rzt5wfLCUn3cVZFjJqptRttbZUthn5jZDMV61TazlkX92DFTv0s0kBq37iDaFOraaOWbfC749eXl5TaOVa7y9ZbjlY+HqLYBwDQYSLgxPkqyTsbX19fvJO214UVD89R8vaArDl7UemixiXeR9KgFUe0z6nfq47YlsG/MVCcu9HrtPjJz+zx1jh0zn3faJsmcLuWatbnTuKvrxuRYae5q423ux30oJs5d2UAK1Yv70/M1XJ8Atw0GEm4WpbhQKeHG12tDi0u+E1QtNj0cN8fu6dOn7yx0wgv83D5PmX1j5rqOmeJVfRSp13P/lODUua2YGZ1/SzCR8brwHKtxV+eC2qi+2hlvU/sY2yrW8ZhIV1dXN20BYD4YSNgm15y8tRDFd+lrwwtLNHyav+5c7GpcFK+4UHmRzKZyqRw6ZmpbLdz5DtGSua2YGfXpu2+nTD7GVZxEdS5Uc7SB/O1vf/vOHdkolWs/GfW3xD8DALhrMJCwTcQykE7Ufh3N0BrRYhU/utLrvMioTHVai4/JC53b5QVx6RwqZq1zTG3XcvfRHDtmRu3UPhuuU0RjjHP1/PMbsOpc8Dx9beXXEZe1YtbaBwBMg4GELV6c/G597ebRaNHp3aHwwpbLcrzy4qUF0mVWNBFLZteY6ZzqxcKL/RIM0CjHilnsV8rn4aniYx3HHnPO1Lkwdf0Z9xP7jjFTH+oLAMbBQAIAAADAEBhIAAAAABgCAwkAAAAAQ2AgAQAAAGAIDCQAAAAADIGBBAAAAIAhMJAAAAAAMAQGEgAAAACGwEACAAAAwBAYSLjBv4axxl8CabHrr1LkX9LIvxISf0FEWlNM9/0lD7ePvw4iiFmbVsyE4uS+8y/ZLJk4rzz3eK5M/UJPFe99jwcAYCDhLUqoWnwuLi7ujYHUIhQXD807L8D/8A9vn0yQ+4rYbCrGS2dOzFo4DpeXl9s+oiHIELM/MRUzX7fuS32v4frVvOI8YgwlzdnxVN0Y3xzvHKN9jgcA/BkMJGzfvWuBEmtZgKbwwhwNiuJwdnZ2czfjiy/+eIH88Qr527/dvuyiNufn5zeLUkYxjftaInNi1kPttHgrRpUZyhCzfsyqbVPn4VLIx743rxjPKt5qo7at8tgeAOaDgYR3uC8GMi4qfq3FWB9peUH+p3/abP7mbzabr77avuyiBakVt7yvpTInZnNwu14bYvYuVcyqGK0lbpqnY2TT17q+NNdsIGOc4rZDHQ8AwEBC4r4ZyOvr6+3i4gVEc493J3rExWfq77DWENNDxEw4btWCTcxqWjFTPzFOel6di0skXl+tWFXmUnW1TWV+7bgf6ngAAAYSEnlBWitxcfKiXN29mEtrgTd5UVsih4rZVKwMMfszrZjF/qWrq6tt39q+ZDRPG2HPsToXlKvydsfXMXn69On2b7tjX/seDwDAQELivhhILxrxroMWl/jx1iiKW+suhvpU30te2A8VMy/iUws2MfszIzGTWdJ+l0orZnn+ut60ber8ULn60+MxrnuA+woGEt7hvhhIoUUkftyn11pc4uKrMtXJ2zOq1/tD/LXE9RAxq8xABTH7M3Nipj7W8M8gmr/iEI+95h1jqLK55jHHbc7xAIBpMJBwk2T9kY+1hsV7Ci0enm+1iLQW9hyzuCCJ2K+0pljuGjMt4jEmlhd3YrZfzOYYqqXQu74cK5dZPl9izPJ1aaaOBwBMg4EEAAAAgCEwkAAAAAAwBAYSAAAAAIbAQAIAAADAEBhIAAAAABgCAwkAAAAAQ2AgAQAAAGAIDCQAAAAADIGBBAAAAIAhMJAAAAAAMAQGEgAAAACGwEACAAAAwBAYSAAAAAAYAgMJAAAAAENgIAEAAABgCAwkAAAAAAyBgQQAAACAITCQAAAAADAEBhIAAAAAhsBAAgAAAMAQGEgAAAAAGAIDCQAAAABDYCABAAAAYAgMJAAAAAAMgYEEAAAAgCEwkAAAR+b58+ebBw8ebPXo0aPN69ev35ZMM9V2n77vkt64X758uXn48OFNufTkyZO3pe+Xv3jx4m3J+2WPHz/evHnz5m3pn1BfvXIAmAYDCQBwRGRuokGSeZlrWnJbma7Ydp++75KpeckEXlxclPNQG7W1aVTds7Oz7WOFYhLNZ95XLgeAeWAgB3Hy8rvXnHiUlJScXB6TpMjtncjczklRKNG5fyXH8/PzzatXr27axyQo4jt6vQPPCVV9u1xSfZETqqi2AcAYvq59rYkpw2OqtsofygNqu0/fd8nUvIQeWwayyk3Kk7G/iLY7jzr/xjyrfWnfMU8DwDQYyEGePXt2k2hyMnJibL2bdf0q0bltz0DKFNoY5n1r29XV1fa5yElW9SpTKbQtLjoeSyshA8A8dJ1GY+TrVm/g4rVeUeWEuG2fvu+SqXkJzalnIHOOrbaJ3G+Omai2AcA0GMg9UdKy0VKSUgJXQqrIpi5SJdWYFJXcZABjedx3RvX9rtp9t+qK2FdsCwC7Y3NyfX29vQZt7nrXbkR1Ys7Qa/exb993SW9ewvlO26SYV1UW3/C6rnOlUD9uG/cjVC/W1fPWm2sAaIOBHCQmJsvJOifFTE5cEZs8J1Ch/lxfya1n6tw+jstJV9Lz2HdGZR679us5AcDu+NrT9ejrr7rWW+Tr+unTp9s7c8oH+/Z9l/TmVaF8FE2kXrut+lH7Vs5SLGLbGDdJn9yoD5cDwDwwkAP4nW5MzjJ4TlzarkSk5FihescykKoX9x3rz1lUVM93M3qJHADm42svmhtfa7tcY2qr/uJ1fai+75I4r4o5+a+V36Ziou2tj8sBoA0GcgAlmvjRiRKW3sE6gStR6Z1tTOgRtcsG1OTFwH2PGEjXdV/5HXt8XaE6mt/l5eXbLQCwL7qu4kekeq3rMxoW54a8PeL8EvPHnL5PnWpeEecz57dMzH0VvZgobqf+T0cApwoGchAlKn/0oaSkd65KUMbJ0HWyafNCEftwYotl2q6PZZwYVdYzkLlftc31NU6XS3Hcwn20EjkA7Ea89ioz42svl/mNpKRy1ctM9X2KTM2rl6tyjs15LPYt5ZjEvnN+BoD5YCDhBiXxnkkFAAAAEBhI2KJ36Hqnnt/NAwAAAGQwkPccG0d9nNP7OyIAAAAAg4EEAAAAgCEwkAAAAAAwBAYSAAAAAIbAQAIAAADAEBhIAAAAABgCAwkAAAAAQ2Ag4V6z769S+BdE1D7+okb+NYw1fUXSrjHLvyAixV8JibG01hK3Y8QsfgVXVOsXa06NXkymzoVcHn89K5fFc8yor145AEyDgYR7ixaduHBpURlZTNR+zmLthX4NX9K+T8zURnWjUYgojvpp0LUt5seMWSbv61TJ49S1EWPSOxfURm3Vh1Dd3u9ZK96SyfvK5QAwDwxkQAlJSUvJRcbg6upq+xiTjZOX373mxKN6qu/ymCTVv8qur69v3iHH9rnvuN85xHf00dhUi0reproek5XbrAkfp2jqphaiiNrrXJlTV+g4L91A7hsznUtq3zqn1MfaDOSxY5ZZwnlWxUTz08+oOia9c0Ht1D6W9eat7c6z2o/yms2n0L74CVeAcTCQASUVGSc9KuEo0bx69eqdxPbs2bObRJOTkROjk1XG/duYqU8vJDmpTvWVUR8yvCYm2SppxqSa96160YCuEcUkHlfHyMd/CrVT+8vLyxvD7Xhn8r6Wyr4xU33FSI8V6ndtBvLYMYv4nJxT9y5xvonzz9t650LMXabaJnK/+XiIahsATIOBDCjJKNko6SgZKSlNJRfXE2pvc1ih8mjMYnKr2qrergtCbhsTrPYb757pMd4RURuNRWNaK5qj4qO7wToGXtDj8eyhumrjuj6WcRFTmepIcftS2TdmPq8ck/wmRc/jXfDetbQUjh2zyNw+TwGNU/HQdePXjo3onQsqi/nKdeM15utTivsRqhfr6nkvrgBQg4EMKOk42TgZewFwcomJyXLSzkkxE/vPVGXaZzSBPdRO7eO4ctJ1X3oe391rm+p6HhrLGhbvHp6z4qT5CsfQr3tUx6vaZqbOjSWwb8wyatNbuBWzpZ+HtxUzvZ77sfgp4Bg4Vz19+vSdN7WZfC7otduqH7V3/sooZrFtPCaSPrlRH0s+zwDuAgxkQIlGiUTJrTKQkpJ3TPyuJ2L7il55TnKi2tZC44h9a6zRfDphq0+NNyZblzmhSqq3ZjznGId4rKfI8RW941vVXxr7xiwz1ZaYvU+rra5/aaloXopT61hPnQuaeytnTcVb29f2pxMAtwEGMhANgI1hTD5SfJev+jJbXhxUV4YvLhaRnsHIbauFp0dcQNw2m0/1pXfqqhe398a1ZhSPeDdHr3McVKY6eXs+Pvl1Jh6fJbNPzDKKR6uO40nM3qWKmdou6e5jxrmvZQCnzgVt750nVbzN0mMHcJdgIANTBlJou+/Sqa7euaqecTJ0nWjipoxabttLihmNTwuQ28oo5nfs7j/36wTttlYroa8JHTvPtzo2jmtVlo9XPA9iv9LIsTx1do2ZzqdeTHLMYjyXzrFiprpqs7TzK85L83Z+Nb1zoXfdiRyzHNPYd8zPADAGBhK2CbdauEiuAAAAUIGBhO078mwgdUcjbwMAAAAQGEi4+Ris97EPAAAAgMFAAgAAAMAQGEgAAAAAGAIDCQAAAABDYCABAAAAYIh7ayD9XWD6upq56Ctter9ocGj0n9D5O84AAAAA7hoM5IENpMryF3jvCgby+Pg8kEa/99Jf/uz2/s/16r/apeoLk5fIPjGbartP36fMoWIm6XVEeSKWj+S0u6QXk3xtSfHL0nN5nHPruozEmPGNEwC7wUfYAyjBYSDXQ/6ydMV77mKSzwWbxtbxyvtaKvvELLdVrGLbffo+ZfaNWayr8y3+9J5iqP5M3tepMnUuaH6t36dWG7VVHyLHJKP4xBjlfeVyAJjH4gykLvS8SCsRKCE4oTjB+B1mrB/LqjtCuW2spzKZhqurq5t3uE5EVbvY1mgsLlN9tTOeR2yf59oj9h33Wy0qeZvqek5WbrMmHOsYX8Vg7u/iqk5+o1Cdm6ZXthT2iVnVVrGzCd/3eJwq+85L7aK5iTET+bzS9nxenhpT54LQY8tAqp3ax7Le9RVjqP0or3mtEEuIGcApsjgDGZOBcUJSUsjJqUoYIicso77dv8pkqtzWfdlYVX33kpHqua3IiTDuW+h5KylmtF8ZWxP7rsYZ45hjpnrZ+K4NxSQef8dIxjnGqYVj5hj3YtY7J5bEPjFzvGK9uG3f43Gq7DsvtdN55WtT16zPOaE+3JfjGXPIKTJ1LgjNu2cg8xyrbSL3m4+HqLYBwDSLM5BKBE4UelTiiAmgSjxVcmklkmi0nHycvKs2HoNRmeqobkZ1Y9LM487tct8j5P5iDDQvxcjz0GO8I6I2MQ5rxLG/vr7eHmMvwqMxV121VbzisYvscxxPiX1jpjpq52vTsVMfhzoep8Yh5uU8pLZql9E+bEqXEqveuSCUi+InIvH6yvnKdWNs1I/bxv0I1Yt19Xztb5gBjsHiDKQucpmfr7/+envhP3v2bJtYlCT0GBNHVEwYwok9Jg0natdVWTZWuY3qxqStMtVxsjNxEYhy4qra5b57VP3npOv+9TyabG1TXe9LMewZojXgOStOXrQcQ7/ukc+VvAAaxXrpH8OaQ8XM5+fTp09v3sjs2/epsu+8FBvlCNV1u3htartziPelOqp7yvTOhQpdX3Hevt4k9aP2rVypGMW28ZhI+uRGfbgcAOaxOAOpi1wXuy56JQwZSCUIGyI9n5NA1U82g0KGwIlFikmpajNqIDW+iqrdiIFU3Tjv3F/cv/qM/boszrs1zrXgOU8d3xaKT1yUhPqKx0DouEhrYN+YZdRW/enx0H2fCvvOK58/sb9W3zovl3b9xnOhIuezjGLUmvNUvLU9vqEGgHks1kDqHacufCXPmGRVrgQak2pFlVSmklTVRvudm8BVL5sOk9upbjawPWIMvLDkfakvxU314nbtU/XvWwJVPOJHV3qd46Ay1cnbFbPY1jH3MRAqW8vdR7NPzCLVdTKn7yWyT8x0PsVtrqe4aZvK4jmXz8slUJ0LkWqeEW1vlYneeaQ4re0aBbgtFmcgnUycEJxQlSSME1J1R02PcbsUE64SUS533+p3ykCKuI+czFU39h0TW2znfnPfLRwHt5dRzGbYccnJ1jF1W6uV0NdEPB7VIuO4VmX5WMa4OqY51mtg15j1rgsz1fdS2TVmeq5tbivF6zLnulZcT42pcyFfW3pt8pxjmYh9SzmmsW/1E3MkAMxncQbymCiJZdOlbWt/h6qEm5OstpFcAQAAoAIDGahMk96trt1IaY7ZQOrOWd4GAAAAIDCQCRmn+PHHfbgLV31MhnkEAACAFhhIAAAAABgCAwkAAAAAQ2AgAQAAAGAIDCQAAAAADIGBBAAAAIAhMJAAAAAAMAQGEgAAAACGwEACAAAAwBAYSAAAAAAYAgMJAAAAAENgIAEAAABgCAwkAAAAAAyBgQQAAACAITCQAAAAADAEBhIAAAAAhsBAAgAAAMAQGEgAAAAAGAIDCQAAAABDYCABAAAAYAgMJAAAAAAMgYEEAAAAgCEwkAAAAAAwBAYSAAAAAIZYnIF88eLF5sGDB+/p0aNHm9evX9+UP3/+/G2Lzfb5kydP3r7qoz7UV+7XqB+XSQ8fPty8fPnybemfcT2Nx+SxxzGpD/UVy6XHjx9v3rx587YWAAAAwN2z2DuQMlUyV9EoCpm0s7OzzcXFxY3xmmsg3Wc0fWoX2+p5LK9Q+fn5+Vatuq3xR/K+AQAAAE6BVRpIbZeBtHmrDKS25buHutMo0xe35bZTBtJ3ML/44ov3zGhGfbUMZDUWAAAAgFNgtQby+vp6c3l5ud0210AK1fPH1v5YOZrAKQOpcqm6mxmZMojVmAEAAABOgdUaSBk03YWUQRs1Y+pDf3/YMpjxbxTj/lVXplD7bhlI1Xfb1pi4+wgAAACnzGoNpMr1XOUjBlL1YvtsEiMyerpbqfJsGFsGMqJ23lektR0AAADgFFi1gZTB03N9lD3HQOqOn/4BJ975U3/5P7Ej6ldjUJvqv6illhmMdyyNTWnPeAIAAADcJas2kELlH3/88XsGUtvzR9Q2gdG8xTuSGdWrPuYWHl/PCKrvalyt/QEAAACcAqs3kDaFcwykUPvW3UPfHXRZ785kZSC1z9h3HlNlYAEAAABOjcUaSAAAAAC4GzCQAAAAADAEBhIAAAAAhsBAAgAAAMAQGEgAAAAAGAIDCQAAAABDYCABAAAAYAgMJAAAAAAMsUgDmb+QW/IXivvLuKuyOeT2+Uu94xeNV19ELjy+3NZfLu72+YvEAQAAAJbAYg1ky3zJ0MXfs/avx8wxkTJ4FxcXN21lAKNJVF8ygP71GfUZf43GBlG/vV39nrXqexwj4wIAAAA4JVZvIIXqx58kFNrWuoNobPKyETR5X+pTdafaGc2Bu5AAAACwNDCQBzSQBgMJAAAAa2Y1fwNps5ZNnR5lFKfMXIXMXTaexh9XVwZwjoFU2ZSBBQAAADhFVnkHUsasMpcjaB8ygTKDFT1zOefO5a6mFgAAAOCuuRcfYY8y9fG29t0zlz0DafOofQAAAAAskXtrIFsmcV/zKFoGEvMIAAAAawADGerZ+MWPvyV/VG0DmMs9FhnGXCbZSKpeLuuZVQAAAIBTZJEGEgAAAADuDgwkAAAAAAyBgQQAAACAITCQAAAAADAEBhIAAAAAhsBAAgAAAMAQGEgAAAAAGAIDCQAAAABDLNJA6kvA8xdy+9dd/GXe8ddeel88Hml9UXj+zWvXq/rMY4vjEPnLxKufOwQAAAA4ZRZrIFuGUIZMv0RzcXFxY/rmGsgKtYtt1ZcMpfrPfWrf0WzKaMZfxcnjUP2pn0UEAAAAODVWaSBt8Hx3r6qvbVM/Iyhjd35+flNHj5eXl9vn6q/qM27L7VWmOkbbVY6BBAAAgCWxWgN5fX19Y/Z2NZC9/Wh7LlNf6tMmUeXxjqTG5o+ttU1lrf4BAAAATpXV/A2k7zbaQOqunu5CytT1jGCLfPcwUxlIYWOoMVXl6lcfW6vcRhMAAABgSaz2DqSMnJ6r7i4GUm3i3cNMZSB9BzLeYYx/46jtvutpI9nbBwAAAMApsmoDKZOm5/ooe8RA2typrxaVgczbbCI13vjczNkPAAAAwKmxagMpVPfjjz9+r762t/4GUmWxj4psFoVex3bVHcnYRttbYwAAAAA4VVZvIG3icv2WgYymL+M7hvFvL+PfOtokxrLYT26PeQQAAIAlskgDCQAAAAB3BwYSAAAAAIbAQAIAAADAEBhIAAAAABgCAwkAAAAAQ2AgAQAAAGAIDCQAAAAADIGBBAAAAIAhMJAAAAAAMMTiDKR+2SX+0oulX3jRL734l2RimX51ZgT/Ykzr5wxbv24j4vjyL83kX6pp/ZoOAAAAwCmz2DuQNmPZHMqwnZ2d3Rg3m8G5JlIGUPUvLy9LA6l+tP3i4uI9A5j3rbo2tn7tcYyOCwAAAOBUWL2BFKqTzaC25TuEMnUyhapXtVFdGUuhetlA5m02idXvaouqDwAAAIBTBwMZ6kWqNpFs/jwem0W/7n2EjoEEAACAJbJ6A6lHGcXWXcAW+xhIbbdxlCqTqHo9AwsAAABwqqzSQMqY+R9VpFHzKHY1kPmOo+q0xrjLuAAAAADumnvxEfYujBpI0TKV0SjaPOZxAwAAACyFe2sg1a73EfIuBlJGMd7x1GP8L2zMIwAAAKwBDGSo5z7jx9+SjaT/qzqXRyNpEylF8yhUL7aTeiYWAAAA4BRZrIEEAAAAgLsBAwkAAAAAQ2AgAQAAAGAIDCQAAAAADIGBBAAAAIAhMJAAAAAAMAQGEgAAAACGwEACAAAAwBAYSAAAAAAYAgMJAAAAAENgIAEAAABgCAwkAAAAAAyBgQQAAACAITCQAAAAADAEBhIAAAAAhsBAAgAAAMAQGEgAAAAAGAIDCQAAAABDYCABAAAAYAgMJAAAAAAMgYEEAAAAgCEwkAAAAAAwwGbz/wFhZh8wYiVcaQAAAABJRU5ErkJggg==)"
      ],
      "metadata": {
        "id": "BquBnmwcMdaJ"
      }
    },
    {
      "cell_type": "code",
      "source": [
        ""
      ],
      "metadata": {
        "id": "Y5YJ2spdMoQz"
      },
      "execution_count": null,
      "outputs": []
    }
  ],
  "metadata": {
    "colab": {
      "name": "heart2020RF.ipynb",
      "provenance": [],
      "collapsed_sections": [],
      "history_visible": true
    },
    "kernelspec": {
      "display_name": "Python 3",
      "name": "python3"
    },
    "language_info": {
      "name": "python"
    },
    "accelerator": "GPU"
  },
  "nbformat": 4,
  "nbformat_minor": 0
}